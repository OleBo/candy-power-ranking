{
 "cells": [
  {
   "cell_type": "markdown",
   "metadata": {
    "heading_collapsed": true
   },
   "source": [
    "# Overview\n",
    "\n",
    "In this notebook, we walk through the process of building a complete machine learning pipeline covering ingest, exploration, training, evaluation, deployment, and prediction. The machine learning model in TensorFlow will be developed on a small sample locally. The preprocessing operations will be implemented in Cloud Dataflow, so that the same preprocessing can be applied in streaming mode as well. The training of the model will then be distributed and scaled out on Cloud AI Platform. The trained model will be deployed as a microservice and predictions invoked from a web application.\n",
    "\n",
    "![alt text](outline.png \"outline\")\n",
    "\n",
    "\n",
    "This notebook consists of 8 parts:\n",
    "1. Explore, visualize a dataset\n",
    "2. Create sampled dataset\n",
    "3. Develop a Tensorflow model\n",
    "4. Create training and evaluation dataset\n",
    "5. Execute training\n",
    "6. Deploy prediction service\n",
    "7. Automate\n",
    "8. Invoke ML prediction\n",
    "\n"
   ]
  },
  {
   "cell_type": "markdown",
   "metadata": {},
   "source": [
    "# 1. Explore, visualize a dataset\n",
    "\n",
    "Illustrates:\n",
    "\n",
    "- Exploring a BigQuery dataset using AI Platform Notebooks."
   ]
  },
  {
   "cell_type": "code",
   "execution_count": 1,
   "metadata": {},
   "outputs": [],
   "source": [
    "# change these to try this notebook out\n",
    "BUCKET = 'lidldatascientistadvanalytics'\n",
    "PROJECT = 'lidldatascientistadvanalytics'\n",
    "REGION = 'us-central1'\n",
    "SESSION = '/.gcs/key/lidldatascientistadvanalytics-2bbc37c6fc90.json'"
   ]
  },
  {
   "cell_type": "code",
   "execution_count": 2,
   "metadata": {},
   "outputs": [],
   "source": [
    "import os\n",
    "os.environ['BUCKET'] = BUCKET\n",
    "os.environ['PROJECT'] = PROJECT\n",
    "os.environ['REGION'] = REGION\n",
    "os.environ['GOOGLE_APPLICATION_CREDENTIALS'] = os.environ['HOME'] + SESSION\n",
    "\n",
    "import sys\n",
    "import warnings\n",
    "\n",
    "#if not sys.warnoptions: warnings.simplefilter(\"ignore\")"
   ]
  },
  {
   "cell_type": "code",
   "execution_count": 3,
   "metadata": {},
   "outputs": [],
   "source": [
    "%%bash\n",
    "if ! gsutil ls | grep -q gs://${BUCKET}/; then\n",
    "  gsutil mb -l ${REGION} gs://${BUCKET}\n",
    "fi"
   ]
  },
  {
   "cell_type": "markdown",
   "metadata": {},
   "source": [
    "The data is \"The Ultimate Halloween Candy Power Ranking\" (What’s the most popular Halloween candy?). That was the question this dataset was collected to answer. Data was collected by creating a website where participants were shown [presenting two fun-sized candies and asked to click on the one they would prefer to receive](http://walthickey.com/2017/10/18/whats-the-best-halloween-candy/). In total, more than 269 thousand votes were collected from 8,371 different IP addresses.\n",
    "\n",
    "The dataset includes attributes for each candy along with its ranking. For binary variables, 1 means yes, 0 means no. The data contains the following fields:\n",
    "\n",
    "- chocolate: Does it contain chocolate?\n",
    "- fruity: Is it fruit flavored?\n",
    "- caramel: Is there caramel in the candy?\n",
    "- peanutalmondy: Does it contain peanuts, peanut butter or almonds?\n",
    "- nougat: Does it contain nougat?\n",
    "- crispedricewafer: Does it contain crisped rice, wafers, or a cookie component?\n",
    "- hard: Is it a hard candy?\n",
    "- bar: Is it a candy bar?\n",
    "- pluribus: Is it one of many candies in a bag or box?\n",
    "- sugarpercent: The percentile of sugar it falls under within the data set.\n",
    "- pricepercent: The unit price percentile compared to the rest of the set.\n",
    "- winpercent: The overall win percentage according to 269,000 matchups.\n",
    "\n",
    "My goal is to predict the ranking of a new candy given a number of factors about the attributes. Later, we will want to split the data into training and eval datasets. \n",
    "\n"
   ]
  },
  {
   "cell_type": "code",
   "execution_count": 4,
   "metadata": {},
   "outputs": [],
   "source": [
    "# Create SQL query using candy_data\n",
    "query = \"\"\"\n",
    "SELECT\n",
    "    competitorname, \n",
    "    chocolate, \n",
    "    fruity, \n",
    "    caramel, \n",
    "    peanutyalmondy, \n",
    "    nougat, \n",
    "    crispedricewafer, \n",
    "    hard, \n",
    "    bar, \n",
    "    pluribus, \n",
    "    sugarpercent, \n",
    "    pricepercent, \n",
    "    winpercent\n",
    "FROM\n",
    "  lidldatascientistadvanalytics.candy_data.original\n",
    "ORDER BY winpercent DESC\n",
    "\"\"\""
   ]
  },
  {
   "cell_type": "code",
   "execution_count": 5,
   "metadata": {},
   "outputs": [
    {
     "data": {
      "text/html": [
       "<div>\n",
       "<style scoped>\n",
       "    .dataframe tbody tr th:only-of-type {\n",
       "        vertical-align: middle;\n",
       "    }\n",
       "\n",
       "    .dataframe tbody tr th {\n",
       "        vertical-align: top;\n",
       "    }\n",
       "\n",
       "    .dataframe thead th {\n",
       "        text-align: right;\n",
       "    }\n",
       "</style>\n",
       "<table border=\"1\" class=\"dataframe\">\n",
       "  <thead>\n",
       "    <tr style=\"text-align: right;\">\n",
       "      <th></th>\n",
       "      <th>competitorname</th>\n",
       "      <th>chocolate</th>\n",
       "      <th>fruity</th>\n",
       "      <th>caramel</th>\n",
       "      <th>peanutyalmondy</th>\n",
       "      <th>nougat</th>\n",
       "      <th>crispedricewafer</th>\n",
       "      <th>hard</th>\n",
       "      <th>bar</th>\n",
       "      <th>pluribus</th>\n",
       "      <th>sugarpercent</th>\n",
       "      <th>pricepercent</th>\n",
       "      <th>winpercent</th>\n",
       "    </tr>\n",
       "  </thead>\n",
       "  <tbody>\n",
       "    <tr>\n",
       "      <td>0</td>\n",
       "      <td>ReeseÕs Peanut Butter cup</td>\n",
       "      <td>1</td>\n",
       "      <td>0</td>\n",
       "      <td>0</td>\n",
       "      <td>1</td>\n",
       "      <td>0</td>\n",
       "      <td>0</td>\n",
       "      <td>0</td>\n",
       "      <td>0</td>\n",
       "      <td>0</td>\n",
       "      <td>0.720</td>\n",
       "      <td>0.651</td>\n",
       "      <td>84.180290</td>\n",
       "    </tr>\n",
       "    <tr>\n",
       "      <td>1</td>\n",
       "      <td>ReeseÕs Miniatures</td>\n",
       "      <td>1</td>\n",
       "      <td>0</td>\n",
       "      <td>0</td>\n",
       "      <td>1</td>\n",
       "      <td>0</td>\n",
       "      <td>0</td>\n",
       "      <td>0</td>\n",
       "      <td>0</td>\n",
       "      <td>0</td>\n",
       "      <td>0.034</td>\n",
       "      <td>0.279</td>\n",
       "      <td>81.866257</td>\n",
       "    </tr>\n",
       "    <tr>\n",
       "      <td>2</td>\n",
       "      <td>Twix</td>\n",
       "      <td>1</td>\n",
       "      <td>0</td>\n",
       "      <td>1</td>\n",
       "      <td>0</td>\n",
       "      <td>0</td>\n",
       "      <td>1</td>\n",
       "      <td>0</td>\n",
       "      <td>1</td>\n",
       "      <td>0</td>\n",
       "      <td>0.546</td>\n",
       "      <td>0.906</td>\n",
       "      <td>81.642914</td>\n",
       "    </tr>\n",
       "    <tr>\n",
       "      <td>3</td>\n",
       "      <td>Kit Kat</td>\n",
       "      <td>1</td>\n",
       "      <td>0</td>\n",
       "      <td>0</td>\n",
       "      <td>0</td>\n",
       "      <td>0</td>\n",
       "      <td>1</td>\n",
       "      <td>0</td>\n",
       "      <td>1</td>\n",
       "      <td>0</td>\n",
       "      <td>0.313</td>\n",
       "      <td>0.511</td>\n",
       "      <td>76.768600</td>\n",
       "    </tr>\n",
       "    <tr>\n",
       "      <td>4</td>\n",
       "      <td>Snickers</td>\n",
       "      <td>1</td>\n",
       "      <td>0</td>\n",
       "      <td>1</td>\n",
       "      <td>1</td>\n",
       "      <td>1</td>\n",
       "      <td>0</td>\n",
       "      <td>0</td>\n",
       "      <td>1</td>\n",
       "      <td>0</td>\n",
       "      <td>0.546</td>\n",
       "      <td>0.651</td>\n",
       "      <td>76.673782</td>\n",
       "    </tr>\n",
       "  </tbody>\n",
       "</table>\n",
       "</div>"
      ],
      "text/plain": [
       "              competitorname  chocolate  fruity  caramel  peanutyalmondy  \\\n",
       "0  ReeseÕs Peanut Butter cup          1       0        0               1   \n",
       "1         ReeseÕs Miniatures          1       0        0               1   \n",
       "2                       Twix          1       0        1               0   \n",
       "3                    Kit Kat          1       0        0               0   \n",
       "4                   Snickers          1       0        1               1   \n",
       "\n",
       "   nougat  crispedricewafer  hard  bar  pluribus  sugarpercent  pricepercent  \\\n",
       "0       0                 0     0    0         0         0.720         0.651   \n",
       "1       0                 0     0    0         0         0.034         0.279   \n",
       "2       0                 1     0    1         0         0.546         0.906   \n",
       "3       0                 1     0    1         0         0.313         0.511   \n",
       "4       1                 0     0    1         0         0.546         0.651   \n",
       "\n",
       "   winpercent  \n",
       "0   84.180290  \n",
       "1   81.866257  \n",
       "2   81.642914  \n",
       "3   76.768600  \n",
       "4   76.673782  "
      ]
     },
     "execution_count": 5,
     "metadata": {},
     "output_type": "execute_result"
    }
   ],
   "source": [
    "# Call BigQuery and examine in dataframe\n",
    "from google.cloud import bigquery\n",
    "df = bigquery.Client().query(query + \" LIMIT 10\").to_dataframe()\n",
    "df.head()"
   ]
  },
  {
   "cell_type": "markdown",
   "metadata": {},
   "source": [
    "Let's write a query to find the unique values for each of the columns and the count of those values. This is important to ensure that we have enough examples of each data value, and to verify our hunch that the parameter has predictive value."
   ]
  },
  {
   "cell_type": "code",
   "execution_count": 6,
   "metadata": {},
   "outputs": [],
   "source": [
    "# Create function that finds the number of records and the average weight for each value of the chosen column\n",
    "def get_distinct_values(column_name):\n",
    "  sql = \"\"\"\n",
    "SELECT\n",
    "  {0},\n",
    "  COUNT(1) AS num_candies,\n",
    "  AVG(winpercent) AS avg_rank\n",
    "FROM\n",
    "  lidldatascientistadvanalytics.candy_data.original\n",
    "GROUP BY\n",
    "  {0}\n",
    "  \"\"\".format(column_name)\n",
    "  return bigquery.Client().query(sql).to_dataframe()"
   ]
  },
  {
   "cell_type": "code",
   "execution_count": 7,
   "metadata": {},
   "outputs": [
    {
     "data": {
      "image/png": "[encoded data removed]",
      "text/plain": [
       "<Figure size 432x288 with 1 Axes>"
      ]
     },
     "metadata": {
      "needs_background": "light"
     },
     "output_type": "display_data"
    },
    {
     "data": {
      "image/png": "[encoded data removed]",
      "text/plain": [
       "<Figure size 432x288 with 1 Axes>"
      ]
     },
     "metadata": {
      "needs_background": "light"
     },
     "output_type": "display_data"
    }
   ],
   "source": [
    "# Bar plot to see is_male with avg_wt linear and num_babies logarithmic\n",
    "%matplotlib inline\n",
    "df = get_distinct_values('chocolate')\n",
    "df.plot(x='chocolate', y='num_candies', kind='bar');\n",
    "df.plot(x='chocolate', y='avg_rank', kind='bar');"
   ]
  },
  {
   "cell_type": "code",
   "execution_count": 8,
   "metadata": {},
   "outputs": [
    {
     "data": {
      "image/png": "[encoded data removed]",
      "text/plain": [
       "<Figure size 432x288 with 1 Axes>"
      ]
     },
     "metadata": {
      "needs_background": "light"
     },
     "output_type": "display_data"
    },
    {
     "data": {
      "image/png": "[encoded data removed]",
      "text/plain": [
       "<Figure size 432x288 with 1 Axes>"
      ]
     },
     "metadata": {
      "needs_background": "light"
     },
     "output_type": "display_data"
    }
   ],
   "source": [
    "# Line plots to see mother_age with avg_wt linear and num_babies logarithmic\n",
    "df = get_distinct_values('pricepercent')\n",
    "df = df.sort_values('pricepercent')\n",
    "df.plot(x='pricepercent', y='num_candies');\n",
    "df.plot(x='pricepercent', y='avg_rank');"
   ]
  },
  {
   "cell_type": "markdown",
   "metadata": {},
   "source": [
    "All these factors seem to play a part in the candy ranking. Chocolate is more popular on average. More expensive candies tend to be more popular. Preemies weigh in lower as do babies born to single moms. In addition, it is important to check whether you have enough data (number of candies) for each input value. Otherwise, the model prediction against input values that doesn't have enough data may not be reliable.\n",
    "\n",
    "In the next section, I will develop a machine learning model to combine all of these factors to come up with a prediction of a candies ranking."
   ]
  },
  {
   "cell_type": "markdown",
   "metadata": {},
   "source": [
    "# 2. Create sampled dataset\n",
    "\n",
    "Illustrates:\n",
    "\n",
    "- Sampling a BigQuery dataset to create datasets for ML\n",
    "- Preprocessing with Pandas\n",
    "\n",
    "Let's sample the BigQuery data to create smaller datasets. "
   ]
  },
  {
   "cell_type": "code",
   "execution_count": 9,
   "metadata": {},
   "outputs": [],
   "source": [
    "# Create SQL query using candy_data\n",
    "query = \"\"\"\n",
    "SELECT\n",
    "    ABS(FARM_FINGERPRINT(competitorname)) AS hashname,\n",
    "    chocolate, \n",
    "    fruity, \n",
    "    caramel, \n",
    "    peanutyalmondy, \n",
    "    nougat, \n",
    "    crispedricewafer, \n",
    "    hard, \n",
    "    bar, \n",
    "    pluribus, \n",
    "    sugarpercent, \n",
    "    pricepercent, \n",
    "    winpercent\n",
    "FROM\n",
    "  lidldatascientistadvanalytics.candy_data.original\n",
    "\"\"\""
   ]
  },
  {
   "cell_type": "code",
   "execution_count": 10,
   "metadata": {},
   "outputs": [
    {
     "name": "stdout",
     "output_type": "stream",
     "text": [
      "There are 85 unique hashnames.\n"
     ]
    },
    {
     "data": {
      "text/html": [
       "<div>\n",
       "<style scoped>\n",
       "    .dataframe tbody tr th:only-of-type {\n",
       "        vertical-align: middle;\n",
       "    }\n",
       "\n",
       "    .dataframe tbody tr th {\n",
       "        vertical-align: top;\n",
       "    }\n",
       "\n",
       "    .dataframe thead th {\n",
       "        text-align: right;\n",
       "    }\n",
       "</style>\n",
       "<table border=\"1\" class=\"dataframe\">\n",
       "  <thead>\n",
       "    <tr style=\"text-align: right;\">\n",
       "      <th></th>\n",
       "      <th>hashname</th>\n",
       "      <th>num_candies</th>\n",
       "    </tr>\n",
       "  </thead>\n",
       "  <tbody>\n",
       "    <tr>\n",
       "      <td>0</td>\n",
       "      <td>7046859833195853823</td>\n",
       "      <td>1</td>\n",
       "    </tr>\n",
       "    <tr>\n",
       "      <td>1</td>\n",
       "      <td>9167499499902123141</td>\n",
       "      <td>1</td>\n",
       "    </tr>\n",
       "    <tr>\n",
       "      <td>2</td>\n",
       "      <td>1631755363487315696</td>\n",
       "      <td>1</td>\n",
       "    </tr>\n",
       "    <tr>\n",
       "      <td>3</td>\n",
       "      <td>1606999616445289157</td>\n",
       "      <td>1</td>\n",
       "    </tr>\n",
       "    <tr>\n",
       "      <td>4</td>\n",
       "      <td>5825011382060312997</td>\n",
       "      <td>1</td>\n",
       "    </tr>\n",
       "  </tbody>\n",
       "</table>\n",
       "</div>"
      ],
      "text/plain": [
       "              hashname  num_candies\n",
       "0  7046859833195853823            1\n",
       "1  9167499499902123141            1\n",
       "2  1631755363487315696            1\n",
       "3  1606999616445289157            1\n",
       "4  5825011382060312997            1"
      ]
     },
     "execution_count": 10,
     "metadata": {},
     "output_type": "execute_result"
    }
   ],
   "source": [
    "# Call BigQuery but GROUP BY the hashname and see number of records for each group to enable us to get the correct train and evaluation percentages\n",
    "df = bigquery.Client().query(\"SELECT hashname, COUNT(winpercent) AS num_candies FROM (\" + query + \") GROUP BY hashname ORDER BY num_candies\").to_dataframe()\n",
    "print(\"There are {} unique hashnames.\".format(len(df)))\n",
    "df.head()"
   ]
  },
  {
   "cell_type": "markdown",
   "metadata": {},
   "source": [
    "competitorname seems to be unique. Let's get a well distributed portion (half) of the data in such a way that the test and train sets do not overlap:"
   ]
  },
  {
   "cell_type": "code",
   "execution_count": 11,
   "metadata": {},
   "outputs": [
    {
     "name": "stdout",
     "output_type": "stream",
     "text": [
      "There are 36 examples in the train dataset and 8 in the eval dataset\n"
     ]
    }
   ],
   "source": [
    "# Added the RAND() so that we can now subsample from each of the hashnames to get approximately the record counts we want\n",
    "trainQuery = \"SELECT * FROM (\" + query + \") WHERE MOD(hashname, 4) < 3 AND RAND() < 0.5\"\n",
    "evalQuery = \"SELECT * FROM (\" + query + \") WHERE MOD(hashname, 4) = 3 AND RAND() < 0.5\"\n",
    "traindf = bigquery.Client().query(trainQuery).to_dataframe()\n",
    "evaldf = bigquery.Client().query(evalQuery).to_dataframe()\n",
    "print(\"There are {} examples in the train dataset and {} in the eval dataset\".format(len(traindf), len(evaldf)))"
   ]
  },
  {
   "cell_type": "markdown",
   "metadata": {},
   "source": [
    "## Preprocess data using Pandas"
   ]
  },
  {
   "cell_type": "code",
   "execution_count": 12,
   "metadata": {},
   "outputs": [
    {
     "data": {
      "text/html": [
       "<div>\n",
       "<style scoped>\n",
       "    .dataframe tbody tr th:only-of-type {\n",
       "        vertical-align: middle;\n",
       "    }\n",
       "\n",
       "    .dataframe tbody tr th {\n",
       "        vertical-align: top;\n",
       "    }\n",
       "\n",
       "    .dataframe thead th {\n",
       "        text-align: right;\n",
       "    }\n",
       "</style>\n",
       "<table border=\"1\" class=\"dataframe\">\n",
       "  <thead>\n",
       "    <tr style=\"text-align: right;\">\n",
       "      <th></th>\n",
       "      <th>hashname</th>\n",
       "      <th>chocolate</th>\n",
       "      <th>fruity</th>\n",
       "      <th>caramel</th>\n",
       "      <th>peanutyalmondy</th>\n",
       "      <th>nougat</th>\n",
       "      <th>crispedricewafer</th>\n",
       "      <th>hard</th>\n",
       "      <th>bar</th>\n",
       "      <th>pluribus</th>\n",
       "      <th>sugarpercent</th>\n",
       "      <th>pricepercent</th>\n",
       "      <th>winpercent</th>\n",
       "    </tr>\n",
       "  </thead>\n",
       "  <tbody>\n",
       "    <tr>\n",
       "      <td>0</td>\n",
       "      <td>9167499499902123141</td>\n",
       "      <td>0</td>\n",
       "      <td>0</td>\n",
       "      <td>0</td>\n",
       "      <td>0</td>\n",
       "      <td>0</td>\n",
       "      <td>0</td>\n",
       "      <td>0</td>\n",
       "      <td>0</td>\n",
       "      <td>0</td>\n",
       "      <td>0.011</td>\n",
       "      <td>0.511</td>\n",
       "      <td>46.116505</td>\n",
       "    </tr>\n",
       "    <tr>\n",
       "      <td>1</td>\n",
       "      <td>1631755363487315696</td>\n",
       "      <td>0</td>\n",
       "      <td>1</td>\n",
       "      <td>0</td>\n",
       "      <td>0</td>\n",
       "      <td>0</td>\n",
       "      <td>0</td>\n",
       "      <td>0</td>\n",
       "      <td>0</td>\n",
       "      <td>0</td>\n",
       "      <td>0.906</td>\n",
       "      <td>0.511</td>\n",
       "      <td>52.341465</td>\n",
       "    </tr>\n",
       "    <tr>\n",
       "      <td>2</td>\n",
       "      <td>1606999616445289157</td>\n",
       "      <td>0</td>\n",
       "      <td>1</td>\n",
       "      <td>1</td>\n",
       "      <td>0</td>\n",
       "      <td>0</td>\n",
       "      <td>0</td>\n",
       "      <td>0</td>\n",
       "      <td>0</td>\n",
       "      <td>0</td>\n",
       "      <td>0.604</td>\n",
       "      <td>0.325</td>\n",
       "      <td>34.517681</td>\n",
       "    </tr>\n",
       "    <tr>\n",
       "      <td>3</td>\n",
       "      <td>7515611997518725754</td>\n",
       "      <td>0</td>\n",
       "      <td>1</td>\n",
       "      <td>0</td>\n",
       "      <td>0</td>\n",
       "      <td>0</td>\n",
       "      <td>0</td>\n",
       "      <td>1</td>\n",
       "      <td>0</td>\n",
       "      <td>0</td>\n",
       "      <td>0.046</td>\n",
       "      <td>0.104</td>\n",
       "      <td>39.141056</td>\n",
       "    </tr>\n",
       "    <tr>\n",
       "      <td>4</td>\n",
       "      <td>7524574358447315246</td>\n",
       "      <td>0</td>\n",
       "      <td>1</td>\n",
       "      <td>0</td>\n",
       "      <td>0</td>\n",
       "      <td>0</td>\n",
       "      <td>0</td>\n",
       "      <td>0</td>\n",
       "      <td>0</td>\n",
       "      <td>0</td>\n",
       "      <td>0.267</td>\n",
       "      <td>0.279</td>\n",
       "      <td>52.911392</td>\n",
       "    </tr>\n",
       "  </tbody>\n",
       "</table>\n",
       "</div>"
      ],
      "text/plain": [
       "              hashname  chocolate  fruity  caramel  peanutyalmondy  nougat  \\\n",
       "0  9167499499902123141          0       0        0               0       0   \n",
       "1  1631755363487315696          0       1        0               0       0   \n",
       "2  1606999616445289157          0       1        1               0       0   \n",
       "3  7515611997518725754          0       1        0               0       0   \n",
       "4  7524574358447315246          0       1        0               0       0   \n",
       "\n",
       "   crispedricewafer  hard  bar  pluribus  sugarpercent  pricepercent  \\\n",
       "0                 0     0    0         0         0.011         0.511   \n",
       "1                 0     0    0         0         0.906         0.511   \n",
       "2                 0     0    0         0         0.604         0.325   \n",
       "3                 0     1    0         0         0.046         0.104   \n",
       "4                 0     0    0         0         0.267         0.279   \n",
       "\n",
       "   winpercent  \n",
       "0   46.116505  \n",
       "1   52.341465  \n",
       "2   34.517681  \n",
       "3   39.141056  \n",
       "4   52.911392  "
      ]
     },
     "execution_count": 12,
     "metadata": {},
     "output_type": "execute_result"
    }
   ],
   "source": [
    "traindf.head()\n"
   ]
  },
  {
   "cell_type": "markdown",
   "metadata": {},
   "source": [
    "Also notice that there may be some very important numeric fields that are missing in some rows (the count in Pandas doesn't count missing data)"
   ]
  },
  {
   "cell_type": "code",
   "execution_count": 13,
   "metadata": {},
   "outputs": [
    {
     "data": {
      "text/html": [
       "<div>\n",
       "<style scoped>\n",
       "    .dataframe tbody tr th:only-of-type {\n",
       "        vertical-align: middle;\n",
       "    }\n",
       "\n",
       "    .dataframe tbody tr th {\n",
       "        vertical-align: top;\n",
       "    }\n",
       "\n",
       "    .dataframe thead th {\n",
       "        text-align: right;\n",
       "    }\n",
       "</style>\n",
       "<table border=\"1\" class=\"dataframe\">\n",
       "  <thead>\n",
       "    <tr style=\"text-align: right;\">\n",
       "      <th></th>\n",
       "      <th>hashname</th>\n",
       "      <th>chocolate</th>\n",
       "      <th>fruity</th>\n",
       "      <th>caramel</th>\n",
       "      <th>peanutyalmondy</th>\n",
       "      <th>nougat</th>\n",
       "      <th>crispedricewafer</th>\n",
       "      <th>hard</th>\n",
       "      <th>bar</th>\n",
       "      <th>pluribus</th>\n",
       "      <th>sugarpercent</th>\n",
       "      <th>pricepercent</th>\n",
       "      <th>winpercent</th>\n",
       "    </tr>\n",
       "  </thead>\n",
       "  <tbody>\n",
       "    <tr>\n",
       "      <td>count</td>\n",
       "      <td>3.600000e+01</td>\n",
       "      <td>36.000000</td>\n",
       "      <td>36.000000</td>\n",
       "      <td>36.000000</td>\n",
       "      <td>36.000000</td>\n",
       "      <td>36.000000</td>\n",
       "      <td>36.000000</td>\n",
       "      <td>36.000000</td>\n",
       "      <td>36.000000</td>\n",
       "      <td>36.000000</td>\n",
       "      <td>36.000000</td>\n",
       "      <td>36.000000</td>\n",
       "      <td>36.000000</td>\n",
       "    </tr>\n",
       "    <tr>\n",
       "      <td>mean</td>\n",
       "      <td>5.035438e+18</td>\n",
       "      <td>0.416667</td>\n",
       "      <td>0.472222</td>\n",
       "      <td>0.194444</td>\n",
       "      <td>0.194444</td>\n",
       "      <td>0.083333</td>\n",
       "      <td>0.027778</td>\n",
       "      <td>0.194444</td>\n",
       "      <td>0.194444</td>\n",
       "      <td>0.527778</td>\n",
       "      <td>0.453278</td>\n",
       "      <td>0.457222</td>\n",
       "      <td>49.842477</td>\n",
       "    </tr>\n",
       "    <tr>\n",
       "      <td>std</td>\n",
       "      <td>2.607820e+18</td>\n",
       "      <td>0.500000</td>\n",
       "      <td>0.506309</td>\n",
       "      <td>0.401386</td>\n",
       "      <td>0.401386</td>\n",
       "      <td>0.280306</td>\n",
       "      <td>0.166667</td>\n",
       "      <td>0.401386</td>\n",
       "      <td>0.401386</td>\n",
       "      <td>0.506309</td>\n",
       "      <td>0.300056</td>\n",
       "      <td>0.279452</td>\n",
       "      <td>15.423107</td>\n",
       "    </tr>\n",
       "    <tr>\n",
       "      <td>min</td>\n",
       "      <td>2.200173e+17</td>\n",
       "      <td>0.000000</td>\n",
       "      <td>0.000000</td>\n",
       "      <td>0.000000</td>\n",
       "      <td>0.000000</td>\n",
       "      <td>0.000000</td>\n",
       "      <td>0.000000</td>\n",
       "      <td>0.000000</td>\n",
       "      <td>0.000000</td>\n",
       "      <td>0.000000</td>\n",
       "      <td>0.011000</td>\n",
       "      <td>0.058000</td>\n",
       "      <td>22.445341</td>\n",
       "    </tr>\n",
       "    <tr>\n",
       "      <td>25%</td>\n",
       "      <td>2.491026e+18</td>\n",
       "      <td>0.000000</td>\n",
       "      <td>0.000000</td>\n",
       "      <td>0.000000</td>\n",
       "      <td>0.000000</td>\n",
       "      <td>0.000000</td>\n",
       "      <td>0.000000</td>\n",
       "      <td>0.000000</td>\n",
       "      <td>0.000000</td>\n",
       "      <td>0.000000</td>\n",
       "      <td>0.214250</td>\n",
       "      <td>0.264250</td>\n",
       "      <td>37.911778</td>\n",
       "    </tr>\n",
       "    <tr>\n",
       "      <td>50%</td>\n",
       "      <td>5.408639e+18</td>\n",
       "      <td>0.000000</td>\n",
       "      <td>0.000000</td>\n",
       "      <td>0.000000</td>\n",
       "      <td>0.000000</td>\n",
       "      <td>0.000000</td>\n",
       "      <td>0.000000</td>\n",
       "      <td>0.000000</td>\n",
       "      <td>0.000000</td>\n",
       "      <td>1.000000</td>\n",
       "      <td>0.447500</td>\n",
       "      <td>0.488000</td>\n",
       "      <td>51.344505</td>\n",
       "    </tr>\n",
       "    <tr>\n",
       "      <td>75%</td>\n",
       "      <td>7.099548e+18</td>\n",
       "      <td>1.000000</td>\n",
       "      <td>1.000000</td>\n",
       "      <td>0.000000</td>\n",
       "      <td>0.000000</td>\n",
       "      <td>0.000000</td>\n",
       "      <td>0.000000</td>\n",
       "      <td>0.000000</td>\n",
       "      <td>0.000000</td>\n",
       "      <td>1.000000</td>\n",
       "      <td>0.636000</td>\n",
       "      <td>0.651000</td>\n",
       "      <td>59.393091</td>\n",
       "    </tr>\n",
       "    <tr>\n",
       "      <td>max</td>\n",
       "      <td>9.167499e+18</td>\n",
       "      <td>1.000000</td>\n",
       "      <td>1.000000</td>\n",
       "      <td>1.000000</td>\n",
       "      <td>1.000000</td>\n",
       "      <td>1.000000</td>\n",
       "      <td>1.000000</td>\n",
       "      <td>1.000000</td>\n",
       "      <td>1.000000</td>\n",
       "      <td>1.000000</td>\n",
       "      <td>0.988000</td>\n",
       "      <td>0.976000</td>\n",
       "      <td>81.866257</td>\n",
       "    </tr>\n",
       "  </tbody>\n",
       "</table>\n",
       "</div>"
      ],
      "text/plain": [
       "           hashname  chocolate     fruity    caramel  peanutyalmondy  \\\n",
       "count  3.600000e+01  36.000000  36.000000  36.000000       36.000000   \n",
       "mean   5.035438e+18   0.416667   0.472222   0.194444        0.194444   \n",
       "std    2.607820e+18   0.500000   0.506309   0.401386        0.401386   \n",
       "min    2.200173e+17   0.000000   0.000000   0.000000        0.000000   \n",
       "25%    2.491026e+18   0.000000   0.000000   0.000000        0.000000   \n",
       "50%    5.408639e+18   0.000000   0.000000   0.000000        0.000000   \n",
       "75%    7.099548e+18   1.000000   1.000000   0.000000        0.000000   \n",
       "max    9.167499e+18   1.000000   1.000000   1.000000        1.000000   \n",
       "\n",
       "          nougat  crispedricewafer       hard        bar   pluribus  \\\n",
       "count  36.000000         36.000000  36.000000  36.000000  36.000000   \n",
       "mean    0.083333          0.027778   0.194444   0.194444   0.527778   \n",
       "std     0.280306          0.166667   0.401386   0.401386   0.506309   \n",
       "min     0.000000          0.000000   0.000000   0.000000   0.000000   \n",
       "25%     0.000000          0.000000   0.000000   0.000000   0.000000   \n",
       "50%     0.000000          0.000000   0.000000   0.000000   1.000000   \n",
       "75%     0.000000          0.000000   0.000000   0.000000   1.000000   \n",
       "max     1.000000          1.000000   1.000000   1.000000   1.000000   \n",
       "\n",
       "       sugarpercent  pricepercent  winpercent  \n",
       "count     36.000000     36.000000   36.000000  \n",
       "mean       0.453278      0.457222   49.842477  \n",
       "std        0.300056      0.279452   15.423107  \n",
       "min        0.011000      0.058000   22.445341  \n",
       "25%        0.214250      0.264250   37.911778  \n",
       "50%        0.447500      0.488000   51.344505  \n",
       "75%        0.636000      0.651000   59.393091  \n",
       "max        0.988000      0.976000   81.866257  "
      ]
     },
     "execution_count": 13,
     "metadata": {},
     "output_type": "execute_result"
    }
   ],
   "source": [
    "# Let's look at a small sample of the training data\n",
    "traindf.describe()"
   ]
  },
  {
   "cell_type": "markdown",
   "metadata": {},
   "source": [
    "It is always crucial to clean raw data before using in ML, so we have a preprocessing step. Our data are clean, but this is not general the case."
   ]
  },
  {
   "cell_type": "code",
   "execution_count": 14,
   "metadata": {},
   "outputs": [
    {
     "data": {
      "text/html": [
       "<div>\n",
       "<style scoped>\n",
       "    .dataframe tbody tr th:only-of-type {\n",
       "        vertical-align: middle;\n",
       "    }\n",
       "\n",
       "    .dataframe tbody tr th {\n",
       "        vertical-align: top;\n",
       "    }\n",
       "\n",
       "    .dataframe thead th {\n",
       "        text-align: right;\n",
       "    }\n",
       "</style>\n",
       "<table border=\"1\" class=\"dataframe\">\n",
       "  <thead>\n",
       "    <tr style=\"text-align: right;\">\n",
       "      <th></th>\n",
       "      <th>hashname</th>\n",
       "      <th>chocolate</th>\n",
       "      <th>fruity</th>\n",
       "      <th>caramel</th>\n",
       "      <th>peanutyalmondy</th>\n",
       "      <th>nougat</th>\n",
       "      <th>crispedricewafer</th>\n",
       "      <th>hard</th>\n",
       "      <th>bar</th>\n",
       "      <th>pluribus</th>\n",
       "      <th>sugarpercent</th>\n",
       "      <th>pricepercent</th>\n",
       "      <th>winpercent</th>\n",
       "    </tr>\n",
       "  </thead>\n",
       "  <tbody>\n",
       "    <tr>\n",
       "      <td>count</td>\n",
       "      <td>3.600000e+01</td>\n",
       "      <td>36.000000</td>\n",
       "      <td>36.000000</td>\n",
       "      <td>36.000000</td>\n",
       "      <td>36.000000</td>\n",
       "      <td>36.000000</td>\n",
       "      <td>36.000000</td>\n",
       "      <td>36.000000</td>\n",
       "      <td>36.000000</td>\n",
       "      <td>36.000000</td>\n",
       "      <td>36.000000</td>\n",
       "      <td>36.000000</td>\n",
       "      <td>36.000000</td>\n",
       "    </tr>\n",
       "    <tr>\n",
       "      <td>mean</td>\n",
       "      <td>5.035438e+18</td>\n",
       "      <td>0.416667</td>\n",
       "      <td>0.472222</td>\n",
       "      <td>0.194444</td>\n",
       "      <td>0.194444</td>\n",
       "      <td>0.083333</td>\n",
       "      <td>0.027778</td>\n",
       "      <td>0.194444</td>\n",
       "      <td>0.194444</td>\n",
       "      <td>0.527778</td>\n",
       "      <td>0.453278</td>\n",
       "      <td>0.457222</td>\n",
       "      <td>49.842477</td>\n",
       "    </tr>\n",
       "    <tr>\n",
       "      <td>std</td>\n",
       "      <td>2.607820e+18</td>\n",
       "      <td>0.500000</td>\n",
       "      <td>0.506309</td>\n",
       "      <td>0.401386</td>\n",
       "      <td>0.401386</td>\n",
       "      <td>0.280306</td>\n",
       "      <td>0.166667</td>\n",
       "      <td>0.401386</td>\n",
       "      <td>0.401386</td>\n",
       "      <td>0.506309</td>\n",
       "      <td>0.300056</td>\n",
       "      <td>0.279452</td>\n",
       "      <td>15.423107</td>\n",
       "    </tr>\n",
       "    <tr>\n",
       "      <td>min</td>\n",
       "      <td>2.200173e+17</td>\n",
       "      <td>0.000000</td>\n",
       "      <td>0.000000</td>\n",
       "      <td>0.000000</td>\n",
       "      <td>0.000000</td>\n",
       "      <td>0.000000</td>\n",
       "      <td>0.000000</td>\n",
       "      <td>0.000000</td>\n",
       "      <td>0.000000</td>\n",
       "      <td>0.000000</td>\n",
       "      <td>0.011000</td>\n",
       "      <td>0.058000</td>\n",
       "      <td>22.445341</td>\n",
       "    </tr>\n",
       "    <tr>\n",
       "      <td>25%</td>\n",
       "      <td>2.491026e+18</td>\n",
       "      <td>0.000000</td>\n",
       "      <td>0.000000</td>\n",
       "      <td>0.000000</td>\n",
       "      <td>0.000000</td>\n",
       "      <td>0.000000</td>\n",
       "      <td>0.000000</td>\n",
       "      <td>0.000000</td>\n",
       "      <td>0.000000</td>\n",
       "      <td>0.000000</td>\n",
       "      <td>0.214250</td>\n",
       "      <td>0.264250</td>\n",
       "      <td>37.911778</td>\n",
       "    </tr>\n",
       "    <tr>\n",
       "      <td>50%</td>\n",
       "      <td>5.408639e+18</td>\n",
       "      <td>0.000000</td>\n",
       "      <td>0.000000</td>\n",
       "      <td>0.000000</td>\n",
       "      <td>0.000000</td>\n",
       "      <td>0.000000</td>\n",
       "      <td>0.000000</td>\n",
       "      <td>0.000000</td>\n",
       "      <td>0.000000</td>\n",
       "      <td>1.000000</td>\n",
       "      <td>0.447500</td>\n",
       "      <td>0.488000</td>\n",
       "      <td>51.344505</td>\n",
       "    </tr>\n",
       "    <tr>\n",
       "      <td>75%</td>\n",
       "      <td>7.099548e+18</td>\n",
       "      <td>1.000000</td>\n",
       "      <td>1.000000</td>\n",
       "      <td>0.000000</td>\n",
       "      <td>0.000000</td>\n",
       "      <td>0.000000</td>\n",
       "      <td>0.000000</td>\n",
       "      <td>0.000000</td>\n",
       "      <td>0.000000</td>\n",
       "      <td>1.000000</td>\n",
       "      <td>0.636000</td>\n",
       "      <td>0.651000</td>\n",
       "      <td>59.393091</td>\n",
       "    </tr>\n",
       "    <tr>\n",
       "      <td>max</td>\n",
       "      <td>9.167499e+18</td>\n",
       "      <td>1.000000</td>\n",
       "      <td>1.000000</td>\n",
       "      <td>1.000000</td>\n",
       "      <td>1.000000</td>\n",
       "      <td>1.000000</td>\n",
       "      <td>1.000000</td>\n",
       "      <td>1.000000</td>\n",
       "      <td>1.000000</td>\n",
       "      <td>1.000000</td>\n",
       "      <td>0.988000</td>\n",
       "      <td>0.976000</td>\n",
       "      <td>81.866257</td>\n",
       "    </tr>\n",
       "  </tbody>\n",
       "</table>\n",
       "</div>"
      ],
      "text/plain": [
       "           hashname  chocolate     fruity    caramel  peanutyalmondy  \\\n",
       "count  3.600000e+01  36.000000  36.000000  36.000000       36.000000   \n",
       "mean   5.035438e+18   0.416667   0.472222   0.194444        0.194444   \n",
       "std    2.607820e+18   0.500000   0.506309   0.401386        0.401386   \n",
       "min    2.200173e+17   0.000000   0.000000   0.000000        0.000000   \n",
       "25%    2.491026e+18   0.000000   0.000000   0.000000        0.000000   \n",
       "50%    5.408639e+18   0.000000   0.000000   0.000000        0.000000   \n",
       "75%    7.099548e+18   1.000000   1.000000   0.000000        0.000000   \n",
       "max    9.167499e+18   1.000000   1.000000   1.000000        1.000000   \n",
       "\n",
       "          nougat  crispedricewafer       hard        bar   pluribus  \\\n",
       "count  36.000000         36.000000  36.000000  36.000000  36.000000   \n",
       "mean    0.083333          0.027778   0.194444   0.194444   0.527778   \n",
       "std     0.280306          0.166667   0.401386   0.401386   0.506309   \n",
       "min     0.000000          0.000000   0.000000   0.000000   0.000000   \n",
       "25%     0.000000          0.000000   0.000000   0.000000   0.000000   \n",
       "50%     0.000000          0.000000   0.000000   0.000000   1.000000   \n",
       "75%     0.000000          0.000000   0.000000   0.000000   1.000000   \n",
       "max     1.000000          1.000000   1.000000   1.000000   1.000000   \n",
       "\n",
       "       sugarpercent  pricepercent  winpercent  \n",
       "count     36.000000     36.000000   36.000000  \n",
       "mean       0.453278      0.457222   49.842477  \n",
       "std        0.300056      0.279452   15.423107  \n",
       "min        0.011000      0.058000   22.445341  \n",
       "25%        0.214250      0.264250   37.911778  \n",
       "50%        0.447500      0.488000   51.344505  \n",
       "75%        0.636000      0.651000   59.393091  \n",
       "max        0.988000      0.976000   81.866257  "
      ]
     },
     "execution_count": 14,
     "metadata": {},
     "output_type": "execute_result"
    }
   ],
   "source": [
    "import pandas as pd\n",
    "def preprocess(df):\n",
    "  # clean up data we don't want to train on\n",
    "  # in other words, users will have to tell us the mother's age\n",
    "  # otherwise, our ML service won't work.\n",
    "  # these were chosen because they are such good predictors\n",
    "  # and because these are easy enough to collect\n",
    "  df = df[df.sugarpercent > 0]\n",
    "  df = df[df.pricepercent > 0]\n",
    "  df = df[df.winpercent > 0]\n",
    "  return df\n",
    "traindf = preprocess(traindf)\n",
    "evaldf = preprocess(evaldf)\n",
    "# Describe only does numeric columns\n",
    "traindf.describe()"
   ]
  },
  {
   "cell_type": "markdown",
   "metadata": {},
   "source": [
    "## Write out\n",
    "\n",
    "In the final versions, we want to read from files, not Pandas dataframes. So, write the Pandas dataframes out as CSV files. Using CSV files gives us the advantage of shuffling during read. This is important for distributed training because some workers might be slower than others, and shuffling the data helps prevent the same data from being assigned to the slow workers."
   ]
  },
  {
   "cell_type": "code",
   "execution_count": 15,
   "metadata": {},
   "outputs": [],
   "source": [
    "traindf.to_csv('train.csv', index=False, header=False)\n",
    "evaldf.to_csv('eval.csv', index=False, header=False)"
   ]
  },
  {
   "cell_type": "code",
   "execution_count": 16,
   "metadata": {},
   "outputs": [
    {
     "name": "stdout",
     "output_type": "stream",
     "text": [
      "      86 candy-data.csv\n",
      "       8 eval.csv\n",
      "      36 train.csv\n",
      "     130 total\n",
      "==> candy-data.csv <==\n",
      "competitorname,chocolate,fruity,caramel,peanutyalmondy,nougat,crispedricewafer,hard,bar,pluribus,sugarpercent,pricepercent,winpercent\n",
      "100 Grand,1,0,1,0,0,1,0,1,0,.73199999,.86000001,66.971725\n",
      "3 Musketeers,1,0,0,0,1,0,0,1,0,.60399997,.51099998,67.602936\n",
      "One dime,0,0,0,0,0,0,0,0,0,.011,.116,32.261086\n",
      "One quarter,0,0,0,0,0,0,0,0,0,.011,.51099998,46.116505\n",
      "Air Heads,0,1,0,0,0,0,0,0,0,.90600002,.51099998,52.341465\n",
      "Almond Joy,1,0,0,1,0,0,0,1,0,.465,.76700002,50.347546\n",
      "Baby Ruth,1,0,1,1,1,0,0,1,0,.60399997,.76700002,56.914547\n",
      "Boston Baked Beans,0,0,0,1,0,0,0,0,1,.31299999,.51099998,23.417824\n",
      "Candy Corn,0,0,0,0,0,0,0,0,1,.90600002,.32499999,38.010963\n",
      "\n",
      "==> eval.csv <==\n",
      "1149483840856303955,0,1,0,0,0,0,0,0,0,0.22,0.116,41.389557\n",
      "3363714292214963851,0,0,1,0,0,0,1,0,0,0.186,0.26699999,41.904308\n",
      "6285751633105298635,1,0,0,0,0,1,0,1,0,0.31299999,0.51099998,76.7686\n",
      "9190403972146941111,1,0,1,1,0,1,0,1,0,0.60399997,0.65100002,59.529251\n",
      "7783993432492371191,0,1,0,0,0,0,0,0,1,0.73199999,0.51099998,36.017628\n",
      "4871194124364844939,0,1,0,0,0,0,0,0,1,0.15099999,0.22,67.037628\n",
      "1669927427120869555,1,0,0,0,0,0,0,0,1,0.127,0.093000002,55.375454\n",
      "6489358405303596487,1,0,0,0,0,0,0,0,1,0.26699999,0.97600001,37.887188\n",
      "\n",
      "==> train.csv <==\n",
      "9167499499902123141,0,0,0,0,0,0,0,0,0,0.011,0.51099998,46.116505\n",
      "1631755363487315696,0,1,0,0,0,0,0,0,0,0.90600002,0.51099998,52.341465\n",
      "1606999616445289157,0,1,1,0,0,0,0,0,0,0.60399997,0.32499999,34.517681\n",
      "7515611997518725754,0,1,0,0,0,0,1,0,0,0.046,0.104,39.141056\n",
      "7524574358447315246,0,1,0,0,0,0,0,0,0,0.26699999,0.27900001,52.911392\n",
      "5798036444257969148,0,0,1,0,0,0,0,0,0,0.41800001,0.32499999,32.230995\n",
      "407743695513702661,0,1,0,0,0,0,0,0,0,0.22,0.116,45.466282\n",
      "5348002490027753834,0,1,0,0,0,0,1,0,0,0.093000002,0.116,39.011898\n",
      "4346433711683907217,1,0,1,0,0,1,0,1,0,0.73199999,0.86000001,66.971725\n",
      "2068449378831142862,1,0,0,1,0,0,0,1,0,0.465,0.76700002,50.347546\n",
      "==> candy-data.csv <==\n",
      "Tootsie Roll Juniors,1,0,0,0,0,0,0,0,0,.31299999,.51099998,43.068897\n",
      "Tootsie Roll Midgies,1,0,0,0,0,0,0,0,1,.17399999,.011,45.736748\n",
      "Tootsie Roll Snack Bars,1,0,0,0,0,0,0,1,0,.465,.32499999,49.653503\n",
      "Trolli Sour Bites,0,1,0,0,0,0,0,0,1,.31299999,.255,47.173229\n",
      "Twix,1,0,1,0,0,1,0,1,0,.546,.90600002,81.642914\n",
      "Twizzlers,0,1,0,0,0,0,0,0,0,.22,.116,45.466282\n",
      "Warheads,0,1,0,0,0,0,1,0,0,.093000002,.116,39.011898\n",
      "WelchÕs Fruit Snacks,0,1,0,0,0,0,0,0,1,.31299999,.31299999,44.375519\n",
      "WertherÕs Original Caramel,0,0,1,0,0,0,1,0,0,.186,.26699999,41.904308\n",
      "Whoppers,1,0,0,0,0,1,0,0,1,.87199998,.84799999,49.524113\n",
      "\n",
      "==> eval.csv <==\n",
      "1149483840856303955,0,1,0,0,0,0,0,0,0,0.22,0.116,41.389557\n",
      "3363714292214963851,0,0,1,0,0,0,1,0,0,0.186,0.26699999,41.904308\n",
      "6285751633105298635,1,0,0,0,0,1,0,1,0,0.31299999,0.51099998,76.7686\n",
      "9190403972146941111,1,0,1,1,0,1,0,1,0,0.60399997,0.65100002,59.529251\n",
      "7783993432492371191,0,1,0,0,0,0,0,0,1,0.73199999,0.51099998,36.017628\n",
      "4871194124364844939,0,1,0,0,0,0,0,0,1,0.15099999,0.22,67.037628\n",
      "1669927427120869555,1,0,0,0,0,0,0,0,1,0.127,0.093000002,55.375454\n",
      "6489358405303596487,1,0,0,0,0,0,0,0,1,0.26699999,0.97600001,37.887188\n",
      "\n",
      "==> train.csv <==\n",
      "6427047857583162584,0,1,0,0,0,0,1,0,1,0.26699999,0.116,45.995827\n",
      "3512761160878324482,0,1,0,0,0,0,0,0,1,0.068999998,0.116,59.863998\n",
      "5426988756020671198,0,1,0,0,0,0,1,0,1,0.56900001,0.057999998,34.578991\n",
      "5390288291583847649,0,1,0,0,0,0,0,0,1,0.60399997,0.755,54.861111\n",
      "6803000527114222206,1,0,0,0,0,0,0,0,1,0.197,0.51099998,57.21925\n",
      "6120019453591560329,1,0,0,1,0,0,0,0,1,0.82499999,0.65100002,71.46505\n",
      "1857743112712192238,1,0,1,0,0,0,0,0,1,0.30199999,0.51099998,55.064072\n",
      "5015931244307817990,1,0,0,1,0,0,0,0,1,0.59299999,0.65100002,69.483788\n",
      "4329727896483096254,1,0,1,0,0,0,0,0,1,0.86000001,0.86000001,65.716286\n",
      "8504968533697096024,1,0,0,0,0,0,0,0,1,0.22,0.081,34.722\n"
     ]
    }
   ],
   "source": [
    "%%bash\n",
    "wc -l *.csv\n",
    "head *.csv\n",
    "tail *.csv"
   ]
  },
  {
   "cell_type": "markdown",
   "metadata": {},
   "source": [
    "# 3. Develop a Tensorflow model\n",
    "\n",
    "Illustrates:\n",
    "- Creating a model using the high-level Estimator API"
   ]
  },
  {
   "cell_type": "code",
   "execution_count": 17,
   "metadata": {},
   "outputs": [
    {
     "name": "stdout",
     "output_type": "stream",
     "text": [
      "candy-data.csv\n",
      "eval.csv\n",
      "train.csv\n"
     ]
    }
   ],
   "source": [
    "%%bash\n",
    "ls *.csv"
   ]
  },
  {
   "cell_type": "markdown",
   "metadata": {},
   "source": [
    "## Create TensorFlow model using TensorFlow's Estimator API\n",
    "\n",
    "First, write an input_fn to read the data."
   ]
  },
  {
   "cell_type": "code",
   "execution_count": 18,
   "metadata": {},
   "outputs": [
    {
     "name": "stdout",
     "output_type": "stream",
     "text": [
      "1.14.0\n"
     ]
    }
   ],
   "source": [
    "import shutil\n",
    "import numpy as np\n",
    "import tensorflow as tf\n",
    "print(tf.__version__)"
   ]
  },
  {
   "cell_type": "code",
   "execution_count": 19,
   "metadata": {},
   "outputs": [],
   "source": [
    "# Determine CSV, label, and key columns\n",
    "CSV_COLUMNS = 'hashname,chocolate,fruity,caramel,peanutyalmondy,nougat,crispedricewafer,hard,bar,pluribus,sugarpercent,pricepercent,winpercent'.split(',')\n",
    "LABEL_COLUMN = 'winpercent'\n",
    "KEY_COLUMN = 'hashname'\n",
    "\n",
    "# Set default values for each CSV column\n",
    "DEFAULTS = [['nokey'],[0], [0], [0], [0], [0], [0], [0], [0], [0],  [0.0], [0.0], [0.0]]\n",
    "TRAIN_STEPS = 100"
   ]
  },
  {
   "cell_type": "markdown",
   "metadata": {},
   "source": [
    "TensorFlow estimators work with input functions. The signature of an input function returns a tuple of features and labels. Features are a dictionary of feature names and numeric value arrays. Labels are an array of values. "
   ]
  },
  {
   "cell_type": "code",
   "execution_count": 20,
   "metadata": {},
   "outputs": [],
   "source": [
    "# Create an input function reading a file using the Dataset API\n",
    "# Then provide the results to the Estimator API\n",
    "def read_dataset(filename, mode, batch_size = 512):\n",
    "  def _input_fn():\n",
    "    def decode_csv(value_column):\n",
    "      columns = tf.decode_csv(value_column, record_defaults=DEFAULTS)\n",
    "      features = dict(zip(CSV_COLUMNS, columns))\n",
    "      label = features.pop(LABEL_COLUMN)\n",
    "      return features, label\n",
    "    \n",
    "    # Create list of files that match pattern\n",
    "    file_list = tf.gfile.Glob(filename)\n",
    "\n",
    "    # Create dataset from file list\n",
    "    dataset = (tf.data.TextLineDataset(file_list)  # Read text file\n",
    "                 .map(decode_csv))  # Transform each elem by applying decode_csv fn\n",
    "      \n",
    "    if mode == tf.estimator.ModeKeys.TRAIN:\n",
    "        num_epochs = None # indefinitely\n",
    "        dataset = dataset.shuffle(buffer_size=10*batch_size)\n",
    "    else:\n",
    "        num_epochs = 1 # end-of-input after this\n",
    " \n",
    "    dataset = dataset.repeat(num_epochs).batch(batch_size)\n",
    "    return dataset\n",
    "  return _input_fn"
   ]
  },
  {
   "cell_type": "markdown",
   "metadata": {},
   "source": [
    "Next, define the feature columns"
   ]
  },
  {
   "cell_type": "code",
   "execution_count": 21,
   "metadata": {},
   "outputs": [],
   "source": [
    "def get_cols():\n",
    "  # Define column types\n",
    "  return [\\\n",
    "          tf.feature_column.indicator_column(tf.feature_column.categorical_column_with_vocabulary_list('chocolate', [0, 1])),\n",
    "          tf.feature_column.indicator_column(tf.feature_column.categorical_column_with_vocabulary_list('fruity', [0, 1])),\n",
    "          #tf.feature_column.indicator_column(tf.feature_column.categorical_column_with_vocabulary_list('caramel', [0, 1])),\n",
    "          tf.feature_column.indicator_column(tf.feature_column.categorical_column_with_vocabulary_list('peanutyalmondy', [0, 1])),\n",
    "          #tf.feature_column.indicator_column(tf.feature_column.categorical_column_with_vocabulary_list('nougat', [0, 1])),\n",
    "          tf.feature_column.indicator_column(tf.feature_column.categorical_column_with_vocabulary_list('crispedricewafer', [0, 1])),\n",
    "          tf.feature_column.indicator_column(tf.feature_column.categorical_column_with_vocabulary_list('hard', [0, 1])),\n",
    "          tf.feature_column.indicator_column(tf.feature_column.categorical_column_with_vocabulary_list('bar', [0, 1])),\n",
    "          #tf.feature_column.indicator_column(tf.feature_column.categorical_column_with_vocabulary_list('pluribus', [0, 1])),\n",
    "          #tf.feature_column.numeric_column('sugarpercent'),\n",
    "          tf.feature_column.numeric_column('pricepercent')\n",
    "         ]"
   ]
  },
  {
   "cell_type": "markdown",
   "metadata": {},
   "source": [
    "You need a serving input function if you want your model to be able to make predictions. The serving_input_fn specifies what the caller of the predict() method will have to provide. You are essentially telling the model what data it has to get from the user."
   ]
  },
  {
   "cell_type": "code",
   "execution_count": 22,
   "metadata": {},
   "outputs": [],
   "source": [
    "# Create serving input function to be able to serve predictions later using provided inputs\n",
    "def serving_input_fn():\n",
    "    feature_placeholders = {\n",
    "        'chocolate': tf.placeholder(tf.int64, [None]),\n",
    "        'fruity': tf.placeholder(tf.int64, [None]),\n",
    "        #'caramel': tf.placeholder(tf.int64, [None]),\n",
    "        'peanutyalmondy': tf.placeholder(tf.int64, [None]),\n",
    "        #'nougat': tf.placeholder(tf.int64, [None]),\n",
    "        'crispedricewafer': tf.placeholder(tf.int64, [None]),\n",
    "        'hard': tf.placeholder(tf.int64, [None]),\n",
    "        'bar': tf.placeholder(tf.int64, [None]),\n",
    "        #'pluribus': tf.placeholder(tf.int64, [None]),\n",
    "        #'sugarpercent': tf.placeholder(tf.float32, [None]),\n",
    "        'pricepercent': tf.placeholder(tf.float32, [None])\n",
    "    }\n",
    "    features = {\n",
    "        key: tf.expand_dims(tensor, -1)\n",
    "        for key, tensor in feature_placeholders.items()\n",
    "    }\n",
    "    return tf.estimator.export.ServingInputReceiver(features, feature_placeholders)"
   ]
  },
  {
   "cell_type": "markdown",
   "metadata": {},
   "source": [
    "Finally, train and evaluate!"
   ]
  },
  {
   "cell_type": "code",
   "execution_count": 23,
   "metadata": {},
   "outputs": [
    {
     "name": "stderr",
     "output_type": "stream",
     "text": [
      "WARNING: Logging before flag parsing goes to stderr.\n",
      "W0907 11:01:22.483533 4670588352 deprecation.py:323] From /anaconda3/envs/gcstf/lib/python3.7/site-packages/tensorflow/python/training/training_util.py:236: Variable.initialized_value (from tensorflow.python.ops.variables) is deprecated and will be removed in a future version.\n",
      "Instructions for updating:\n",
      "Use Variable.read_value. Variables in 2.X are initialized automatically both in eager and graph (inside tf.defun) contexts.\n",
      "W0907 11:01:22.541843 4670588352 deprecation.py:506] From /anaconda3/envs/gcstf/lib/python3.7/site-packages/tensorflow/python/ops/init_ops.py:1251: calling VarianceScaling.__init__ (from tensorflow.python.ops.init_ops) with dtype is deprecated and will be removed in a future version.\n",
      "Instructions for updating:\n",
      "Call initializer instance with the dtype argument instead of passing it to the constructor\n",
      "W0907 11:01:22.908898 4670588352 deprecation.py:323] From /anaconda3/envs/gcstf/lib/python3.7/site-packages/tensorflow/python/feature_column/feature_column_v2.py:2655: add_dispatch_support.<locals>.wrapper (from tensorflow.python.ops.array_ops) is deprecated and will be removed in a future version.\n",
      "Instructions for updating:\n",
      "Use tf.where in 2.0, which has the same broadcast rule as np.where\n",
      "W0907 11:01:22.921864 4670588352 deprecation.py:323] From /anaconda3/envs/gcstf/lib/python3.7/site-packages/tensorflow/python/feature_column/feature_column_v2.py:4207: IndicatorColumn._variable_shape (from tensorflow.python.feature_column.feature_column_v2) is deprecated and will be removed in a future version.\n",
      "Instructions for updating:\n",
      "The old _FeatureColumn APIs are being deprecated. Please use the new FeatureColumn APIs instead.\n",
      "W0907 11:01:22.922338 4670588352 deprecation.py:323] From /anaconda3/envs/gcstf/lib/python3.7/site-packages/tensorflow/python/feature_column/feature_column_v2.py:4262: VocabularyListCategoricalColumn._num_buckets (from tensorflow.python.feature_column.feature_column_v2) is deprecated and will be removed in a future version.\n",
      "Instructions for updating:\n",
      "The old _FeatureColumn APIs are being deprecated. Please use the new FeatureColumn APIs instead.\n",
      "W0907 11:01:23.352996 4670588352 deprecation.py:323] From /anaconda3/envs/gcstf/lib/python3.7/site-packages/tensorflow_estimator/python/estimator/canned/head.py:437: to_float (from tensorflow.python.ops.math_ops) is deprecated and will be removed in a future version.\n",
      "Instructions for updating:\n",
      "Use `tf.cast` instead.\n",
      "W0907 11:01:23.422149 4670588352 deprecation.py:506] From /anaconda3/envs/gcstf/lib/python3.7/site-packages/tensorflow/python/training/adagrad.py:76: calling Constant.__init__ (from tensorflow.python.ops.init_ops) with dtype is deprecated and will be removed in a future version.\n",
      "Instructions for updating:\n",
      "Call initializer instance with the dtype argument instead of passing it to the constructor\n",
      "W0907 11:01:30.755893 4670588352 deprecation.py:323] From /anaconda3/envs/gcstf/lib/python3.7/site-packages/tensorflow/python/training/saver.py:1276: checkpoint_exists (from tensorflow.python.training.checkpoint_management) is deprecated and will be removed in a future version.\n",
      "Instructions for updating:\n",
      "Use standard file APIs to check for files with this prefix.\n",
      "W0907 11:01:31.783185 4670588352 deprecation.py:323] From /anaconda3/envs/gcstf/lib/python3.7/site-packages/tensorflow/python/saved_model/signature_def_utils_impl.py:201: build_tensor_info (from tensorflow.python.saved_model.utils_impl) is deprecated and will be removed in a future version.\n",
      "Instructions for updating:\n",
      "This function will only be available through the v1 compatibility library as tf.compat.v1.saved_model.utils.build_tensor_info or tf.compat.v1.saved_model.build_tensor_info.\n",
      "W0907 11:01:31.783994 4670588352 export_utils.py:182] Export includes no default signature!\n"
     ]
    }
   ],
   "source": [
    "# Create estimator to train and evaluate\n",
    "def train_and_evaluate(output_dir):\n",
    "  EVAL_INTERVAL = 300\n",
    "  run_config = tf.estimator.RunConfig(save_checkpoints_secs = EVAL_INTERVAL,\n",
    "                                      keep_checkpoint_max = 3)\n",
    "  estimator = tf.estimator.DNNRegressor(\n",
    "                       model_dir = output_dir,\n",
    "                       feature_columns = get_cols(),\n",
    "                       hidden_units = [64, 32],\n",
    "                       config = run_config)\n",
    "  train_spec = tf.estimator.TrainSpec(\n",
    "                       input_fn = read_dataset('train.csv', mode = tf.estimator.ModeKeys.TRAIN),\n",
    "                       max_steps = TRAIN_STEPS)\n",
    "  exporter = tf.estimator.LatestExporter('exporter', serving_input_fn)\n",
    "  eval_spec = tf.estimator.EvalSpec(\n",
    "                       input_fn = read_dataset('eval.csv', mode = tf.estimator.ModeKeys.EVAL),\n",
    "                       steps = None,\n",
    "                       start_delay_secs = 60, # start evaluating after N seconds\n",
    "                       throttle_secs = EVAL_INTERVAL,  # evaluate every N seconds\n",
    "                       exporters = exporter)\n",
    "  tf.estimator.train_and_evaluate(estimator, train_spec, eval_spec)\n",
    "\n",
    "import os\n",
    "os.environ['KMP_DUPLICATE_LIB_OK'] = \"TRUE\" # see http://www.intel.com/software/products/support/.\n",
    "    \n",
    "# Run the model\n",
    "shutil.rmtree('candy_trained', ignore_errors = True) # start fresh each time\n",
    "tf.summary.FileWriterCache.clear() # ensure filewriter cache is clear for TensorBoard events file\n",
    "train_and_evaluate('candy_trained')"
   ]
  },
  {
   "cell_type": "markdown",
   "metadata": {},
   "source": [
    "The exporter directory contains the final model."
   ]
  },
  {
   "cell_type": "code",
   "execution_count": 24,
   "metadata": {},
   "outputs": [
    {
     "name": "stdout",
     "output_type": "stream",
     "text": [
      "./candy_trained/checkpoint\n",
      "./candy_trained/events.out.tfevents.1567846883.Trix.local\n",
      "./candy_trained/graph.pbtxt\n",
      "./candy_trained/model.ckpt-0.data-00000-of-00002\n",
      "./candy_trained/model.ckpt-0.data-00001-of-00002\n",
      "./candy_trained/model.ckpt-0.index\n",
      "./candy_trained/model.ckpt-0.meta\n",
      "./candy_trained/model.ckpt-100.data-00000-of-00002\n",
      "./candy_trained/model.ckpt-100.data-00001-of-00002\n",
      "./candy_trained/model.ckpt-100.index\n",
      "./candy_trained/model.ckpt-100.meta\n",
      "\n",
      "./candy_trained/eval:\n",
      "events.out.tfevents.1567846891.Trix.local\n",
      "\n",
      "./candy_trained/export:\n",
      "exporter\n"
     ]
    }
   ],
   "source": [
    "%%bash\n",
    "ls ./candy_trained/*"
   ]
  },
  {
   "cell_type": "markdown",
   "metadata": {},
   "source": [
    "### Monitor and experiment with training\n",
    "\n",
    "To begin TensorBoard from within AI Platform Notebooks, click the + symbol in the top left corner and select the Tensorboard icon to create a new TensorBoard.\n",
    "In TensorBoard, look at the learned embeddings. Are they getting clustered? How about the weights for the hidden layers? What if you run this longer? What happens if you change the batchsize?"
   ]
  },
  {
   "cell_type": "code",
   "execution_count": 25,
   "metadata": {},
   "outputs": [
    {
     "data": {
      "text/plain": [
       "Reusing TensorBoard on port 6006 (pid 2144), started 1:15:25 ago. (Use '!kill 2144' to kill it.)"
      ]
     },
     "metadata": {},
     "output_type": "display_data"
    },
    {
     "data": {
      "text/html": [
       "\n",
       "        <iframe\n",
       "            width=\"100%\"\n",
       "            height=\"800\"\n",
       "            src=\"http://localhost:6006\"\n",
       "            frameborder=\"0\"\n",
       "            allowfullscreen\n",
       "        ></iframe>\n",
       "        "
      ],
      "text/plain": [
       "<IPython.lib.display.IFrame at 0x124e20350>"
      ]
     },
     "metadata": {},
     "output_type": "display_data"
    }
   ],
   "source": [
    "import os\n",
    "#loading the TensorBoard notebook extension\n",
    "os.environ['TENSORBOARD_BINARY'] = \"/anaconda3/envs/gcstf/bin/tensorboard\"\n",
    "os.environ['PATH'] = \"/anaconda3/envs/gcstf/bin/:\"+os.environ['PATH']\n",
    "%load_ext tensorboard\n",
    "%tensorboard --logdir {'candy_trained'}"
   ]
  },
  {
   "cell_type": "markdown",
   "metadata": {},
   "source": [
    "## Create TensorFlow wide-and-deep model\n",
    "\n",
    "Define the feature columns:"
   ]
  },
  {
   "cell_type": "code",
   "execution_count": 33,
   "metadata": {},
   "outputs": [],
   "source": [
    "# Define feature columns\n",
    "def get_wide_deep():\n",
    "  # Define column types\n",
    "  chocolate,fruity,caramel,peanutyalmondy,nougat,crispedricewafer,hard,bar,pluribus,sugarpercent,pricepercent = \\\n",
    "         [\\\n",
    "          tf.feature_column.categorical_column_with_vocabulary_list('chocolate', [0, 1]),\n",
    "          tf.feature_column.categorical_column_with_vocabulary_list('fruity', [0, 1]),\n",
    "          tf.feature_column.categorical_column_with_vocabulary_list('caramel', [0, 1]),\n",
    "          tf.feature_column.categorical_column_with_vocabulary_list('peanutyalmondy', [0, 1]),\n",
    "          tf.feature_column.categorical_column_with_vocabulary_list('nougat', [0, 1]),\n",
    "          tf.feature_column.categorical_column_with_vocabulary_list('crispedricewafer', [0, 1]),\n",
    "          tf.feature_column.categorical_column_with_vocabulary_list('hard', [0, 1]),\n",
    "          tf.feature_column.categorical_column_with_vocabulary_list('bar', [0, 1]),\n",
    "          tf.feature_column.categorical_column_with_vocabulary_list('pluribus', [0, 1]),\n",
    "          tf.feature_column.numeric_column('sugarpercent'),\n",
    "          tf.feature_column.numeric_column('pricepercent')\n",
    "         ]\n",
    "\n",
    "  # Discretize\n",
    "  sugar_buckets = tf.feature_column.bucketized_column(sugarpercent, \n",
    "                      boundaries=np.arange(0.2,0.8,.2).tolist())\n",
    "  price_buckets = tf.feature_column.bucketized_column(pricepercent, \n",
    "                      boundaries=np.arange(0.2,0.8,.2).tolist())\n",
    "\n",
    "  # Sparse columns are wide, have a linear relationship with the output\n",
    "  wide = [\\\n",
    "          chocolate,\n",
    "          fruity,\n",
    "          #caramel,\n",
    "          peanutyalmondy,\n",
    "          #nougat,\n",
    "          crispedricewafer,\n",
    "          hard,\n",
    "          bar,\n",
    "          #pluribus,\n",
    "          #sugar_buckets,\n",
    "          price_buckets\n",
    "         ]\n",
    "\n",
    "  # Feature cross all the wide columns and embed into a lower dimension\n",
    "  crossed = tf.feature_column.crossed_column(wide, hash_bucket_size=20000)\n",
    "  embed = tf.feature_column.embedding_column(crossed, 3)\n",
    "\n",
    "  # Continuous columns are deep, have a complex relationship with the output\n",
    "  deep = [\\\n",
    "          #sugarpercent,\n",
    "          #pricepercent,\n",
    "          embed]\n",
    "  return wide, deep"
   ]
  },
  {
   "cell_type": "markdown",
   "metadata": {},
   "source": [
    "Finally, train and evaluate!"
   ]
  },
  {
   "cell_type": "code",
   "execution_count": 34,
   "metadata": {},
   "outputs": [
    {
     "name": "stderr",
     "output_type": "stream",
     "text": [
      "W0907 11:03:54.124727 4670588352 export_utils.py:182] Export includes no default signature!\n"
     ]
    }
   ],
   "source": [
    "# Create estimator to train and evaluate\n",
    "def train_and_evaluate(output_dir):\n",
    "  wide, deep = get_wide_deep()\n",
    "  EVAL_INTERVAL = 300\n",
    "  run_config = tf.estimator.RunConfig(save_checkpoints_secs = EVAL_INTERVAL,\n",
    "                                      keep_checkpoint_max = 3)\n",
    "  estimator = tf.estimator.DNNLinearCombinedRegressor(\n",
    "                       model_dir = output_dir,\n",
    "                       linear_feature_columns = wide,\n",
    "                       dnn_feature_columns = deep,\n",
    "                       dnn_hidden_units = [64, 32],\n",
    "                       config = run_config)\n",
    "  train_spec = tf.estimator.TrainSpec(\n",
    "                       input_fn = read_dataset('train.csv', mode = tf.estimator.ModeKeys.TRAIN),\n",
    "                       max_steps = TRAIN_STEPS)\n",
    "  exporter = tf.estimator.LatestExporter('exporter', serving_input_fn)\n",
    "  eval_spec = tf.estimator.EvalSpec(\n",
    "                       input_fn = read_dataset('eval.csv', mode = tf.estimator.ModeKeys.EVAL),\n",
    "                       steps = None,\n",
    "                       start_delay_secs = 60, # start evaluating after N seconds\n",
    "                       throttle_secs = EVAL_INTERVAL,  # evaluate every N seconds\n",
    "                       exporters = exporter)\n",
    "  tf.estimator.train_and_evaluate(estimator, train_spec, eval_spec)\n",
    "    \n",
    "# Run the model\n",
    "shutil.rmtree('candy_trained', ignore_errors = True) # start fresh each time\n",
    "tf.summary.FileWriterCache.clear() # ensure filewriter cache is clear for TensorBoard events file\n",
    "train_and_evaluate('candy_trained')"
   ]
  },
  {
   "cell_type": "markdown",
   "metadata": {},
   "source": [
    "The exporter directory contains the final model."
   ]
  },
  {
   "cell_type": "code",
   "execution_count": 28,
   "metadata": {},
   "outputs": [
    {
     "name": "stdout",
     "output_type": "stream",
     "text": [
      "./candy_trained/checkpoint\n",
      "./candy_trained/events.out.tfevents.1567846883.Trix.local\n",
      "./candy_trained/graph.pbtxt\n",
      "./candy_trained/model.ckpt-0.data-00000-of-00002\n",
      "./candy_trained/model.ckpt-0.data-00001-of-00002\n",
      "./candy_trained/model.ckpt-0.index\n",
      "./candy_trained/model.ckpt-0.meta\n",
      "./candy_trained/model.ckpt-100.data-00000-of-00002\n",
      "./candy_trained/model.ckpt-100.data-00001-of-00002\n",
      "./candy_trained/model.ckpt-100.index\n",
      "./candy_trained/model.ckpt-100.meta\n",
      "\n",
      "./candy_trained/eval:\n",
      "events.out.tfevents.1567846891.Trix.local\n",
      "\n",
      "./candy_trained/export:\n",
      "exporter\n"
     ]
    }
   ],
   "source": [
    "%%bash\n",
    "ls ./candy_trained/*"
   ]
  },
  {
   "cell_type": "markdown",
   "metadata": {},
   "source": [
    "### Monitor and experiment with training\n",
    "\n",
    "To begin TensorBoard from within AI Platform Notebooks, click the + symbol in the top left corner and select the Tensorboard icon to create a new TensorBoard.\n",
    "In TensorBoard, look at the learned embeddings. Are they getting clustered? How about the weights for the hidden layers? What if you run this longer? What happens if you change the batchsize?"
   ]
  },
  {
   "cell_type": "code",
   "execution_count": 29,
   "metadata": {},
   "outputs": [
    {
     "data": {
      "text/plain": [
       "Reusing TensorBoard on port 6006 (pid 2144), started 1:15:37 ago. (Use '!kill 2144' to kill it.)"
      ]
     },
     "metadata": {},
     "output_type": "display_data"
    },
    {
     "data": {
      "text/html": [
       "\n",
       "        <iframe\n",
       "            width=\"100%\"\n",
       "            height=\"800\"\n",
       "            src=\"http://localhost:6006\"\n",
       "            frameborder=\"0\"\n",
       "            allowfullscreen\n",
       "        ></iframe>\n",
       "        "
      ],
      "text/plain": [
       "<IPython.lib.display.IFrame at 0x124cecf50>"
      ]
     },
     "metadata": {},
     "output_type": "display_data"
    }
   ],
   "source": [
    "#loading the TensorBoard notebook extension\n",
    "#%load_ext tensorboard.notebook\n",
    "%tensorboard --logdir {'candy_trained'}"
   ]
  },
  {
   "cell_type": "markdown",
   "metadata": {},
   "source": [
    "# 4. Create training and evaluation dataset\n",
    "Illustrates:\n",
    "- Creating datasets for Machine Learning using Dataflow\n",
    "\n",
    "While Pandas is fine for experimenting, for operationalization of your workflow, it is better to do preprocessing in Apache Beam. This will also help if you need to preprocess data in flight, since Apache Beam also allows for streaming."
   ]
  },
  {
   "cell_type": "markdown",
   "metadata": {},
   "source": [
    "Make sure the Dataflow API is enabled by going to [this link](https://console.developers.google.com/apis/api/dataflow.googleapis.com). Ensure that you've installed Beam by importing it and printing the version number."
   ]
  },
  {
   "cell_type": "code",
   "execution_count": 76,
   "metadata": {},
   "outputs": [
    {
     "name": "stdout",
     "output_type": "stream",
     "text": [
      "2.15.0\n"
     ]
    }
   ],
   "source": [
    "import apache_beam as beam\n",
    "print(beam.__version__) # 2.13.0 recomended"
   ]
  },
  {
   "cell_type": "markdown",
   "metadata": {},
   "source": [
    "You may receive a UserWarning about the Apache Beam SDK for Python 3 as not being yet fully supported. Don't worry about this.\n",
    "\n",
    "Make sure you still have your query:"
   ]
  },
  {
   "cell_type": "code",
   "execution_count": 77,
   "metadata": {},
   "outputs": [
    {
     "data": {
      "text/html": [
       "<div>\n",
       "<style scoped>\n",
       "    .dataframe tbody tr th:only-of-type {\n",
       "        vertical-align: middle;\n",
       "    }\n",
       "\n",
       "    .dataframe tbody tr th {\n",
       "        vertical-align: top;\n",
       "    }\n",
       "\n",
       "    .dataframe thead th {\n",
       "        text-align: right;\n",
       "    }\n",
       "</style>\n",
       "<table border=\"1\" class=\"dataframe\">\n",
       "  <thead>\n",
       "    <tr style=\"text-align: right;\">\n",
       "      <th></th>\n",
       "      <th>hashname</th>\n",
       "      <th>chocolate</th>\n",
       "      <th>fruity</th>\n",
       "      <th>caramel</th>\n",
       "      <th>peanutyalmondy</th>\n",
       "      <th>nougat</th>\n",
       "      <th>crispedricewafer</th>\n",
       "      <th>hard</th>\n",
       "      <th>bar</th>\n",
       "      <th>pluribus</th>\n",
       "      <th>sugarpercent</th>\n",
       "      <th>pricepercent</th>\n",
       "      <th>winpercent</th>\n",
       "    </tr>\n",
       "  </thead>\n",
       "  <tbody>\n",
       "    <tr>\n",
       "      <td>0</td>\n",
       "      <td>7046859833195853823</td>\n",
       "      <td>0</td>\n",
       "      <td>0</td>\n",
       "      <td>0</td>\n",
       "      <td>0</td>\n",
       "      <td>0</td>\n",
       "      <td>0</td>\n",
       "      <td>0</td>\n",
       "      <td>0</td>\n",
       "      <td>0</td>\n",
       "      <td>0.011</td>\n",
       "      <td>0.116</td>\n",
       "      <td>32.261086</td>\n",
       "    </tr>\n",
       "    <tr>\n",
       "      <td>1</td>\n",
       "      <td>9167499499902123141</td>\n",
       "      <td>0</td>\n",
       "      <td>0</td>\n",
       "      <td>0</td>\n",
       "      <td>0</td>\n",
       "      <td>0</td>\n",
       "      <td>0</td>\n",
       "      <td>0</td>\n",
       "      <td>0</td>\n",
       "      <td>0</td>\n",
       "      <td>0.011</td>\n",
       "      <td>0.511</td>\n",
       "      <td>46.116505</td>\n",
       "    </tr>\n",
       "    <tr>\n",
       "      <td>2</td>\n",
       "      <td>1631755363487315696</td>\n",
       "      <td>0</td>\n",
       "      <td>1</td>\n",
       "      <td>0</td>\n",
       "      <td>0</td>\n",
       "      <td>0</td>\n",
       "      <td>0</td>\n",
       "      <td>0</td>\n",
       "      <td>0</td>\n",
       "      <td>0</td>\n",
       "      <td>0.906</td>\n",
       "      <td>0.511</td>\n",
       "      <td>52.341465</td>\n",
       "    </tr>\n",
       "    <tr>\n",
       "      <td>3</td>\n",
       "      <td>1606999616445289157</td>\n",
       "      <td>0</td>\n",
       "      <td>1</td>\n",
       "      <td>1</td>\n",
       "      <td>0</td>\n",
       "      <td>0</td>\n",
       "      <td>0</td>\n",
       "      <td>0</td>\n",
       "      <td>0</td>\n",
       "      <td>0</td>\n",
       "      <td>0.604</td>\n",
       "      <td>0.325</td>\n",
       "      <td>34.517681</td>\n",
       "    </tr>\n",
       "    <tr>\n",
       "      <td>4</td>\n",
       "      <td>5825011382060312997</td>\n",
       "      <td>0</td>\n",
       "      <td>1</td>\n",
       "      <td>0</td>\n",
       "      <td>0</td>\n",
       "      <td>0</td>\n",
       "      <td>0</td>\n",
       "      <td>1</td>\n",
       "      <td>0</td>\n",
       "      <td>0</td>\n",
       "      <td>0.732</td>\n",
       "      <td>0.034</td>\n",
       "      <td>39.460556</td>\n",
       "    </tr>\n",
       "  </tbody>\n",
       "</table>\n",
       "</div>"
      ],
      "text/plain": [
       "              hashname  chocolate  fruity  caramel  peanutyalmondy  nougat  \\\n",
       "0  7046859833195853823          0       0        0               0       0   \n",
       "1  9167499499902123141          0       0        0               0       0   \n",
       "2  1631755363487315696          0       1        0               0       0   \n",
       "3  1606999616445289157          0       1        1               0       0   \n",
       "4  5825011382060312997          0       1        0               0       0   \n",
       "\n",
       "   crispedricewafer  hard  bar  pluribus  sugarpercent  pricepercent  \\\n",
       "0                 0     0    0         0         0.011         0.116   \n",
       "1                 0     0    0         0         0.011         0.511   \n",
       "2                 0     0    0         0         0.906         0.511   \n",
       "3                 0     0    0         0         0.604         0.325   \n",
       "4                 0     1    0         0         0.732         0.034   \n",
       "\n",
       "   winpercent  \n",
       "0   32.261086  \n",
       "1   46.116505  \n",
       "2   52.341465  \n",
       "3   34.517681  \n",
       "4   39.460556  "
      ]
     },
     "execution_count": 77,
     "metadata": {},
     "output_type": "execute_result"
    }
   ],
   "source": [
    "# Create SQL query using candy_data\n",
    "query = \"\"\"\n",
    "SELECT\n",
    "    ABS(FARM_FINGERPRINT(competitorname)) AS hashname,\n",
    "    chocolate, \n",
    "    fruity, \n",
    "    caramel, \n",
    "    peanutyalmondy, \n",
    "    nougat, \n",
    "    crispedricewafer, \n",
    "    hard, \n",
    "    bar, \n",
    "    pluribus, \n",
    "    sugarpercent, \n",
    "    pricepercent, \n",
    "    winpercent\n",
    "FROM\n",
    "  lidldatascientistadvanalytics.candy_data.original\n",
    "\"\"\"\n",
    "# Call BigQuery and examine in dataframe\n",
    "from google.cloud import bigquery\n",
    "df = bigquery.Client().query(query + \" LIMIT 100\").to_dataframe()\n",
    "df.head()"
   ]
  },
  {
   "cell_type": "markdown",
   "metadata": {},
   "source": [
    "## Create ML dataset using Dataflow\n",
    "\n",
    "Let's use Cloud Dataflow to read in the BigQuery data, do some preprocessing, and write it out as CSV files.\n",
    "\n",
    "Instead of using Beam/Dataflow, we have three other options:\n",
    "- Use Cloud Dataprep to visually author a Dataflow pipeline. Cloud Dataprep also allows me to explore the data, so we could have avoided much of the handcoding of Python/Seaborn calls above as well!\n",
    "- Read from BigQuery directly using TensorFlow.\n",
    "- Use the BigQuery console (http://bigquery.cloud.google.com) to run a Query and save the result as a CSV file. For larger datasets, you may have to select the option to \"allow large results\" and save the result into a CSV file on Google Cloud Storage.\n",
    "\n",
    "However, in this case, we want to do some preprocessing. If we didn't need preprocessing, we could have used the web console. Also, I prefer to script it out rather than run queries on the user interface, so I am using Cloud Dataflow for the preprocessing.\n",
    "\n",
    "Note that after you launch this, the actual processing is happening on the cloud. Go to the GCP webconsole to the Dataflow section and monitor the running job."
   ]
  },
  {
   "cell_type": "code",
   "execution_count": 78,
   "metadata": {},
   "outputs": [
    {
     "name": "stdout",
     "output_type": "stream",
     "text": [
      "Launching Dataflow job preprocess-candy-features-190907-183519 ... hang on\n"
     ]
    }
   ],
   "source": [
    "import datetime, os\n",
    "\n",
    "def to_csv(rowdict):\n",
    "  # Pull columns from BQ and create a line\n",
    "  import hashlib\n",
    "  import copy\n",
    "  CSV_COLUMNS = 'hashname,chocolate,fruity,caramel,peanutyalmondy,nougat,crispedricewafer,hard,bar,pluribus,sugarpercent,pricepercent,winpercent'.split(',')\n",
    "  # TODO preprocessing if needed\n",
    "    \n",
    "  # Write out two rows for each input row, one with ultrasound and one without\n",
    "  for result in [rowdict]:\n",
    "    data = ','.join([str(result[k]) if k in result else 'None' for k in CSV_COLUMNS])\n",
    "    yield str('{}'.format(data))\n",
    "  \n",
    "def preprocess(in_test_mode):\n",
    "  import shutil, os, subprocess\n",
    "  job_name = 'preprocess-candy-features' + '-' + datetime.datetime.now().strftime('%y%m%d-%H%M%S')\n",
    "\n",
    "  if in_test_mode:\n",
    "      print('Launching local job ... hang on')\n",
    "      OUTPUT_DIR = './preproc'\n",
    "      shutil.rmtree(OUTPUT_DIR, ignore_errors=True)\n",
    "      os.makedirs(OUTPUT_DIR)\n",
    "  else:\n",
    "      print('Launching Dataflow job {} ... hang on'.format(job_name))\n",
    "      OUTPUT_DIR = 'gs://{0}/candy/preproc/'.format(BUCKET)\n",
    "      try:\n",
    "        subprocess.check_call('gsutil -m rm -r {}'.format(OUTPUT_DIR).split())\n",
    "      except:\n",
    "        pass\n",
    "\n",
    "  options = {\n",
    "      'staging_location': os.path.join(OUTPUT_DIR, 'tmp', 'staging'),\n",
    "      'temp_location': os.path.join(OUTPUT_DIR, 'tmp'),\n",
    "      'job_name': job_name,\n",
    "      'project': PROJECT,\n",
    "      'region': REGION,\n",
    "      'teardown_policy': 'TEARDOWN_ALWAYS',\n",
    "      'no_save_main_session': True,\n",
    "      'max_num_workers': 6\n",
    "  }\n",
    "  #The PipelineOptions() method is a command line parser that will \n",
    "  #read any standard option passed the following way --<option>=<value>\n",
    "  opts = beam.pipeline.PipelineOptions(flags = [], **options)\n",
    "  if in_test_mode:\n",
    "      RUNNER = 'DirectRunner'\n",
    "  else:\n",
    "      RUNNER = 'DataflowRunner'\n",
    "  p = beam.Pipeline(RUNNER, options = opts)\n",
    "  query = \"\"\"\n",
    "SELECT\n",
    "    ABS(FARM_FINGERPRINT(competitorname)) AS hashname,\n",
    "    chocolate, \n",
    "    fruity, \n",
    "    caramel, \n",
    "    peanutyalmondy, \n",
    "    nougat, \n",
    "    crispedricewafer, \n",
    "    hard, \n",
    "    bar, \n",
    "    pluribus, \n",
    "    sugarpercent, \n",
    "    pricepercent, \n",
    "    winpercent\n",
    "FROM\n",
    "  lidldatascientistadvanalytics.candy_data.original\n",
    "    \"\"\"\n",
    "\n",
    "  if in_test_mode:\n",
    "    query = query + ' LIMIT 100' \n",
    "\n",
    "  for step in ['train', 'eval']:\n",
    "    if step == 'train':\n",
    "      selquery = 'SELECT * FROM ({}) WHERE MOD(ABS(hashname),4) < 3'.format(query)\n",
    "    else:\n",
    "      selquery = 'SELECT * FROM ({}) WHERE MOD(ABS(hashname),4) = 3'.format(query)\n",
    "\n",
    "    (p \n",
    "     | '{}_read'.format(step) >> beam.io.Read(beam.io.BigQuerySource(query = selquery, use_standard_sql = True))\n",
    "     | '{}_csv'.format(step) >> beam.FlatMap(to_csv)\n",
    "     | '{}_out'.format(step) >> beam.io.Write(beam.io.WriteToText(os.path.join(OUTPUT_DIR, '{}.csv'.format(step))))\n",
    "    )\n",
    "\n",
    "  job = p.run()\n",
    "  if in_test_mode:\n",
    "    job.wait_until_finish()\n",
    "    print(\"Done!\")\n",
    "    \n",
    "preprocess(in_test_mode = False)"
   ]
  },
  {
   "cell_type": "markdown",
   "metadata": {},
   "source": [
    "if you look closely the code first we do the preprocessing required than we write a dataflow pipeline that reads csv files from bigquery and writes to cloud storage as textfile."
   ]
  },
  {
   "cell_type": "markdown",
   "metadata": {},
   "source": [
    "The above step will take some time. Go to the GCP web console, navigate to the Dataflow section and wait for the job to finish before you run the following step."
   ]
  },
  {
   "cell_type": "code",
   "execution_count": 49,
   "metadata": {},
   "outputs": [
    {
     "name": "stdout",
     "output_type": "stream",
     "text": [
      "gs://lidldatascientistadvanalytics/candy/preproc/eval.csv-00000-of-00001\n",
      "gs://lidldatascientistadvanalytics/candy/preproc/train.csv-00000-of-00001\n"
     ]
    }
   ],
   "source": [
    "%%bash\n",
    "gsutil ls gs://${BUCKET}/candy/preproc/*-00000*"
   ]
  },
  {
   "cell_type": "markdown",
   "metadata": {},
   "source": [
    "# 5. Execute training\n",
    "Illustrates: \n",
    "- distributed training and \n",
    "- hyperparameter tuning on Cloud AI Platform"
   ]
  },
  {
   "cell_type": "code",
   "execution_count": 50,
   "metadata": {},
   "outputs": [],
   "source": [
    "os.environ['TFVERSION'] = '1.13'"
   ]
  },
  {
   "cell_type": "code",
   "execution_count": 52,
   "metadata": {},
   "outputs": [
    {
     "name": "stdout",
     "output_type": "stream",
     "text": [
      "gs://lidldatascientistadvanalytics/candy/preproc/eval.csv-00000-of-00001\n",
      "gs://lidldatascientistadvanalytics/candy/preproc/train.csv-00000-of-00001\n"
     ]
    },
    {
     "name": "stderr",
     "output_type": "stream",
     "text": [
      "Updated property [core/project].\n",
      "Updated property [compute/region].\n"
     ]
    }
   ],
   "source": [
    "%%bash\n",
    "gcloud config set project $PROJECT\n",
    "gcloud config set compute/region $REGION\n",
    "gsutil ls gs://${BUCKET}/candy/preproc/*-00000*"
   ]
  },
  {
   "cell_type": "markdown",
   "metadata": {},
   "source": [
    "Now that we have the TensorFlow code working on a subset of the data, we can package the TensorFlow code up as a Python module and train it on Cloud AI Platform."
   ]
  },
  {
   "cell_type": "markdown",
   "metadata": {},
   "source": [
    "## Train on Cloud AI Platform\n",
    "\n",
    "Training on Cloud AI Platform requires:\n",
    "\n",
    "- Making the code a Python package\n",
    "- Using gcloud to submit the training code to Cloud AI Platform\n",
    "\n",
    "Ensure that the AI Platform API is enabled by going to this [link](https://console.developers.google.com/apis/library/ml.googleapis.com)."
   ]
  },
  {
   "cell_type": "markdown",
   "metadata": {},
   "source": [
    "### create python package \n",
    "\n",
    "The following code edits candy/trainer/task.py."
   ]
  },
  {
   "cell_type": "code",
   "execution_count": 56,
   "metadata": {},
   "outputs": [
    {
     "name": "stdout",
     "output_type": "stream",
     "text": [
      "Overwriting candy/trainer/task.py\n"
     ]
    }
   ],
   "source": [
    "%%writefile candy/trainer/task.py\n",
    "import argparse\n",
    "import json\n",
    "import os\n",
    "\n",
    "from . import model\n",
    "\n",
    "import tensorflow as tf\n",
    "\n",
    "if __name__ == '__main__':\n",
    "    parser = argparse.ArgumentParser()\n",
    "    parser.add_argument(\n",
    "        '--bucket',\n",
    "        help = 'GCS path to data. We assume that data is in gs://BUCKET/babyweight/preproc/',\n",
    "        required = True\n",
    "    )\n",
    "    parser.add_argument(\n",
    "        '--output_dir',\n",
    "        help = 'GCS location to write checkpoints and export models',\n",
    "        required = True\n",
    "    )\n",
    "    parser.add_argument(\n",
    "        '--batch_size',\n",
    "        help = 'Number of examples to compute gradient over.',\n",
    "        type = int,\n",
    "        default = 512\n",
    "    )\n",
    "    parser.add_argument(\n",
    "        '--job-dir',\n",
    "        help = 'this model ignores this field, but it is required by gcloud',\n",
    "        default = 'junk'\n",
    "    )\n",
    "    parser.add_argument(\n",
    "        '--nnsize',\n",
    "        help = 'Hidden layer sizes to use for DNN feature columns -- provide space-separated layers',\n",
    "        nargs = '+',\n",
    "        type = int,\n",
    "        default=[128, 32, 4]\n",
    "    )\n",
    "    parser.add_argument(\n",
    "        '--nembeds',\n",
    "        help = 'Embedding size of a cross of n key real-valued parameters',\n",
    "        type = int,\n",
    "        default = 3\n",
    "    )\n",
    "\n",
    "    ## TODO 1: add the new arguments here \n",
    "    parser.add_argument(\n",
    "        '--train_examples',\n",
    "        help = 'Number of examples (in thousands) to run the training job over. If this is more than actual # of examples available, it cycles through them. So specifying 1000 here when you have only 100k examples makes this 10 epochs.',\n",
    "        type = int,\n",
    "        default = 5000\n",
    "    )    \n",
    "    parser.add_argument(\n",
    "        '--pattern',\n",
    "        help = 'Specify a pattern that has to be in input files. For example 00001-of will process only one shard',\n",
    "        default = 'of'\n",
    "    )\n",
    "    parser.add_argument(\n",
    "        '--eval_steps',\n",
    "        help = 'Positive number of steps for which to evaluate model. Default to None, which means to evaluate until input_fn raises an end-of-input exception',\n",
    "        type = int,       \n",
    "        default = None\n",
    "    )\n",
    "        \n",
    "    ## parse all arguments\n",
    "    args = parser.parse_args()\n",
    "    arguments = args.__dict__\n",
    "\n",
    "    # unused args provided by service\n",
    "    arguments.pop('job_dir', None)\n",
    "    arguments.pop('job-dir', None)\n",
    "\n",
    "    ## assign the arguments to the model variables\n",
    "    output_dir = arguments.pop('output_dir')\n",
    "    model.BUCKET     = arguments.pop('bucket')\n",
    "    model.BATCH_SIZE = arguments.pop('batch_size')\n",
    "    model.TRAIN_STEPS = (arguments.pop('train_examples') * 1000) / model.BATCH_SIZE\n",
    "    model.EVAL_STEPS = arguments.pop('eval_steps')    \n",
    "    print (\"Will train for {} steps using batch_size={}\".format(model.TRAIN_STEPS, model.BATCH_SIZE))\n",
    "    model.PATTERN = arguments.pop('pattern')\n",
    "    model.NEMBEDS= arguments.pop('nembeds')\n",
    "    model.NNSIZE = arguments.pop('nnsize')\n",
    "    print (\"Will use DNN size of {}\".format(model.NNSIZE))\n",
    "\n",
    "    # Append trial_id to path if we are doing hptuning\n",
    "    # This code can be removed if you are not using hyperparameter tuning\n",
    "    output_dir = os.path.join(\n",
    "        output_dir,\n",
    "        json.loads(\n",
    "            os.environ.get('TF_CONFIG', '{}')\n",
    "        ).get('task', {}).get('trial', '')\n",
    "    )\n",
    "\n",
    "    # Run the training job\n",
    "    model.train_and_evaluate(output_dir)"
   ]
  },
  {
   "cell_type": "markdown",
   "metadata": {},
   "source": [
    "The following code edits candy/trainer/model.py."
   ]
  },
  {
   "cell_type": "code",
   "execution_count": 85,
   "metadata": {},
   "outputs": [
    {
     "name": "stdout",
     "output_type": "stream",
     "text": [
      "Overwriting candy/trainer/model.py\n"
     ]
    }
   ],
   "source": [
    "%%writefile candy/trainer/model.py\n",
    "import shutil\n",
    "import numpy as np\n",
    "import tensorflow as tf\n",
    "\n",
    "tf.logging.set_verbosity(tf.logging.INFO)\n",
    "\n",
    "BUCKET = None  # set from task.py\n",
    "PATTERN = 'of' # gets all files\n",
    "\n",
    "# Determine CSV, label, and key columns\n",
    "CSV_COLUMNS = 'hashname,chocolate,fruity,caramel,peanutyalmondy,nougat,crispedricewafer,hard,bar,pluribus,sugarpercent,pricepercent,winpercent'.split(',')\n",
    "LABEL_COLUMN = 'winpercent'\n",
    "KEY_COLUMN = 'hashname'\n",
    "\n",
    "# Set default values for each CSV column\n",
    "DEFAULTS = [['nokey'],[0], [0], [0], [0], [0], [0], [0], [0], [0],  [0.0], [0.0], [0.0]]\n",
    "\n",
    "# Define some hyperparameters\n",
    "TRAIN_STEPS = 10000\n",
    "EVAL_STEPS = None\n",
    "BATCH_SIZE = 512\n",
    "NEMBEDS = 3\n",
    "NNSIZE = [64, 16, 4]\n",
    "\n",
    "# Create an input function reading a file using the Dataset API\n",
    "# Then provide the results to the Estimator API\n",
    "def read_dataset(prefix, mode, batch_size):\n",
    "    def _input_fn():\n",
    "        def decode_csv(value_column):\n",
    "            columns = tf.decode_csv(value_column, record_defaults=DEFAULTS)\n",
    "            features = dict(zip(CSV_COLUMNS, columns))\n",
    "            label = features.pop(LABEL_COLUMN)\n",
    "            return features, label\n",
    "        \n",
    "        # Use prefix to create file path\n",
    "        file_path = 'gs://{}/candy/preproc/{}*{}*'.format(BUCKET, prefix, PATTERN)\n",
    "\n",
    "        # Create list of files that match pattern\n",
    "        file_list = tf.gfile.Glob(file_path)\n",
    "\n",
    "        # Create dataset from file list\n",
    "        dataset = (tf.data.TextLineDataset(file_list)  # Read text file\n",
    "                    .map(decode_csv))  # Transform each elem by applying decode_csv fn\n",
    "      \n",
    "        if mode == tf.estimator.ModeKeys.TRAIN:\n",
    "            num_epochs = None # indefinitely\n",
    "            dataset = dataset.shuffle(buffer_size = 10 * batch_size)\n",
    "        else:\n",
    "            num_epochs = 1 # end-of-input after this\n",
    " \n",
    "        dataset = dataset.repeat(num_epochs).batch(batch_size)\n",
    "        return dataset.make_one_shot_iterator().get_next() #?\n",
    "    return _input_fn\n",
    "\n",
    "# Define feature columns\n",
    "def get_wide_deep():\n",
    "    # Define column types\n",
    "  chocolate,fruity,caramel,peanutyalmondy,nougat,crispedricewafer,hard,bar,pluribus,sugarpercent,pricepercent = \\\n",
    "         [\\\n",
    "          tf.feature_column.categorical_column_with_vocabulary_list('chocolate', [0, 1]),\n",
    "          tf.feature_column.categorical_column_with_vocabulary_list('fruity', [0, 1]),\n",
    "          tf.feature_column.categorical_column_with_vocabulary_list('caramel', [0, 1]),\n",
    "          tf.feature_column.categorical_column_with_vocabulary_list('peanutyalmondy', [0, 1]),\n",
    "          tf.feature_column.categorical_column_with_vocabulary_list('nougat', [0, 1]),\n",
    "          tf.feature_column.categorical_column_with_vocabulary_list('crispedricewafer', [0, 1]),\n",
    "          tf.feature_column.categorical_column_with_vocabulary_list('hard', [0, 1]),\n",
    "          tf.feature_column.categorical_column_with_vocabulary_list('bar', [0, 1]),\n",
    "          tf.feature_column.categorical_column_with_vocabulary_list('pluribus', [0, 1]),\n",
    "          tf.feature_column.numeric_column('sugarpercent'),\n",
    "          tf.feature_column.numeric_column('pricepercent')\n",
    "         ]\n",
    "\n",
    "  # Discretize\n",
    "  sugar_buckets = tf.feature_column.bucketized_column(sugarpercent, \n",
    "                      boundaries=np.arange(0.2,0.8,.2).tolist())\n",
    "  price_buckets = tf.feature_column.bucketized_column(pricepercent, \n",
    "                      boundaries=np.arange(0.2,0.8,.2).tolist())\n",
    "\n",
    "  # Sparse columns are wide, have a linear relationship with the output\n",
    "  wide = [\\\n",
    "          chocolate,\n",
    "          fruity,\n",
    "          #caramel,\n",
    "          peanutyalmondy,\n",
    "          #nougat,\n",
    "          crispedricewafer,\n",
    "          hard,\n",
    "          bar,\n",
    "          #pluribus,\n",
    "          #sugar_buckets,\n",
    "          price_buckets\n",
    "         ]\n",
    "\n",
    "  # Feature cross all the wide columns and embed into a lower dimension\n",
    "  crossed = tf.feature_column.crossed_column(wide, hash_bucket_size=20000)\n",
    "  embed = tf.feature_column.embedding_column(crossed, 3)\n",
    "\n",
    "  # Continuous columns are deep, have a complex relationship with the output\n",
    "  deep = [\\\n",
    "          #sugarpercent,\n",
    "          #pricepercent,\n",
    "          embed]\n",
    "  return wide, deep\n",
    "\n",
    "# Create serving input function to be able to serve predictions later using provided inputs\n",
    "def serving_input_fn():\n",
    "    feature_placeholders = {\n",
    "        KEY_COLUMN: tf.placeholder_with_default(tf.constant(['nokey']), [None]),\n",
    "        'chocolate': tf.placeholder(tf.int64, [None]),\n",
    "        'fruity': tf.placeholder(tf.int64, [None]),\n",
    "        #'caramel': tf.placeholder(tf.int64, [None]),\n",
    "        'peanutyalmondy': tf.placeholder(tf.int64, [None]),\n",
    "        #'nougat': tf.placeholder(tf.int64, [None]),\n",
    "        'crispedricewafer': tf.placeholder(tf.int64, [None]),\n",
    "        'hard': tf.placeholder(tf.int64, [None]),\n",
    "        'bar': tf.placeholder(tf.int64, [None]),\n",
    "        #'pluribus': tf.placeholder(tf.int64, [None]),\n",
    "        #'sugarpercent': tf.placeholder(tf.float32, [None]),\n",
    "        'pricepercent': tf.placeholder(tf.float32, [None])\n",
    "    }\n",
    "    features = {\n",
    "        key: tf.expand_dims(tensor, -1)\n",
    "        for key, tensor in feature_placeholders.items()\n",
    "    }\n",
    "    return tf.estimator.export.ServingInputReceiver(features, feature_placeholders)\n",
    "\n",
    "# create metric for hyperparameter tuning\n",
    "def my_rmse(labels, predictions):\n",
    "    pred_values = predictions['predictions']\n",
    "    return {'rmse': tf.metrics.root_mean_squared_error(labels, pred_values)}\n",
    "\n",
    "# Create estimator to train and evaluate\n",
    "def train_and_evaluate(output_dir):\n",
    "    tf.summary.FileWriterCache.clear() # ensure filewriter cache is clear for TensorBoard events file\n",
    "    wide, deep = get_wide_deep()\n",
    "    EVAL_INTERVAL = 300 # seconds\n",
    "\n",
    "    run_config = tf.estimator.RunConfig(save_checkpoints_secs = EVAL_INTERVAL,\n",
    "                                        keep_checkpoint_max = 3)\n",
    "    \n",
    "    estimator = tf.estimator.DNNLinearCombinedRegressor(\n",
    "        model_dir = output_dir,\n",
    "        linear_feature_columns = wide,\n",
    "        dnn_feature_columns = deep,\n",
    "        dnn_hidden_units = NNSIZE,\n",
    "        config = run_config)\n",
    "    \n",
    "    # illustrates how to add an extra metric\n",
    "    estimator = tf.contrib.estimator.add_metrics(estimator, my_rmse)\n",
    "    # for batch prediction, you need a key associated with each instance\n",
    "    estimator = tf.contrib.estimator.forward_features(estimator, KEY_COLUMN)\n",
    "    \n",
    "    train_spec = tf.estimator.TrainSpec(\n",
    "        input_fn = read_dataset('train', tf.estimator.ModeKeys.TRAIN, BATCH_SIZE),\n",
    "        max_steps = TRAIN_STEPS)\n",
    "    \n",
    "    exporter = tf.estimator.LatestExporter('exporter', serving_input_fn, exports_to_keep=None)\n",
    "\n",
    "    eval_spec = tf.estimator.EvalSpec(\n",
    "        input_fn = read_dataset('eval', tf.estimator.ModeKeys.EVAL, 2**15),  # no need to batch in eval\n",
    "        steps = EVAL_STEPS,\n",
    "        start_delay_secs = 60, # start evaluating after N seconds\n",
    "        throttle_secs = EVAL_INTERVAL,  # evaluate every N seconds\n",
    "        exporters = exporter)\n",
    "    tf.estimator.train_and_evaluate(estimator, train_spec, eval_spec)"
   ]
  },
  {
   "cell_type": "code",
   "execution_count": 95,
   "metadata": {},
   "outputs": [
    {
     "name": "stdout",
     "output_type": "stream",
     "text": [
      "Writing candy/trainer/__init__.py\n"
     ]
    }
   ],
   "source": [
    "%%writefile candy/trainer/__init__.py\n",
    "# Copyright 2019 Olaf Bochmann. All Rights Reserved.\n",
    "#\n",
    "# Licensed under the Apache License, Version 2.0 (the \"License\");\n",
    "# you may not use this file except in compliance with the License.\n",
    "# You may obtain a copy of the License at\n",
    "#\n",
    "#     http://www.apache.org/licenses/LICENSE-2.0\n",
    "#\n",
    "# Unless required by applicable law or agreed to in writing, software\n",
    "# distributed under the License is distributed on an \"AS IS\" BASIS,\n",
    "# WITHOUT WARRANTIES OR CONDITIONS OF ANY KIND, either express or implied.\n",
    "# See the License for the specific language governing permissions and\n",
    "# limitations under the License.\n",
    "# ==============================================================================\n"
   ]
  },
  {
   "cell_type": "markdown",
   "metadata": {},
   "source": [
    "### test python package\n",
    "\n",
    "After moving the code to a package, make sure it works standalone. (Note the --pattern and --train_examples lines so that I am not trying to boil the ocean on my laptop). Even then, this takes about 3 minutes in which you won't see any output ..."
   ]
  },
  {
   "cell_type": "code",
   "execution_count": 86,
   "metadata": {
    "scrolled": false
   },
   "outputs": [
    {
     "name": "stdout",
     "output_type": "stream",
     "text": [
      "path=/anaconda3/gcstf/bin:/anaconda3/envs/gcstf/bin:/anaconda3/bin:/anaconda3/bin:/anaconda3/condabin:/Users/bochmann/google-cloud-sdk/bin:/opt/local/bin/ruby2.5:/Applications/calibre.app/Contents/MacOS:/Users/bochmann/bin:/opt/local/bin:/opt/local/sbin:/usr/local/bin:/usr/bin:/bin:/usr/sbin:/sbin:/opt/X11/bin\n",
      "bucket=lidldatascientistadvanalytics\n",
      "Will train for 1.953125 steps using batch_size=512\n",
      "Will use DNN size of [128, 32, 4]\n"
     ]
    },
    {
     "name": "stderr",
     "output_type": "stream",
     "text": [
      "WARNING:tensorflow:From /Users/bochmann/Projects/candy-power-ranking/candy/trainer/model.py:5: The name tf.logging.set_verbosity is deprecated. Please use tf.compat.v1.logging.set_verbosity instead.\n",
      "\n",
      "WARNING:tensorflow:From /Users/bochmann/Projects/candy-power-ranking/candy/trainer/model.py:5: The name tf.logging.INFO is deprecated. Please use tf.compat.v1.logging.INFO instead.\n",
      "\n",
      "WARNING:tensorflow:From /Users/bochmann/Projects/candy-power-ranking/candy/trainer/model.py:134: The name tf.summary.FileWriterCache is deprecated. Please use tf.compat.v1.summary.FileWriterCache instead.\n",
      "\n",
      "INFO:tensorflow:Using config: {'_model_dir': 'candy_trained/', '_tf_random_seed': None, '_save_summary_steps': 100, '_save_checkpoints_steps': None, '_save_checkpoints_secs': 300, '_session_config': allow_soft_placement: true\n",
      "graph_options {\n",
      "  rewrite_options {\n",
      "    meta_optimizer_iterations: ONE\n",
      "  }\n",
      "}\n",
      ", '_keep_checkpoint_max': 3, '_keep_checkpoint_every_n_hours': 10000, '_log_step_count_steps': 100, '_train_distribute': None, '_device_fn': None, '_protocol': None, '_eval_distribute': None, '_experimental_distribute': None, '_experimental_max_worker_delay_secs': None, '_service': None, '_cluster_spec': <tensorflow.python.training.server_lib.ClusterSpec object at 0x6397b29e8>, '_task_type': 'worker', '_task_id': 0, '_global_id_in_cluster': 0, '_master': '', '_evaluation_master': '', '_is_chief': True, '_num_ps_replicas': 0, '_num_worker_replicas': 1}\n",
      "WARNING:tensorflow:\n",
      "The TensorFlow contrib module will not be included in TensorFlow 2.0.\n",
      "For more information, please see:\n",
      "  * https://github.com/tensorflow/community/blob/master/rfcs/20180907-contrib-sunset.md\n",
      "  * https://github.com/tensorflow/addons\n",
      "  * https://github.com/tensorflow/io (for I/O related ops)\n",
      "If you depend on functionality not listed there, please file an issue.\n",
      "\n",
      "INFO:tensorflow:Using config: {'_model_dir': 'candy_trained/', '_tf_random_seed': None, '_save_summary_steps': 100, '_save_checkpoints_steps': None, '_save_checkpoints_secs': 300, '_session_config': allow_soft_placement: true\n",
      "graph_options {\n",
      "  rewrite_options {\n",
      "    meta_optimizer_iterations: ONE\n",
      "  }\n",
      "}\n",
      ", '_keep_checkpoint_max': 3, '_keep_checkpoint_every_n_hours': 10000, '_log_step_count_steps': 100, '_train_distribute': None, '_device_fn': None, '_protocol': None, '_eval_distribute': None, '_experimental_distribute': None, '_experimental_max_worker_delay_secs': None, '_service': None, '_cluster_spec': <tensorflow.python.training.server_lib.ClusterSpec object at 0x63c8decf8>, '_task_type': 'worker', '_task_id': 0, '_global_id_in_cluster': 0, '_master': '', '_evaluation_master': '', '_is_chief': True, '_num_ps_replicas': 0, '_num_worker_replicas': 1}\n",
      "INFO:tensorflow:Using config: {'_model_dir': 'candy_trained/', '_tf_random_seed': None, '_save_summary_steps': 100, '_save_checkpoints_steps': None, '_save_checkpoints_secs': 300, '_session_config': allow_soft_placement: true\n",
      "graph_options {\n",
      "  rewrite_options {\n",
      "    meta_optimizer_iterations: ONE\n",
      "  }\n",
      "}\n",
      ", '_keep_checkpoint_max': 3, '_keep_checkpoint_every_n_hours': 10000, '_log_step_count_steps': 100, '_train_distribute': None, '_device_fn': None, '_protocol': None, '_eval_distribute': None, '_experimental_distribute': None, '_experimental_max_worker_delay_secs': None, '_service': None, '_cluster_spec': <tensorflow.python.training.server_lib.ClusterSpec object at 0x63c8dee80>, '_task_type': 'worker', '_task_id': 0, '_global_id_in_cluster': 0, '_master': '', '_evaluation_master': '', '_is_chief': True, '_num_ps_replicas': 0, '_num_worker_replicas': 1}\n",
      "INFO:tensorflow:Not using Distribute Coordinator.\n",
      "INFO:tensorflow:Running training and evaluation locally (non-distributed).\n",
      "INFO:tensorflow:Start train and evaluate loop. The evaluate will happen after every checkpoint. Checkpoint frequency is determined based on RunConfig arguments: save_checkpoints_steps None or save_checkpoints_secs 300.\n",
      "WARNING:tensorflow:From /anaconda3/envs/gcstf/lib/python3.7/site-packages/tensorflow/python/training/training_util.py:236: Variable.initialized_value (from tensorflow.python.ops.variables) is deprecated and will be removed in a future version.\n",
      "Instructions for updating:\n",
      "Use Variable.read_value. Variables in 2.X are initialized automatically both in eager and graph (inside tf.defun) contexts.\n",
      "WARNING:tensorflow:From /Users/bochmann/Projects/candy-power-ranking/candy/trainer/model.py:39: The name tf.gfile.Glob is deprecated. Please use tf.io.gfile.glob instead.\n",
      "\n",
      "WARNING:tensorflow:From /Users/bochmann/Projects/candy-power-ranking/candy/trainer/model.py:30: The name tf.decode_csv is deprecated. Please use tf.io.decode_csv instead.\n",
      "\n",
      "WARNING:tensorflow:From /Users/bochmann/Projects/candy-power-ranking/candy/trainer/model.py:52: DatasetV1.make_one_shot_iterator (from tensorflow.python.data.ops.dataset_ops) is deprecated and will be removed in a future version.\n",
      "Instructions for updating:\n",
      "Use `for ... in dataset:` to iterate over a dataset. If using `tf.estimator`, return the `Dataset` object directly from your input function. As a last resort, you can use `tf.compat.v1.data.make_one_shot_iterator(dataset)`.\n",
      "INFO:tensorflow:Calling model_fn.\n",
      "INFO:tensorflow:Calling model_fn.\n",
      "INFO:tensorflow:Calling model_fn.\n",
      "WARNING:tensorflow:From /anaconda3/envs/gcstf/lib/python3.7/site-packages/tensorflow/python/ops/init_ops.py:1251: calling VarianceScaling.__init__ (from tensorflow.python.ops.init_ops) with dtype is deprecated and will be removed in a future version.\n",
      "Instructions for updating:\n",
      "Call initializer instance with the dtype argument instead of passing it to the constructor\n",
      "WARNING:tensorflow:From /anaconda3/envs/gcstf/lib/python3.7/site-packages/tensorflow/python/feature_column/feature_column_v2.py:3038: CrossedColumn._num_buckets (from tensorflow.python.feature_column.feature_column_v2) is deprecated and will be removed in a future version.\n",
      "Instructions for updating:\n",
      "The old _FeatureColumn APIs are being deprecated. Please use the new FeatureColumn APIs instead.\n",
      "WARNING:tensorflow:From /anaconda3/envs/gcstf/lib/python3.7/site-packages/tensorflow/python/feature_column/feature_column_v2.py:2655: add_dispatch_support.<locals>.wrapper (from tensorflow.python.ops.array_ops) is deprecated and will be removed in a future version.\n",
      "Instructions for updating:\n",
      "Use tf.where in 2.0, which has the same broadcast rule as np.where\n",
      "WARNING:tensorflow:From /anaconda3/envs/gcstf/lib/python3.7/site-packages/tensorflow_estimator/python/estimator/canned/linear.py:308: to_float (from tensorflow.python.ops.math_ops) is deprecated and will be removed in a future version.\n",
      "Instructions for updating:\n",
      "Use `tf.cast` instead.\n",
      "WARNING:tensorflow:From /anaconda3/envs/gcstf/lib/python3.7/site-packages/tensorflow/python/training/adagrad.py:76: calling Constant.__init__ (from tensorflow.python.ops.init_ops) with dtype is deprecated and will be removed in a future version.\n",
      "Instructions for updating:\n",
      "Call initializer instance with the dtype argument instead of passing it to the constructor\n",
      "INFO:tensorflow:Done calling model_fn.\n",
      "INFO:tensorflow:Done calling model_fn.\n",
      "INFO:tensorflow:Done calling model_fn.\n",
      "INFO:tensorflow:Create CheckpointSaverHook.\n",
      "INFO:tensorflow:Graph was finalized.\n",
      "2019-09-07 19:06:45.131595: I tensorflow/core/platform/cpu_feature_guard.cc:145] This TensorFlow binary is optimized with Intel(R) MKL-DNN to use the following CPU instructions in performance critical operations:  SSE4.1 SSE4.2 AVX AVX2 FMA\n",
      "To enable them in non-MKL-DNN operations, rebuild TensorFlow with the appropriate compiler flags.\n",
      "2019-09-07 19:06:45.131774: I tensorflow/core/common_runtime/process_util.cc:115] Creating new thread pool with default inter op setting: 4. Tune using inter_op_parallelism_threads for best performance.\n",
      "INFO:tensorflow:Running local_init_op.\n",
      "INFO:tensorflow:Done running local_init_op.\n",
      "INFO:tensorflow:Saving checkpoints for 0 into candy_trained/model.ckpt.\n",
      "INFO:tensorflow:loss = 1434744.8, step = 1\n",
      "INFO:tensorflow:Saving checkpoints for 2 into candy_trained/model.ckpt.\n",
      "INFO:tensorflow:Calling model_fn.\n",
      "INFO:tensorflow:Calling model_fn.\n",
      "INFO:tensorflow:Calling model_fn.\n",
      "INFO:tensorflow:Done calling model_fn.\n",
      "WARNING:tensorflow:From /Users/bochmann/Projects/candy-power-ranking/candy/trainer/model.py:130: The name tf.metrics.root_mean_squared_error is deprecated. Please use tf.compat.v1.metrics.root_mean_squared_error instead.\n",
      "\n",
      "INFO:tensorflow:Done calling model_fn.\n",
      "INFO:tensorflow:Done calling model_fn.\n",
      "INFO:tensorflow:Starting evaluation at 2019-09-07T19:06:57Z\n",
      "INFO:tensorflow:Graph was finalized.\n",
      "WARNING:tensorflow:From /anaconda3/envs/gcstf/lib/python3.7/site-packages/tensorflow/python/training/saver.py:1276: checkpoint_exists (from tensorflow.python.training.checkpoint_management) is deprecated and will be removed in a future version.\n",
      "Instructions for updating:\n",
      "Use standard file APIs to check for files with this prefix.\n",
      "INFO:tensorflow:Restoring parameters from candy_trained/model.ckpt-2\n",
      "INFO:tensorflow:Running local_init_op.\n",
      "INFO:tensorflow:Done running local_init_op.\n",
      "INFO:tensorflow:Evaluation [1/1]\n",
      "INFO:tensorflow:Finished evaluation at 2019-09-07-19:06:59\n",
      "INFO:tensorflow:Saving dict for global step 2: average_loss = 2421.905, global_step = 2, label/mean = 47.618057, loss = 43594.29, prediction/mean = 0.18348372, rmse = 49.212852\n",
      "INFO:tensorflow:Saving 'checkpoint_path' summary for global step 2: candy_trained/model.ckpt-2\n",
      "WARNING:tensorflow:From /Users/bochmann/Projects/candy-power-ranking/candy/trainer/model.py:108: The name tf.placeholder_with_default is deprecated. Please use tf.compat.v1.placeholder_with_default instead.\n",
      "\n",
      "WARNING:tensorflow:From /Users/bochmann/Projects/candy-power-ranking/candy/trainer/model.py:109: The name tf.placeholder is deprecated. Please use tf.compat.v1.placeholder instead.\n",
      "\n",
      "INFO:tensorflow:Calling model_fn.\n",
      "INFO:tensorflow:Calling model_fn.\n",
      "INFO:tensorflow:Calling model_fn.\n",
      "INFO:tensorflow:Done calling model_fn.\n",
      "INFO:tensorflow:Done calling model_fn.\n",
      "INFO:tensorflow:Done calling model_fn.\n",
      "WARNING:tensorflow:From /anaconda3/envs/gcstf/lib/python3.7/site-packages/tensorflow/python/saved_model/signature_def_utils_impl.py:201: build_tensor_info (from tensorflow.python.saved_model.utils_impl) is deprecated and will be removed in a future version.\n",
      "Instructions for updating:\n",
      "This function will only be available through the v1 compatibility library as tf.compat.v1.saved_model.utils.build_tensor_info or tf.compat.v1.saved_model.build_tensor_info.\n",
      "INFO:tensorflow:Signatures INCLUDED in export for Classify: None\n",
      "INFO:tensorflow:Signatures INCLUDED in export for Regress: None\n",
      "INFO:tensorflow:Signatures INCLUDED in export for Predict: ['predict']\n",
      "INFO:tensorflow:Signatures INCLUDED in export for Train: None\n",
      "INFO:tensorflow:Signatures INCLUDED in export for Eval: None\n",
      "INFO:tensorflow:Signatures EXCLUDED from export because they cannot be be served via TensorFlow Serving APIs:\n",
      "INFO:tensorflow:'serving_default' : Regression input must be a single string Tensor; got {'hashname': <tf.Tensor 'PlaceholderWithDefault:0' shape=(?,) dtype=string>, 'chocolate': <tf.Tensor 'Placeholder:0' shape=(?,) dtype=int64>, 'fruity': <tf.Tensor 'Placeholder_1:0' shape=(?,) dtype=int64>, 'peanutyalmondy': <tf.Tensor 'Placeholder_2:0' shape=(?,) dtype=int64>, 'crispedricewafer': <tf.Tensor 'Placeholder_3:0' shape=(?,) dtype=int64>, 'hard': <tf.Tensor 'Placeholder_4:0' shape=(?,) dtype=int64>, 'bar': <tf.Tensor 'Placeholder_5:0' shape=(?,) dtype=int64>, 'pricepercent': <tf.Tensor 'Placeholder_6:0' shape=(?,) dtype=float32>}\n",
      "INFO:tensorflow:'regression' : Regression input must be a single string Tensor; got {'hashname': <tf.Tensor 'PlaceholderWithDefault:0' shape=(?,) dtype=string>, 'chocolate': <tf.Tensor 'Placeholder:0' shape=(?,) dtype=int64>, 'fruity': <tf.Tensor 'Placeholder_1:0' shape=(?,) dtype=int64>, 'peanutyalmondy': <tf.Tensor 'Placeholder_2:0' shape=(?,) dtype=int64>, 'crispedricewafer': <tf.Tensor 'Placeholder_3:0' shape=(?,) dtype=int64>, 'hard': <tf.Tensor 'Placeholder_4:0' shape=(?,) dtype=int64>, 'bar': <tf.Tensor 'Placeholder_5:0' shape=(?,) dtype=int64>, 'pricepercent': <tf.Tensor 'Placeholder_6:0' shape=(?,) dtype=float32>}\n",
      "WARNING:tensorflow:Export includes no default signature!\n",
      "INFO:tensorflow:Restoring parameters from candy_trained/model.ckpt-2\n",
      "INFO:tensorflow:Assets added to graph.\n",
      "INFO:tensorflow:No assets to write.\n",
      "INFO:tensorflow:SavedModel written to: candy_trained/export/exporter/temp-b'1567876020'/saved_model.pb\n",
      "INFO:tensorflow:Loss for final step: 1459097.1.\n"
     ]
    }
   ],
   "source": [
    "%%bash\n",
    ". /anaconda3/etc/profile.d/conda.sh\n",
    "conda activate\n",
    "conda activate gcstf\n",
    "echo \"path=${PATH}\"\n",
    "echo \"bucket=${BUCKET}\"\n",
    "rm -rf candy_trained\n",
    "export PYTHONPATH=${PYTHONPATH}:${PWD}/candy\n",
    "python -m trainer.task \\\n",
    "  --bucket=${BUCKET} \\\n",
    "  --output_dir=candy_trained \\\n",
    "  --job-dir=./tmp \\\n",
    "  --pattern=\"00000-of-\" --train_examples=1 --eval_steps=1\n",
    "conda deactivate"
   ]
  },
  {
   "cell_type": "markdown",
   "metadata": {},
   "source": [
    "The exporter directory contains the test model."
   ]
  },
  {
   "cell_type": "code",
   "execution_count": 87,
   "metadata": {},
   "outputs": [
    {
     "name": "stdout",
     "output_type": "stream",
     "text": [
      "./candy_trained/checkpoint\n",
      "./candy_trained/events.out.tfevents.1567876004.Trix.local\n",
      "./candy_trained/graph.pbtxt\n",
      "./candy_trained/model.ckpt-0.data-00000-of-00002\n",
      "./candy_trained/model.ckpt-0.data-00001-of-00002\n",
      "./candy_trained/model.ckpt-0.index\n",
      "./candy_trained/model.ckpt-0.meta\n",
      "./candy_trained/model.ckpt-2.data-00000-of-00002\n",
      "./candy_trained/model.ckpt-2.data-00001-of-00002\n",
      "./candy_trained/model.ckpt-2.index\n",
      "./candy_trained/model.ckpt-2.meta\n",
      "\n",
      "./candy_trained/eval:\n",
      "events.out.tfevents.1567876020.Trix.local\n",
      "\n",
      "./candy_trained/export:\n",
      "exporter\n"
     ]
    }
   ],
   "source": [
    "%%bash\n",
    "ls ./candy_trained/*"
   ]
  },
  {
   "cell_type": "markdown",
   "metadata": {},
   "source": [
    "The JSON below represents an input into your prediction model. Write the input.json file below with the next cell, then run the prediction locally to assess whether it produces predictions correctly."
   ]
  },
  {
   "cell_type": "code",
   "execution_count": 128,
   "metadata": {},
   "outputs": [
    {
     "name": "stdout",
     "output_type": "stream",
     "text": [
      "Overwriting inputs.json\n"
     ]
    }
   ],
   "source": [
    "%%writefile inputs.json\n",
    "{\"hashname\": 1, \"chocolate\": 1, \"fruity\": 1, \"peanutyalmondy\": 1, \"crispedricewafer\": 1, \"hard\": 1, \"bar\": 1, \"pricepercent\": 0.1}\n",
    "{\"hashname\": 2, \"chocolate\": 1, \"fruity\": 1, \"peanutyalmondy\": 1, \"crispedricewafer\": 1, \"hard\": 1, \"bar\": 1, \"pricepercent\": 0.8}"
   ]
  },
  {
   "cell_type": "code",
   "execution_count": 130,
   "metadata": {},
   "outputs": [
    {
     "name": "stdout",
     "output_type": "stream",
     "text": [
      "/Users/bochmann/Projects/candy-power-ranking/candy_trained/export/exporter/1567876020\n"
     ]
    }
   ],
   "source": [
    "%%bash\n",
    "MODEL_LOCATION=$(ls -d $(pwd)/candy_trained/export/exporter/* | tail -1)\n",
    "echo $MODEL_LOCATION\n",
    "#gcloud ai-platform local predict --model-dir=$MODEL_LOCATION --json-instances=inputs.json"
   ]
  },
  {
   "cell_type": "markdown",
   "metadata": {},
   "source": [
    "## run it on Cloud AI Platform\n",
    "\n",
    "Once the code works in standalone mode, you can run it on Cloud AI Platform. Because this is on the entire dataset, it will take a while. The training run took about two hours for me. You can monitor the job from the GCP console in the Cloud AI Platform section."
   ]
  },
  {
   "cell_type": "code",
   "execution_count": 96,
   "metadata": {},
   "outputs": [
    {
     "name": "stdout",
     "output_type": "stream",
     "text": [
      "gs://lidldatascientistadvanalytics/candy/trained_model us-central1 candy_190907_172418\n",
      "jobId: candy_190907_172418\n",
      "state: QUEUED\n"
     ]
    },
    {
     "name": "stderr",
     "output_type": "stream",
     "text": [
      "CommandException: 1 files/objects could not be removed.\n",
      "Job [candy_190907_172418] submitted successfully.\n",
      "Your job is still active. You may view the status of your job with the command\n",
      "\n",
      "  $ gcloud ai-platform jobs describe candy_190907_172418\n",
      "\n",
      "or continue streaming the logs with the command\n",
      "\n",
      "  $ gcloud ai-platform jobs stream-logs candy_190907_172418\n"
     ]
    }
   ],
   "source": [
    "%%bash\n",
    "OUTDIR=gs://${BUCKET}/candy/trained_model\n",
    "JOBNAME=candy_$(date -u +%y%m%d_%H%M%S)\n",
    "echo $OUTDIR $REGION $JOBNAME\n",
    "gsutil -m rm -rf $OUTDIR\n",
    "gcloud ai-platform jobs submit training $JOBNAME \\\n",
    "  --region=$REGION \\\n",
    "  --module-name=trainer.task \\\n",
    "  --package-path=$(pwd)/candy/trainer \\\n",
    "  --job-dir=$OUTDIR \\\n",
    "  --staging-bucket=gs://$BUCKET \\\n",
    "  --scale-tier=STANDARD_1 \\\n",
    "  --runtime-version=$TFVERSION \\\n",
    "  -- \\\n",
    "  --bucket=${BUCKET} \\\n",
    "  --output_dir=${OUTDIR} \\\n",
    "  --train_examples=200000"
   ]
  },
  {
   "cell_type": "markdown",
   "metadata": {},
   "source": [
    "When I ran it, I used train_examples=2000000. When training finished, I filtered in the Stackdriver log on the word \"dict\" and saw that the last line was:\n",
    "\n",
    "\"Saving dict for global step 390633: average_loss = 264.32812, global_step = 390633, label/mean = 47.618057, loss = 4757.9062, prediction/mean = 45.579086, rmse = 16.258171\"    "
   ]
  },
  {
   "cell_type": "markdown",
   "metadata": {},
   "source": [
    "## Hyperparameter tuning\n",
    "\n",
    "All of these are command-line parameters to my program. To do hyperparameter tuning, create hyperparam.xml and pass it as --configFile. This step will take up to 2 hours -- you can increase maxParallelTrials or reduce maxTrials to get it done faster. Since maxParallelTrials is the number of initial seeds to start searching from, you don't want it to be too large; otherwise, all you have is a random search."
   ]
  },
  {
   "cell_type": "code",
   "execution_count": 97,
   "metadata": {},
   "outputs": [
    {
     "name": "stdout",
     "output_type": "stream",
     "text": [
      "Writing hyperparam.yaml\n"
     ]
    }
   ],
   "source": [
    "%%writefile hyperparam.yaml\n",
    "trainingInput:\n",
    "  scaleTier: STANDARD_1\n",
    "  hyperparameters:\n",
    "    hyperparameterMetricTag: rmse\n",
    "    goal: MINIMIZE\n",
    "    maxTrials: 20\n",
    "    maxParallelTrials: 5\n",
    "    enableTrialEarlyStopping: True\n",
    "    params:\n",
    "    - parameterName: batch_size\n",
    "      type: INTEGER\n",
    "      minValue: 8\n",
    "      maxValue: 512\n",
    "      scaleType: UNIT_LOG_SCALE\n",
    "    - parameterName: nembeds\n",
    "      type: INTEGER\n",
    "      minValue: 3\n",
    "      maxValue: 30\n",
    "      scaleType: UNIT_LINEAR_SCALE\n",
    "    - parameterName: nnsize\n",
    "      type: INTEGER\n",
    "      minValue: 64\n",
    "      maxValue: 512\n",
    "      scaleType: UNIT_LOG_SCALE"
   ]
  },
  {
   "cell_type": "code",
   "execution_count": 98,
   "metadata": {},
   "outputs": [
    {
     "name": "stdout",
     "output_type": "stream",
     "text": [
      "gs://lidldatascientistadvanalytics/candy/hyperparam us-central1 candy_190907_190746\n",
      "jobId: candy_190907_190746\n",
      "state: QUEUED\n"
     ]
    },
    {
     "name": "stderr",
     "output_type": "stream",
     "text": [
      "CommandException: 1 files/objects could not be removed.\n",
      "Job [candy_190907_190746] submitted successfully.\n",
      "Your job is still active. You may view the status of your job with the command\n",
      "\n",
      "  $ gcloud ai-platform jobs describe candy_190907_190746\n",
      "\n",
      "or continue streaming the logs with the command\n",
      "\n",
      "  $ gcloud ai-platform jobs stream-logs candy_190907_190746\n"
     ]
    }
   ],
   "source": [
    "%%bash\n",
    "OUTDIR=gs://${BUCKET}/candy/hyperparam\n",
    "JOBNAME=candy_$(date -u +%y%m%d_%H%M%S)\n",
    "echo $OUTDIR $REGION $JOBNAME\n",
    "gsutil -m rm -rf $OUTDIR\n",
    "gcloud ai-platform jobs submit training $JOBNAME \\\n",
    "  --region=$REGION \\\n",
    "  --module-name=trainer.task \\\n",
    "  --package-path=$(pwd)/candy/trainer \\\n",
    "  --job-dir=$OUTDIR \\\n",
    "  --staging-bucket=gs://$BUCKET \\\n",
    "  --scale-tier=STANDARD_1 \\\n",
    "  --config=hyperparam.yaml \\\n",
    "  --runtime-version=$TFVERSION \\\n",
    "  -- \\\n",
    "  --bucket=${BUCKET} \\\n",
    "  --output_dir=${OUTDIR} \\\n",
    "  --eval_steps=10 \\\n",
    "  --train_examples=20000"
   ]
  },
  {
   "cell_type": "markdown",
   "metadata": {},
   "source": [
    "### Repeat training\n",
    "This time with tuned parameters (note last line)"
   ]
  },
  {
   "cell_type": "code",
   "execution_count": 100,
   "metadata": {},
   "outputs": [
    {
     "name": "stdout",
     "output_type": "stream",
     "text": [
      "gs://lidldatascientistadvanalytics/candy/trained_model_tuned us-central1 candy_190908_033401\n",
      "jobId: candy_190908_033401\n",
      "state: QUEUED\n"
     ]
    },
    {
     "name": "stderr",
     "output_type": "stream",
     "text": [
      "CommandException: 1 files/objects could not be removed.\n",
      "Job [candy_190908_033401] submitted successfully.\n",
      "Your job is still active. You may view the status of your job with the command\n",
      "\n",
      "  $ gcloud ai-platform jobs describe candy_190908_033401\n",
      "\n",
      "or continue streaming the logs with the command\n",
      "\n",
      "  $ gcloud ai-platform jobs stream-logs candy_190908_033401\n"
     ]
    }
   ],
   "source": [
    "%%bash\n",
    "OUTDIR=gs://${BUCKET}/candy/trained_model_tuned\n",
    "JOBNAME=candy_$(date -u +%y%m%d_%H%M%S)\n",
    "echo $OUTDIR $REGION $JOBNAME\n",
    "gsutil -m rm -rf $OUTDIR\n",
    "gcloud ai-platform jobs submit training $JOBNAME \\\n",
    "  --region=$REGION \\\n",
    "  --module-name=trainer.task \\\n",
    "  --package-path=$(pwd)/candy/trainer \\\n",
    "  --job-dir=$OUTDIR \\\n",
    "  --staging-bucket=gs://$BUCKET \\\n",
    "  --scale-tier=STANDARD_1 \\\n",
    "  --runtime-version=$TFVERSION \\\n",
    "  -- \\\n",
    "  --bucket=${BUCKET} \\\n",
    "  --output_dir=${OUTDIR} \\\n",
    "  --train_examples=20000 --batch_size=8 --nembeds=30 --nnsize=502"
   ]
  },
  {
   "cell_type": "markdown",
   "metadata": {},
   "source": [
    "\"Saving dict for global step 2500007: average_loss = 242.73277, global_step = 2500007, label/mean = 47.618057, loss = 4369.19, prediction/mean = 44.26384, rmse = 15.579884\"    "
   ]
  },
  {
   "cell_type": "code",
   "execution_count": 103,
   "metadata": {},
   "outputs": [
    {
     "name": "stdout",
     "output_type": "stream",
     "text": [
      "The tensorboard extension is already loaded. To reload it, use:\n",
      "  %reload_ext tensorboard\n"
     ]
    },
    {
     "data": {
      "text/html": [
       "\n",
       "        <iframe\n",
       "            width=\"100%\"\n",
       "            height=\"800\"\n",
       "            src=\"http://localhost:6008\"\n",
       "            frameborder=\"0\"\n",
       "            allowfullscreen\n",
       "        ></iframe>\n",
       "        "
      ],
      "text/plain": [
       "<IPython.lib.display.IFrame at 0x1265a9e10>"
      ]
     },
     "metadata": {},
     "output_type": "display_data"
    }
   ],
   "source": [
    "os.environ['PATH'] = \"/anaconda3/envs/gcstf/bin/:\"+os.environ['PATH']\n",
    "%load_ext tensorboard\n",
    "%tensorboard --logdir {os.path.join(BUCKET, '/candy/trained_model_tuned')}"
   ]
  },
  {
   "cell_type": "markdown",
   "metadata": {},
   "source": [
    "# 6. Deploy prediction service\n",
    "\n",
    "Illustrates:\n",
    "- Deploying model\n",
    "- Predicting with model"
   ]
  },
  {
   "cell_type": "markdown",
   "metadata": {},
   "source": [
    "## Deploy trained model\n",
    "Deploying the trained model to act as a REST web service is a simple gcloud call."
   ]
  },
  {
   "cell_type": "code",
   "execution_count": 104,
   "metadata": {},
   "outputs": [
    {
     "name": "stdout",
     "output_type": "stream",
     "text": [
      "gs://lidldatascientistadvanalytics/candy/trained_model_tuned/export/exporter/\n",
      "gs://lidldatascientistadvanalytics/candy/trained_model_tuned/export/exporter/1567914313/\n",
      "gs://lidldatascientistadvanalytics/candy/trained_model_tuned/export/exporter/1567914613/\n",
      "gs://lidldatascientistadvanalytics/candy/trained_model_tuned/export/exporter/1567915212/\n",
      "gs://lidldatascientistadvanalytics/candy/trained_model_tuned/export/exporter/1567915513/\n",
      "gs://lidldatascientistadvanalytics/candy/trained_model_tuned/export/exporter/1567916124/\n",
      "gs://lidldatascientistadvanalytics/candy/trained_model_tuned/export/exporter/1567916717/\n",
      "gs://lidldatascientistadvanalytics/candy/trained_model_tuned/export/exporter/1567917023/\n",
      "gs://lidldatascientistadvanalytics/candy/trained_model_tuned/export/exporter/1567917613/\n",
      "gs://lidldatascientistadvanalytics/candy/trained_model_tuned/export/exporter/1567918213/\n",
      "gs://lidldatascientistadvanalytics/candy/trained_model_tuned/export/exporter/1567918366/\n"
     ]
    }
   ],
   "source": [
    "%%bash\n",
    "gsutil ls gs://${BUCKET}/candy/trained_model_tuned/export/exporter/"
   ]
  },
  {
   "cell_type": "code",
   "execution_count": 105,
   "metadata": {},
   "outputs": [
    {
     "name": "stdout",
     "output_type": "stream",
     "text": [
      "Deleting and deploying candy ml_on_gcp from gs://lidldatascientistadvanalytics/candy/trained_model_tuned/export/exporter/1567918366/ ... this will take a few minutes\n"
     ]
    },
    {
     "name": "stderr",
     "output_type": "stream",
     "text": [
      "Created ml engine model [projects/lidldatascientistadvanalytics/models/candy].\n",
      "Creating version (this might take a few minutes)......\n",
      "..........................................................................................................................................................................................................................................................................................................................................................................................................................................................................................................................................................................................................................................................................................................................................................................................................................................................................................................................................................................................................................................................................................................................................................................................................................................................................................................................................................................................................................................................................................................................................................................................................................................................................................................................................................................................................................................................................................................................................................................................................................................................................................................................................................................................................................................................................................................................................................................................................................................................................................................................................................................................................................................................................................................................done.\n"
     ]
    }
   ],
   "source": [
    "%%bash\n",
    "MODEL_NAME=\"candy\"\n",
    "MODEL_VERSION=\"ml_on_gcp\"\n",
    "MODEL_LOCATION=$(gsutil ls gs://${BUCKET}/candy/trained_model_tuned/export/exporter/ | tail -1)\n",
    "echo \"Deleting and deploying $MODEL_NAME $MODEL_VERSION from $MODEL_LOCATION ... this will take a few minutes\"\n",
    "#gcloud ai-platform versions delete ${MODEL_VERSION} --model ${MODEL_NAME}\n",
    "#gcloud ai-platform models delete ${MODEL_NAME}\n",
    "gcloud ai-platform models create ${MODEL_NAME} --regions $REGION\n",
    "gcloud ai-platform versions create ${MODEL_VERSION} --model ${MODEL_NAME} --origin ${MODEL_LOCATION} --runtime-version $TFVERSION"
   ]
  },
  {
   "cell_type": "markdown",
   "metadata": {},
   "source": [
    "## Use model to predict (online prediction)\n",
    "Send a JSON request to the endpoint of the service to make it predict a baby's weight. The order of the responses are the order of the instances."
   ]
  },
  {
   "cell_type": "code",
   "execution_count": 144,
   "metadata": {},
   "outputs": [
    {
     "name": "stdout",
     "output_type": "stream",
     "text": [
      "{\n",
      "    \"predictions\": [\n",
      "        {\n",
      "            \"hashname\": [\n",
      "                \"1\"\n",
      "            ],\n",
      "            \"predictions\": [\n",
      "                28.833826065063477\n",
      "            ]\n",
      "        },\n",
      "        {\n",
      "            \"hashname\": [\n",
      "                \"2\"\n",
      "            ],\n",
      "            \"predictions\": [\n",
      "                18.41912078857422\n",
      "            ]\n",
      "        },\n",
      "        {\n",
      "            \"hashname\": [\n",
      "                \"3\"\n",
      "            ],\n",
      "            \"predictions\": [\n",
      "                50.689414978027344\n",
      "            ]\n",
      "        }\n",
      "    ]\n",
      "}\n"
     ]
    }
   ],
   "source": [
    "from googleapiclient import discovery\n",
    "from oauth2client.client import GoogleCredentials\n",
    "import json\n",
    "\n",
    "credentials = GoogleCredentials.get_application_default()\n",
    "api = discovery.build('ml', 'v1', credentials=credentials)\n",
    "\n",
    "request_data = {'instances':\n",
    "  [\n",
    "      {\n",
    "          \"hashname\": \"1\", \n",
    "          \"chocolate\": 1, \n",
    "          \"fruity\": 1, \n",
    "          \"peanutyalmondy\": 1, \n",
    "          \"crispedricewafer\": 1, \n",
    "          \"hard\": 1, \n",
    "          \"bar\": 1, \n",
    "          \"pricepercent\": 0.1\n",
    "      },\n",
    "      {\n",
    "          \"hashname\": \"2\", \n",
    "          \"chocolate\": 0, \n",
    "          \"fruity\": 1, \n",
    "          \"peanutyalmondy\": 0, \n",
    "          \"crispedricewafer\": 1, \n",
    "          \"hard\": 1, \n",
    "          \"bar\": 1, \n",
    "          \"pricepercent\": 0.5\n",
    "      },\n",
    "      {\n",
    "          \"hashname\": \"3\", \n",
    "          \"chocolate\": 1, \n",
    "          \"fruity\": 1, \n",
    "          \"peanutyalmondy\": 1, \n",
    "          \"crispedricewafer\": 1, \n",
    "          \"hard\": 1, \n",
    "          \"bar\": 0, \n",
    "          \"pricepercent\": 0.8\n",
    "      }\n",
    "  ]\n",
    "}\n",
    "\n",
    "parent = 'projects/%s/models/%s/versions/%s' % (PROJECT, MODEL_NAME, MODEL_VERSION)\n",
    "response = api.projects().predict(body=request_data, name=parent).execute()\n",
    "print(json.dumps(response, sort_keys = True, indent = 4))"
   ]
  },
  {
   "cell_type": "markdown",
   "metadata": {},
   "source": [
    "The predictions for the three instances were: 29, 18 and 50 pounds respectively when I ran it (your results might be different)."
   ]
  },
  {
   "cell_type": "markdown",
   "metadata": {},
   "source": [
    "## Use model to predict (batch prediction)\n",
    "Batch prediction is commonly used when you thousands to millions of predictions. Create a file with one instance per line and submit using gcloud."
   ]
  },
  {
   "cell_type": "code",
   "execution_count": 135,
   "metadata": {},
   "outputs": [
    {
     "name": "stdout",
     "output_type": "stream",
     "text": [
      "{\"hashname\": 1, \"chocolate\": 1, \"fruity\": 1, \"peanutyalmondy\": 1, \"crispedricewafer\": 1, \"hard\": 1, \"bar\": 1, \"pricepercent\": 0.1}\n",
      "{\"hashname\": 2, \"chocolate\": 1, \"fruity\": 1, \"peanutyalmondy\": 1, \"crispedricewafer\": 1, \"hard\": 1, \"bar\": 1, \"pricepercent\": 0.8}\n"
     ]
    }
   ],
   "source": [
    "%%bash\n",
    "gsutil cat gs://${BUCKET}/candy/batchpred/inputs.json"
   ]
  },
  {
   "cell_type": "code",
   "execution_count": 136,
   "metadata": {},
   "outputs": [
    {
     "name": "stdout",
     "output_type": "stream",
     "text": [
      "jobId: candypred_190909_102514\n",
      "state: QUEUED\n"
     ]
    },
    {
     "name": "stderr",
     "output_type": "stream",
     "text": [
      "Copying file://inputs.json [Content-Type=application/json]...\n",
      "/ [0 files][    0.0 B/  262.0 B]                                                \r",
      "/ [1 files][  262.0 B/  262.0 B]                                                \r",
      "-\r\n",
      "Operation completed over 1 objects/262.0 B.                                      \n",
      "Removing gs://lidldatascientistadvanalytics/candy/batchpred/outputs/prediction.errors_stats-00000-of-00001#1568024406459649...\n",
      "Removing gs://lidldatascientistadvanalytics/candy/batchpred/outputs/prediction.results-00000-of-00001#1568024384053711...\n",
      "/ [1/2 objects]  50% Done                                                       \r",
      "/ [2/2 objects] 100% Done                                                       \r\n",
      "Operation completed over 2 objects.                                              \n",
      "Job [candypred_190909_102514] submitted successfully.\n",
      "Your job is still active. You may view the status of your job with the command\n",
      "\n",
      "  $ gcloud ai-platform jobs describe candypred_190909_102514\n",
      "\n",
      "or continue streaming the logs with the command\n",
      "\n",
      "  $ gcloud ai-platform jobs stream-logs candypred_190909_102514\n"
     ]
    }
   ],
   "source": [
    "%%bash\n",
    "INPUT=gs://${BUCKET}/candy/batchpred/inputs.json\n",
    "OUTPUT=gs://${BUCKET}/candy/batchpred/outputs\n",
    "gsutil cp inputs.json $INPUT\n",
    "gsutil -m rm -rf $OUTPUT \n",
    "gcloud ai-platform jobs submit prediction candypred_$(date -u +%y%m%d_%H%M%S) \\\n",
    "  --data-format=TEXT --region ${REGION} \\\n",
    "  --input-paths=$INPUT \\\n",
    "  --output-path=$OUTPUT \\\n",
    "  --model=candy --version=ml_on_gcp"
   ]
  },
  {
   "cell_type": "code",
   "execution_count": 145,
   "metadata": {},
   "outputs": [
    {
     "name": "stdout",
     "output_type": "stream",
     "text": [
      "('Exception during running the graph: Unable to get element as bytes.', 1)\n"
     ]
    }
   ],
   "source": [
    "%%bash\n",
    "gsutil cat gs://${BUCKET}/candy/batchpred/outputs/prediction.*"
   ]
  },
  {
   "cell_type": "markdown",
   "metadata": {},
   "source": [
    "# 7. Automate\n",
    "\n",
    "see details at https://github.com/OleBo/candy-power-ranking/tree/master/pipeline"
   ]
  },
  {
   "cell_type": "markdown",
   "metadata": {},
   "source": [
    "# 8. Invoke ML prediction\n",
    "\n",
    "see details at https://github.com/OleBo/candy-power-ranking/tree/master/application"
   ]
  },
  {
   "cell_type": "code",
   "execution_count": null,
   "metadata": {},
   "outputs": [],
   "source": []
  }
 ],
 "metadata": {
  "kernelspec": {
   "display_name": "gcstf",
   "language": "python",
   "name": "gcstf"
  },
  "language_info": {
   "codemirror_mode": {
    "name": "ipython",
    "version": 3
   },
   "file_extension": ".py",
   "mimetype": "text/x-python",
   "name": "python",
   "nbconvert_exporter": "python",
   "pygments_lexer": "ipython3",
   "version": "3.7.3"
  },
  "nbTranslate": {
   "displayLangs": [
    "de",
    "en"
   ],
   "hotkey": "alt-t",
   "langInMainMenu": true,
   "sourceLang": "en",
   "targetLang": "de",
   "useGoogleTranslate": true
  },
  "toc": {
   "base_numbering": 1,
   "nav_menu": {},
   "number_sections": true,
   "sideBar": true,
   "skip_h1_title": false,
   "title_cell": "Table of Contents",
   "title_sidebar": "Contents",
   "toc_cell": false,
   "toc_position": {},
   "toc_section_display": true,
   "toc_window_display": false
  },
  "varInspector": {
   "cols": {
    "lenName": 16,
    "lenType": 16,
    "lenVar": 40
   },
   "kernels_config": {
    "python": {
     "delete_cmd_postfix": "",
     "delete_cmd_prefix": "del ",
     "library": "var_list.py",
     "varRefreshCmd": "print(var_dic_list())"
    },
    "r": {
     "delete_cmd_postfix": ") ",
     "delete_cmd_prefix": "rm(",
     "library": "var_list.r",
     "varRefreshCmd": "cat(var_dic_list()) "
    }
   },
   "types_to_exclude": [
    "module",
    "function",
    "builtin_function_or_method",
    "instance",
    "_Feature"
   ],
   "window_display": false
  }
 },
 "nbformat": 4,
 "nbformat_minor": 2
}

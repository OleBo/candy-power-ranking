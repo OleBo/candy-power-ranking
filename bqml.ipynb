{
 "cells": [
  {
   "cell_type": "markdown",
   "metadata": {},
   "source": [
    "# Predicting winpercent using BigQuery ML\n",
    "\n",
    "This notebook illustrates:\n",
    "\n",
    "1. Machine Learning using BigQuery\n",
    "2. Jupyter Magic for BigQuery in Cloud Datalab\n",
    "\n",
    "Please see this notebook for more context on this problem and how the features were chosen."
   ]
  },
  {
   "cell_type": "code",
   "execution_count": 1,
   "metadata": {},
   "outputs": [],
   "source": [
    "# change these to try this notebook out\n",
    "PROJECT = 'lidldatascientistadvanalytics'\n",
    "REGION = 'us-central1'"
   ]
  },
  {
   "cell_type": "code",
   "execution_count": 2,
   "metadata": {},
   "outputs": [],
   "source": [
    "import os\n",
    "os.environ['PROJECT'] = PROJECT\n",
    "os.environ['REGION'] = REGION\n",
    "\n",
    "import sys\n",
    "import warnings\n",
    "\n",
    "if not sys.warnoptions:\n",
    "    warnings.simplefilter(\"ignore\")"
   ]
  },
  {
   "cell_type": "code",
   "execution_count": 3,
   "metadata": {},
   "outputs": [
    {
     "name": "stderr",
     "output_type": "stream",
     "text": [
      "Updated property [core/project].\n",
      "Updated property [compute/region].\n"
     ]
    }
   ],
   "source": [
    "%%bash\n",
    "gcloud config set project $PROJECT\n",
    "gcloud config set compute/region $REGION"
   ]
  },
  {
   "cell_type": "code",
   "execution_count": 4,
   "metadata": {},
   "outputs": [],
   "source": [
    "%load_ext google.cloud.bigquery\n",
    "%load_ext google.datalab.kernel"
   ]
  },
  {
   "cell_type": "markdown",
   "metadata": {},
   "source": [
    "## Exploring the Data\n",
    "\n",
    "Here, we will be taking natality data and training on features to predict winpercent.\n",
    "\n",
    "The Ultimate Halloween Candy Power Ranking has details on the best (or at least the most popular) Halloween candy. More details: https://www.kaggle.com/fivethirtyeight/the-ultimate-halloween-candy-power-ranking\n",
    "\n",
    "Lets start by looking at the data!"
   ]
  },
  {
   "cell_type": "code",
   "execution_count": 5,
   "metadata": {},
   "outputs": [
    {
     "data": {
      "text/html": [
       "\n",
       "    <div class=\"bqtv\" id=\"1_156762087891\"><table><tr><th>competitorname</th><th>chocolate</th><th>fruity</th><th>caramel</th><th>peanutyalmondy</th><th>nougat</th><th>crispedricewafer</th><th>hard</th><th>bar</th><th>pluribus</th><th>sugarpercent</th><th>pricepercent</th><th>winpercent</th></tr><tr><td>ReeseÕs Peanut Butter cup</td><td>1</td><td>0</td><td>0</td><td>1</td><td>0</td><td>0</td><td>0</td><td>0</td><td>0</td><td>0.72000003</td><td>0.65100002</td><td>84.18029</td></tr><tr><td>ReeseÕs Miniatures</td><td>1</td><td>0</td><td>0</td><td>1</td><td>0</td><td>0</td><td>0</td><td>0</td><td>0</td><td>0.034000002</td><td>0.27900001</td><td>81.866257</td></tr><tr><td>Twix</td><td>1</td><td>0</td><td>1</td><td>0</td><td>0</td><td>1</td><td>0</td><td>1</td><td>0</td><td>0.546</td><td>0.90600002</td><td>81.642914</td></tr><tr><td>Kit Kat</td><td>1</td><td>0</td><td>0</td><td>0</td><td>0</td><td>1</td><td>0</td><td>1</td><td>0</td><td>0.31299999</td><td>0.51099998</td><td>76.7686</td></tr><tr><td>Snickers</td><td>1</td><td>0</td><td>1</td><td>1</td><td>1</td><td>0</td><td>0</td><td>1</td><td>0</td><td>0.546</td><td>0.65100002</td><td>76.673782</td></tr><tr><td>ReeseÕs pieces</td><td>1</td><td>0</td><td>0</td><td>1</td><td>0</td><td>0</td><td>0</td><td>0</td><td>1</td><td>0.40599999</td><td>0.65100002</td><td>73.43499</td></tr><tr><td>Milky Way</td><td>1</td><td>0</td><td>1</td><td>0</td><td>1</td><td>0</td><td>0</td><td>1</td><td>0</td><td>0.60399997</td><td>0.65100002</td><td>73.099556</td></tr><tr><td>ReeseÕs stuffed with pieces</td><td>1</td><td>0</td><td>0</td><td>1</td><td>0</td><td>0</td><td>0</td><td>0</td><td>0</td><td>0.98799998</td><td>0.65100002</td><td>72.887901</td></tr><tr><td>Peanut butter M&amp;MÕs</td><td>1</td><td>0</td><td>0</td><td>1</td><td>0</td><td>0</td><td>0</td><td>0</td><td>1</td><td>0.82499999</td><td>0.65100002</td><td>71.46505</td></tr><tr><td>Nestle Butterfinger</td><td>1</td><td>0</td><td>0</td><td>1</td><td>0</td><td>0</td><td>0</td><td>1</td><td>0</td><td>0.60399997</td><td>0.76700002</td><td>70.735641</td></tr></table></div>\n",
       "    <br />(rows: 10, time: 0.1s, cached, job: job_5bx6T6H2nBfng0-uHUTC5g6E-nJk)<br />\n",
       "    <script src=\"/static/components/requirejs/require.js\"></script>\n",
       "    <script>\n",
       "      require.config({\n",
       "        paths: {\n",
       "          base: '/static/base',\n",
       "          d3: '//cdnjs.cloudflare.com/ajax/libs/d3/3.4.13/d3',\n",
       "          plotly: 'https://cdn.plot.ly/plotly-1.5.1.min.js?noext',\n",
       "          jquery: '//ajax.googleapis.com/ajax/libs/jquery/2.0.0/jquery.min'\n",
       "        },\n",
       "        map: {\n",
       "          '*': {\n",
       "            datalab: 'nbextensions/gcpdatalab'\n",
       "          }\n",
       "        },\n",
       "        shim: {\n",
       "          plotly: {\n",
       "            deps: ['d3', 'jquery'],\n",
       "            exports: 'plotly'\n",
       "          }\n",
       "        }\n",
       "      });\n",
       "\n",
       "      require(['datalab/charting', 'datalab/element!1_156762087891', 'base/js/events',\n",
       "          'datalab/style!/nbextensions/gcpdatalab/charting.css'],\n",
       "        function(charts, dom, events) {\n",
       "          charts.render('gcharts', dom, events, 'table', [], {\"cols\": [{\"id\": \"competitorname\", \"label\": \"competitorname\", \"type\": \"string\"}, {\"id\": \"chocolate\", \"label\": \"chocolate\", \"type\": \"number\"}, {\"id\": \"fruity\", \"label\": \"fruity\", \"type\": \"number\"}, {\"id\": \"caramel\", \"label\": \"caramel\", \"type\": \"number\"}, {\"id\": \"peanutyalmondy\", \"label\": \"peanutyalmondy\", \"type\": \"number\"}, {\"id\": \"nougat\", \"label\": \"nougat\", \"type\": \"number\"}, {\"id\": \"crispedricewafer\", \"label\": \"crispedricewafer\", \"type\": \"number\"}, {\"id\": \"hard\", \"label\": \"hard\", \"type\": \"number\"}, {\"id\": \"bar\", \"label\": \"bar\", \"type\": \"number\"}, {\"id\": \"pluribus\", \"label\": \"pluribus\", \"type\": \"number\"}, {\"id\": \"sugarpercent\", \"label\": \"sugarpercent\", \"type\": \"number\"}, {\"id\": \"pricepercent\", \"label\": \"pricepercent\", \"type\": \"number\"}, {\"id\": \"winpercent\", \"label\": \"winpercent\", \"type\": \"number\"}], \"rows\": [{\"c\": [{\"v\": \"Reese\\u00d5s Peanut Butter cup\"}, {\"v\": 1}, {\"v\": 0}, {\"v\": 0}, {\"v\": 1}, {\"v\": 0}, {\"v\": 0}, {\"v\": 0}, {\"v\": 0}, {\"v\": 0}, {\"v\": 0.72000003}, {\"v\": 0.65100002}, {\"v\": 84.18029}]}, {\"c\": [{\"v\": \"Reese\\u00d5s Miniatures\"}, {\"v\": 1}, {\"v\": 0}, {\"v\": 0}, {\"v\": 1}, {\"v\": 0}, {\"v\": 0}, {\"v\": 0}, {\"v\": 0}, {\"v\": 0}, {\"v\": 0.034000002}, {\"v\": 0.27900001}, {\"v\": 81.866257}]}, {\"c\": [{\"v\": \"Twix\"}, {\"v\": 1}, {\"v\": 0}, {\"v\": 1}, {\"v\": 0}, {\"v\": 0}, {\"v\": 1}, {\"v\": 0}, {\"v\": 1}, {\"v\": 0}, {\"v\": 0.546}, {\"v\": 0.90600002}, {\"v\": 81.642914}]}, {\"c\": [{\"v\": \"Kit Kat\"}, {\"v\": 1}, {\"v\": 0}, {\"v\": 0}, {\"v\": 0}, {\"v\": 0}, {\"v\": 1}, {\"v\": 0}, {\"v\": 1}, {\"v\": 0}, {\"v\": 0.31299999}, {\"v\": 0.51099998}, {\"v\": 76.7686}]}, {\"c\": [{\"v\": \"Snickers\"}, {\"v\": 1}, {\"v\": 0}, {\"v\": 1}, {\"v\": 1}, {\"v\": 1}, {\"v\": 0}, {\"v\": 0}, {\"v\": 1}, {\"v\": 0}, {\"v\": 0.546}, {\"v\": 0.65100002}, {\"v\": 76.673782}]}, {\"c\": [{\"v\": \"Reese\\u00d5s pieces\"}, {\"v\": 1}, {\"v\": 0}, {\"v\": 0}, {\"v\": 1}, {\"v\": 0}, {\"v\": 0}, {\"v\": 0}, {\"v\": 0}, {\"v\": 1}, {\"v\": 0.40599999}, {\"v\": 0.65100002}, {\"v\": 73.43499}]}, {\"c\": [{\"v\": \"Milky Way\"}, {\"v\": 1}, {\"v\": 0}, {\"v\": 1}, {\"v\": 0}, {\"v\": 1}, {\"v\": 0}, {\"v\": 0}, {\"v\": 1}, {\"v\": 0}, {\"v\": 0.60399997}, {\"v\": 0.65100002}, {\"v\": 73.099556}]}, {\"c\": [{\"v\": \"Reese\\u00d5s stuffed with pieces\"}, {\"v\": 1}, {\"v\": 0}, {\"v\": 0}, {\"v\": 1}, {\"v\": 0}, {\"v\": 0}, {\"v\": 0}, {\"v\": 0}, {\"v\": 0}, {\"v\": 0.98799998}, {\"v\": 0.65100002}, {\"v\": 72.887901}]}, {\"c\": [{\"v\": \"Peanut butter M&M\\u00d5s\"}, {\"v\": 1}, {\"v\": 0}, {\"v\": 0}, {\"v\": 1}, {\"v\": 0}, {\"v\": 0}, {\"v\": 0}, {\"v\": 0}, {\"v\": 1}, {\"v\": 0.82499999}, {\"v\": 0.65100002}, {\"v\": 71.46505}]}, {\"c\": [{\"v\": \"Nestle Butterfinger\"}, {\"v\": 1}, {\"v\": 0}, {\"v\": 0}, {\"v\": 1}, {\"v\": 0}, {\"v\": 0}, {\"v\": 0}, {\"v\": 1}, {\"v\": 0}, {\"v\": 0.60399997}, {\"v\": 0.76700002}, {\"v\": 70.735641}]}]},\n",
       "            {\n",
       "              pageSize: 25,\n",
       "              cssClassNames:  {\n",
       "                tableRow: 'gchart-table-row',\n",
       "                headerRow: 'gchart-table-headerrow',\n",
       "                oddTableRow: 'gchart-table-oddrow',\n",
       "                selectedTableRow: 'gchart-table-selectedrow',\n",
       "                hoverTableRow: 'gchart-table-hoverrow',\n",
       "                tableCell: 'gchart-table-cell',\n",
       "                headerCell: 'gchart-table-headercell',\n",
       "                rowNumberCell: 'gchart-table-rownumcell'\n",
       "              }\n",
       "            },\n",
       "            {source_index: 0, fields: 'competitorname,chocolate,fruity,caramel,peanutyalmondy,nougat,crispedricewafer,hard,bar,pluribus,sugarpercent,pricepercent,winpercent'},\n",
       "            0,\n",
       "            10);\n",
       "        }\n",
       "      );\n",
       "    </script>\n",
       "  "
      ],
      "text/plain": [
       "QueryResultsTable job_5bx6T6H2nBfng0-uHUTC5g6E-nJk"
      ]
     },
     "execution_count": 5,
     "metadata": {},
     "output_type": "execute_result"
    }
   ],
   "source": [
    "%%bq query\n",
    "SELECT\n",
    "    competitorname, \n",
    "    chocolate, \n",
    "    fruity, \n",
    "    caramel, \n",
    "    peanutyalmondy, \n",
    "    nougat, \n",
    "    crispedricewafer, \n",
    "    hard, \n",
    "    bar, \n",
    "    pluribus, \n",
    "    sugarpercent, \n",
    "    pricepercent, \n",
    "    winpercent\n",
    "FROM\n",
    "  lidldatascientistadvanalytics.candy_data.original\n",
    "ORDER BY winpercent DESC\n",
    "LIMIT 10"
   ]
  },
  {
   "cell_type": "markdown",
   "metadata": {},
   "source": [
    "## Define Features\n",
    "\n",
    "Looking over the data set, there are a few columns of interest that could be leveraged into features for a reasonable prediction of approximate winpercent.\n",
    "\n",
    "Further, some feature engineering may be accomplished with the BigQuery CAST function -- in BQML, all strings are considered categorical features and all numeric types are considered continuous ones."
   ]
  },
  {
   "cell_type": "code",
   "execution_count": 6,
   "metadata": {},
   "outputs": [
    {
     "data": {
      "text/html": [
       "\n",
       "    <div class=\"bqtv\" id=\"2_156762089041\"><table><tr><th>hashname</th><th>chocolate</th><th>fruity</th><th>caramel</th><th>peanutyalmondy</th><th>nougat</th><th>crispedricewafer</th><th>hard</th><th>bar</th><th>pluribus</th><th>sugarpercent</th><th>pricepercent</th></tr><tr><td>7046859833195853823</td><td>0</td><td>0</td><td>0</td><td>0</td><td>0</td><td>0</td><td>0</td><td>0</td><td>0</td><td>0.011</td><td>0.116</td></tr><tr><td>9167499499902123141</td><td>0</td><td>0</td><td>0</td><td>0</td><td>0</td><td>0</td><td>0</td><td>0</td><td>0</td><td>0.011</td><td>0.51099998</td></tr><tr><td>1631755363487315696</td><td>0</td><td>1</td><td>0</td><td>0</td><td>0</td><td>0</td><td>0</td><td>0</td><td>0</td><td>0.90600002</td><td>0.51099998</td></tr><tr><td>1606999616445289157</td><td>0</td><td>1</td><td>1</td><td>0</td><td>0</td><td>0</td><td>0</td><td>0</td><td>0</td><td>0.60399997</td><td>0.32499999</td></tr><tr><td>5825011382060312997</td><td>0</td><td>1</td><td>0</td><td>0</td><td>0</td><td>0</td><td>1</td><td>0</td><td>0</td><td>0.73199999</td><td>0.034000002</td></tr><tr><td>1171407433993962240</td><td>0</td><td>1</td><td>0</td><td>0</td><td>0</td><td>0</td><td>1</td><td>0</td><td>0</td><td>0.73199999</td><td>0.32499999</td></tr><tr><td>1149483840856303955</td><td>0</td><td>1</td><td>0</td><td>0</td><td>0</td><td>0</td><td>0</td><td>0</td><td>0</td><td>0.22</td><td>0.116</td></tr><tr><td>7515611997518725754</td><td>0</td><td>1</td><td>0</td><td>0</td><td>0</td><td>0</td><td>1</td><td>0</td><td>0</td><td>0.046</td><td>0.104</td></tr><tr><td>7524574358447315246</td><td>0</td><td>1</td><td>0</td><td>0</td><td>0</td><td>0</td><td>0</td><td>0</td><td>0</td><td>0.26699999</td><td>0.27900001</td></tr><tr><td>9062753539328642232</td><td>0</td><td>0</td><td>0</td><td>1</td><td>1</td><td>0</td><td>0</td><td>1</td><td>0</td><td>0.465</td><td>0.76700002</td></tr></table></div>\n",
       "    <br />(rows: 10, time: 0.1s, cached, job: job_dx9-13Ml0jxcKrM2e8eRfVOOFQjs)<br />\n",
       "    <script src=\"/static/components/requirejs/require.js\"></script>\n",
       "    <script>\n",
       "      require.config({\n",
       "        paths: {\n",
       "          base: '/static/base',\n",
       "          d3: '//cdnjs.cloudflare.com/ajax/libs/d3/3.4.13/d3',\n",
       "          plotly: 'https://cdn.plot.ly/plotly-1.5.1.min.js?noext',\n",
       "          jquery: '//ajax.googleapis.com/ajax/libs/jquery/2.0.0/jquery.min'\n",
       "        },\n",
       "        map: {\n",
       "          '*': {\n",
       "            datalab: 'nbextensions/gcpdatalab'\n",
       "          }\n",
       "        },\n",
       "        shim: {\n",
       "          plotly: {\n",
       "            deps: ['d3', 'jquery'],\n",
       "            exports: 'plotly'\n",
       "          }\n",
       "        }\n",
       "      });\n",
       "\n",
       "      require(['datalab/charting', 'datalab/element!2_156762089041', 'base/js/events',\n",
       "          'datalab/style!/nbextensions/gcpdatalab/charting.css'],\n",
       "        function(charts, dom, events) {\n",
       "          charts.render('gcharts', dom, events, 'table', [], {\"cols\": [{\"id\": \"hashname\", \"label\": \"hashname\", \"type\": \"number\"}, {\"id\": \"chocolate\", \"label\": \"chocolate\", \"type\": \"string\"}, {\"id\": \"fruity\", \"label\": \"fruity\", \"type\": \"string\"}, {\"id\": \"caramel\", \"label\": \"caramel\", \"type\": \"string\"}, {\"id\": \"peanutyalmondy\", \"label\": \"peanutyalmondy\", \"type\": \"string\"}, {\"id\": \"nougat\", \"label\": \"nougat\", \"type\": \"string\"}, {\"id\": \"crispedricewafer\", \"label\": \"crispedricewafer\", \"type\": \"string\"}, {\"id\": \"hard\", \"label\": \"hard\", \"type\": \"string\"}, {\"id\": \"bar\", \"label\": \"bar\", \"type\": \"string\"}, {\"id\": \"pluribus\", \"label\": \"pluribus\", \"type\": \"string\"}, {\"id\": \"sugarpercent\", \"label\": \"sugarpercent\", \"type\": \"number\"}, {\"id\": \"pricepercent\", \"label\": \"pricepercent\", \"type\": \"number\"}], \"rows\": [{\"c\": [{\"v\": 7046859833195853823}, {\"v\": \"0\"}, {\"v\": \"0\"}, {\"v\": \"0\"}, {\"v\": \"0\"}, {\"v\": \"0\"}, {\"v\": \"0\"}, {\"v\": \"0\"}, {\"v\": \"0\"}, {\"v\": \"0\"}, {\"v\": 0.011}, {\"v\": 0.116}]}, {\"c\": [{\"v\": 9167499499902123141}, {\"v\": \"0\"}, {\"v\": \"0\"}, {\"v\": \"0\"}, {\"v\": \"0\"}, {\"v\": \"0\"}, {\"v\": \"0\"}, {\"v\": \"0\"}, {\"v\": \"0\"}, {\"v\": \"0\"}, {\"v\": 0.011}, {\"v\": 0.51099998}]}, {\"c\": [{\"v\": 1631755363487315696}, {\"v\": \"0\"}, {\"v\": \"1\"}, {\"v\": \"0\"}, {\"v\": \"0\"}, {\"v\": \"0\"}, {\"v\": \"0\"}, {\"v\": \"0\"}, {\"v\": \"0\"}, {\"v\": \"0\"}, {\"v\": 0.90600002}, {\"v\": 0.51099998}]}, {\"c\": [{\"v\": 1606999616445289157}, {\"v\": \"0\"}, {\"v\": \"1\"}, {\"v\": \"1\"}, {\"v\": \"0\"}, {\"v\": \"0\"}, {\"v\": \"0\"}, {\"v\": \"0\"}, {\"v\": \"0\"}, {\"v\": \"0\"}, {\"v\": 0.60399997}, {\"v\": 0.32499999}]}, {\"c\": [{\"v\": 5825011382060312997}, {\"v\": \"0\"}, {\"v\": \"1\"}, {\"v\": \"0\"}, {\"v\": \"0\"}, {\"v\": \"0\"}, {\"v\": \"0\"}, {\"v\": \"1\"}, {\"v\": \"0\"}, {\"v\": \"0\"}, {\"v\": 0.73199999}, {\"v\": 0.034000002}]}, {\"c\": [{\"v\": 1171407433993962240}, {\"v\": \"0\"}, {\"v\": \"1\"}, {\"v\": \"0\"}, {\"v\": \"0\"}, {\"v\": \"0\"}, {\"v\": \"0\"}, {\"v\": \"1\"}, {\"v\": \"0\"}, {\"v\": \"0\"}, {\"v\": 0.73199999}, {\"v\": 0.32499999}]}, {\"c\": [{\"v\": 1149483840856303955}, {\"v\": \"0\"}, {\"v\": \"1\"}, {\"v\": \"0\"}, {\"v\": \"0\"}, {\"v\": \"0\"}, {\"v\": \"0\"}, {\"v\": \"0\"}, {\"v\": \"0\"}, {\"v\": \"0\"}, {\"v\": 0.22}, {\"v\": 0.116}]}, {\"c\": [{\"v\": 7515611997518725754}, {\"v\": \"0\"}, {\"v\": \"1\"}, {\"v\": \"0\"}, {\"v\": \"0\"}, {\"v\": \"0\"}, {\"v\": \"0\"}, {\"v\": \"1\"}, {\"v\": \"0\"}, {\"v\": \"0\"}, {\"v\": 0.046}, {\"v\": 0.104}]}, {\"c\": [{\"v\": 7524574358447315246}, {\"v\": \"0\"}, {\"v\": \"1\"}, {\"v\": \"0\"}, {\"v\": \"0\"}, {\"v\": \"0\"}, {\"v\": \"0\"}, {\"v\": \"0\"}, {\"v\": \"0\"}, {\"v\": \"0\"}, {\"v\": 0.26699999}, {\"v\": 0.27900001}]}, {\"c\": [{\"v\": 9062753539328642232}, {\"v\": \"0\"}, {\"v\": \"0\"}, {\"v\": \"0\"}, {\"v\": \"1\"}, {\"v\": \"1\"}, {\"v\": \"0\"}, {\"v\": \"0\"}, {\"v\": \"1\"}, {\"v\": \"0\"}, {\"v\": 0.465}, {\"v\": 0.76700002}]}]},\n",
       "            {\n",
       "              pageSize: 25,\n",
       "              cssClassNames:  {\n",
       "                tableRow: 'gchart-table-row',\n",
       "                headerRow: 'gchart-table-headerrow',\n",
       "                oddTableRow: 'gchart-table-oddrow',\n",
       "                selectedTableRow: 'gchart-table-selectedrow',\n",
       "                hoverTableRow: 'gchart-table-hoverrow',\n",
       "                tableCell: 'gchart-table-cell',\n",
       "                headerCell: 'gchart-table-headercell',\n",
       "                rowNumberCell: 'gchart-table-rownumcell'\n",
       "              }\n",
       "            },\n",
       "            {source_index: 1, fields: 'hashname,chocolate,fruity,caramel,peanutyalmondy,nougat,crispedricewafer,hard,bar,pluribus,sugarpercent,pricepercent'},\n",
       "            0,\n",
       "            10);\n",
       "        }\n",
       "      );\n",
       "    </script>\n",
       "  "
      ],
      "text/plain": [
       "QueryResultsTable job_dx9-13Ml0jxcKrM2e8eRfVOOFQjs"
      ]
     },
     "execution_count": 6,
     "metadata": {},
     "output_type": "execute_result"
    }
   ],
   "source": [
    "%%bq query\n",
    "SELECT\n",
    "    ABS(FARM_FINGERPRINT(competitorname)) AS hashname,\n",
    "    CAST(chocolate AS STRING) AS chocolate,\n",
    "    CAST(fruity AS STRING) AS fruity,\n",
    "    CAST(caramel AS STRING) AS caramel,\n",
    "    CAST(peanutyalmondy AS STRING) AS peanutyalmondy,\n",
    "    CAST(nougat AS STRING) AS nougat,\n",
    "    CAST(crispedricewafer AS STRING) AS crispedricewafer,\n",
    "    CAST(hard AS STRING) AS hard,\n",
    "    CAST(bar AS STRING) AS bar,\n",
    "    CAST(pluribus AS STRING) AS pluribus,\n",
    "    sugarpercent, -- this is the label; because it is continuous, we need to use regression\n",
    "    pricepercent\n",
    "FROM\n",
    "  lidldatascientistadvanalytics.candy_data.original\n",
    "LIMIT 10"
   ]
  },
  {
   "cell_type": "markdown",
   "metadata": {},
   "source": [
    "## Train Model\n",
    "\n",
    "With the relevant columns chosen to accomplish predictions, it is then possible to create (train) the model in BigQuery. First, a dataset will be needed store the model. (if this throws an error in Datalab, simply create the dataset from the BigQuery console)."
   ]
  },
  {
   "cell_type": "code",
   "execution_count": 7,
   "metadata": {},
   "outputs": [],
   "source": [
    "%%bash\n",
    "#bq --location=US mk -d model"
   ]
  },
  {
   "cell_type": "markdown",
   "metadata": {},
   "source": [
    "With the demo dataset ready, it is possible to create a linear regression model to train the model.\n",
    "\n",
    "This will take approximately 4 minutes to run and will show Done when complete."
   ]
  },
  {
   "cell_type": "code",
   "execution_count": 8,
   "metadata": {},
   "outputs": [
    {
     "data": {
      "text/html": [
       "Done"
      ],
      "text/plain": [
       "QueryResultsTable job_iEVH5XpcZrPEepqAPz_rVe8QqMJ7"
      ]
     },
     "execution_count": 8,
     "metadata": {},
     "output_type": "execute_result"
    }
   ],
   "source": [
    "%%bq query\n",
    "CREATE or REPLACE MODEL model.candy_model_asis\n",
    "OPTIONS\n",
    "  (MODEL_TYPE='LINEAR_REG', \n",
    "   INPUT_LABEL_COLS=['winpercent'], \n",
    "   DATA_SPLIT_COL='hashname', \n",
    "   DATA_SPLIT_METHOD='SEQ',\n",
    "   DATA_SPLIT_EVAL_FRACTION=0.20) AS\n",
    "  \n",
    "(\n",
    "SELECT\n",
    "    ABS(FARM_FINGERPRINT(competitorname)) AS hashname,\n",
    "    CAST(chocolate AS STRING) AS chocolate,\n",
    "    CAST(fruity AS STRING) AS fruity,\n",
    "    #CAST(caramel AS STRING) AS caramel,\n",
    "    CAST(peanutyalmondy AS STRING) AS peanutyalmondy,\n",
    "    #CAST(nougat AS STRING) AS nougat,\n",
    "    CAST(crispedricewafer AS STRING) AS crispedricewafer,\n",
    "    CAST(hard AS STRING) AS hard,\n",
    "    CAST(bar AS STRING) AS bar,\n",
    "    #CAST(pluribus AS STRING) AS pluribus,\n",
    "    #sugarpercent, -- this is the label; because it is continuous, we need to use regression\n",
    "    pricepercent,\n",
    "    winpercent\n",
    "FROM\n",
    "  lidldatascientistadvanalytics.candy_data.original\n",
    ")"
   ]
  },
  {
   "cell_type": "markdown",
   "metadata": {},
   "source": [
    "## Training Statistics\n",
    "\n",
    "During the model training (and after the training), it is possible to see the model's training evaluation statistics.\n",
    "\n",
    "For each training run, a table named model_name_eval is created. This table has basic performance statistics for each iteration.\n",
    "\n",
    "While the new model is training, review the training statistics in the BigQuery UI to see the below model training: https://console.cloud.google.com/bigquery?project=lidldatascientistadvanalytics\n",
    "\n",
    "Since these statistics are updated after each iteration of model training, you will see different values for each refresh while the model is training.\n",
    "\n",
    "The training details may also be viewed after the training completes from this notebook."
   ]
  },
  {
   "cell_type": "code",
   "execution_count": 9,
   "metadata": {},
   "outputs": [
    {
     "data": {
      "text/html": [
       "\n",
       "    <div class=\"bqtv\" id=\"3_156762093791\"><table><tr><th>training_run</th><th>iteration</th><th>loss</th><th>eval_loss</th><th>learning_rate</th><th>duration_ms</th></tr><tr><td>0</td><td>2</td><td>128.6794037573121</td><td>146.67018402723406</td><td>0.2</td><td>4447</td></tr><tr><td>0</td><td>1</td><td>164.07040064238245</td><td>206.14784871473546</td><td>0.1</td><td>5755</td></tr><tr><td>0</td><td>0</td><td>385.2296597037322</td><td>508.9889140293633</td><td>0.1</td><td>3311</td></tr></table></div>\n",
       "    <br />(rows: 3, time: 0.4s,     0B processed, job: job_tVaxG2VOrFoV364UYTnjmzDzqc5P)<br />\n",
       "    <script src=\"/static/components/requirejs/require.js\"></script>\n",
       "    <script>\n",
       "      require.config({\n",
       "        paths: {\n",
       "          base: '/static/base',\n",
       "          d3: '//cdnjs.cloudflare.com/ajax/libs/d3/3.4.13/d3',\n",
       "          plotly: 'https://cdn.plot.ly/plotly-1.5.1.min.js?noext',\n",
       "          jquery: '//ajax.googleapis.com/ajax/libs/jquery/2.0.0/jquery.min'\n",
       "        },\n",
       "        map: {\n",
       "          '*': {\n",
       "            datalab: 'nbextensions/gcpdatalab'\n",
       "          }\n",
       "        },\n",
       "        shim: {\n",
       "          plotly: {\n",
       "            deps: ['d3', 'jquery'],\n",
       "            exports: 'plotly'\n",
       "          }\n",
       "        }\n",
       "      });\n",
       "\n",
       "      require(['datalab/charting', 'datalab/element!3_156762093791', 'base/js/events',\n",
       "          'datalab/style!/nbextensions/gcpdatalab/charting.css'],\n",
       "        function(charts, dom, events) {\n",
       "          charts.render('gcharts', dom, events, 'table', [], {\"cols\": [{\"id\": \"training_run\", \"label\": \"training_run\", \"type\": \"number\"}, {\"id\": \"iteration\", \"label\": \"iteration\", \"type\": \"number\"}, {\"id\": \"loss\", \"label\": \"loss\", \"type\": \"number\"}, {\"id\": \"eval_loss\", \"label\": \"eval_loss\", \"type\": \"number\"}, {\"id\": \"learning_rate\", \"label\": \"learning_rate\", \"type\": \"number\"}, {\"id\": \"duration_ms\", \"label\": \"duration_ms\", \"type\": \"number\"}], \"rows\": [{\"c\": [{\"v\": 0}, {\"v\": 2}, {\"v\": 128.6794037573121}, {\"v\": 146.67018402723406}, {\"v\": 0.2}, {\"v\": 4447}]}, {\"c\": [{\"v\": 0}, {\"v\": 1}, {\"v\": 164.07040064238245}, {\"v\": 206.14784871473546}, {\"v\": 0.1}, {\"v\": 5755}]}, {\"c\": [{\"v\": 0}, {\"v\": 0}, {\"v\": 385.2296597037322}, {\"v\": 508.9889140293633}, {\"v\": 0.1}, {\"v\": 3311}]}]},\n",
       "            {\n",
       "              pageSize: 25,\n",
       "              cssClassNames:  {\n",
       "                tableRow: 'gchart-table-row',\n",
       "                headerRow: 'gchart-table-headerrow',\n",
       "                oddTableRow: 'gchart-table-oddrow',\n",
       "                selectedTableRow: 'gchart-table-selectedrow',\n",
       "                hoverTableRow: 'gchart-table-hoverrow',\n",
       "                tableCell: 'gchart-table-cell',\n",
       "                headerCell: 'gchart-table-headercell',\n",
       "                rowNumberCell: 'gchart-table-rownumcell'\n",
       "              }\n",
       "            },\n",
       "            {source_index: 2, fields: 'training_run,iteration,loss,eval_loss,learning_rate,duration_ms'},\n",
       "            0,\n",
       "            3);\n",
       "        }\n",
       "      );\n",
       "    </script>\n",
       "  "
      ],
      "text/plain": [
       "QueryResultsTable job_tVaxG2VOrFoV364UYTnjmzDzqc5P"
      ]
     },
     "execution_count": 9,
     "metadata": {},
     "output_type": "execute_result"
    }
   ],
   "source": [
    "%%bq query\n",
    "SELECT training_run, iteration, loss, eval_loss, learning_rate, duration_ms\n",
    "FROM ML.TRAINING_INFO(MODEL model.candy_model_asis);"
   ]
  },
  {
   "cell_type": "markdown",
   "metadata": {},
   "source": [
    "Some of these columns are obvious although what do the non-specific ML columns mean (specific to BQML)?\n",
    "\n",
    "training_run - Will be zero for a newly created model. If the model is re-trained using warm_start, this will increment for each re-training.\n",
    "\n",
    "iteration - Number of the associated training_run, starting with zero for the first iteration.\n",
    "\n",
    "duration_ms - Indicates how long the iteration took (in ms).\n",
    "\n",
    "Note: You can also see these stats by refreshing the BigQuery UI window, finding the <model_name> table, selecting on it, and then the Training Stats sub-header.\n",
    "\n",
    "Let's plot the training and evaluation loss to see if the model has an overfit."
   ]
  },
  {
   "cell_type": "code",
   "execution_count": 10,
   "metadata": {},
   "outputs": [
    {
     "data": {
      "image/png": "[encoded data removed]",
      "text/plain": [
       "<Figure size 432x288 with 1 Axes>"
      ]
     },
     "metadata": {
      "needs_background": "light"
     },
     "output_type": "display_data"
    }
   ],
   "source": [
    "import google.datalab.bigquery as bq\n",
    "df = bq.Query(\"SELECT iteration, loss, eval_loss FROM ML.TRAINING_INFO(MODEL model.candy_model_asis)\").execute().result().to_dataframe()\n",
    "# plot both lines in same graph\n",
    "import matplotlib.pyplot as plt\n",
    "%matplotlib inline\n",
    "plt.plot( 'iteration', 'loss', data=df, marker='o', color='orange', linewidth=2)\n",
    "plt.plot( 'iteration', 'eval_loss', data=df, marker='', color='green', linewidth=2, linestyle='dashed')\n",
    "plt.xlabel('iteration')\n",
    "plt.ylabel('loss')\n",
    "plt.legend();\n",
    "plt.show()"
   ]
  },
  {
   "cell_type": "markdown",
   "metadata": {},
   "source": [
    "As you can see, the training loss is less then the evaluation loss. We do  seem to do some overfitting."
   ]
  },
  {
   "cell_type": "markdown",
   "metadata": {},
   "source": [
    "## Feature statistics\n",
    "\n",
    "see information about the input features used to train a model.\n",
    "\n",
    "We have the following columns:\n",
    "\n",
    "- input — The name of the column in the input training data.\n",
    "- min — The sample minimum. This column is NULL for non-numeric inputs.\n",
    "- max — The sample maximum. This column is NULL for non-numeric inputs.\n",
    "- mean — The average. This column is NULL for non-numeric inputs.\n",
    "- stddev — The standard deviation. This column is NULL for non-numeric inputs.\n",
    "- category_count — The number of categories. This column is NULL for non-categorical columns.\n",
    "- null_count — The number of NULLs."
   ]
  },
  {
   "cell_type": "code",
   "execution_count": 19,
   "metadata": {},
   "outputs": [
    {
     "data": {
      "text/html": [
       "\n",
       "    <div class=\"bqtv\" id=\"8_156762279063\"><table><tr><th>input</th><th>min</th><th>max</th><th>mean</th><th>median</th><th>stddev</th><th>category_count</th><th>null_count</th></tr><tr><td>chocolate</td><td>&nbsp;</td><td>&nbsp;</td><td>&nbsp;</td><td>&nbsp;</td><td>&nbsp;</td><td>2</td><td>0</td></tr><tr><td>fruity</td><td>&nbsp;</td><td>&nbsp;</td><td>&nbsp;</td><td>&nbsp;</td><td>&nbsp;</td><td>2</td><td>0</td></tr><tr><td>peanutyalmondy</td><td>&nbsp;</td><td>&nbsp;</td><td>&nbsp;</td><td>&nbsp;</td><td>&nbsp;</td><td>2</td><td>0</td></tr><tr><td>crispedricewafer</td><td>&nbsp;</td><td>&nbsp;</td><td>&nbsp;</td><td>&nbsp;</td><td>&nbsp;</td><td>2</td><td>0</td></tr><tr><td>hard</td><td>&nbsp;</td><td>&nbsp;</td><td>&nbsp;</td><td>&nbsp;</td><td>&nbsp;</td><td>2</td><td>0</td></tr><tr><td>bar</td><td>&nbsp;</td><td>&nbsp;</td><td>&nbsp;</td><td>&nbsp;</td><td>&nbsp;</td><td>2</td><td>0</td></tr><tr><td>pricepercent</td><td>0.011</td><td>0.97600001</td><td>0.46604477570149255</td><td>0.465</td><td>0.29466249154794855</td><td>&nbsp;</td><td>0</td></tr></table></div>\n",
       "    <br />(rows: 7, time: 0.7s,     0B processed, job: job_zbjkl6PfIRLtGXX4p_Dab53moUF4)<br />\n",
       "    <script src=\"/static/components/requirejs/require.js\"></script>\n",
       "    <script>\n",
       "      require.config({\n",
       "        paths: {\n",
       "          base: '/static/base',\n",
       "          d3: '//cdnjs.cloudflare.com/ajax/libs/d3/3.4.13/d3',\n",
       "          plotly: 'https://cdn.plot.ly/plotly-1.5.1.min.js?noext',\n",
       "          jquery: '//ajax.googleapis.com/ajax/libs/jquery/2.0.0/jquery.min'\n",
       "        },\n",
       "        map: {\n",
       "          '*': {\n",
       "            datalab: 'nbextensions/gcpdatalab'\n",
       "          }\n",
       "        },\n",
       "        shim: {\n",
       "          plotly: {\n",
       "            deps: ['d3', 'jquery'],\n",
       "            exports: 'plotly'\n",
       "          }\n",
       "        }\n",
       "      });\n",
       "\n",
       "      require(['datalab/charting', 'datalab/element!8_156762279063', 'base/js/events',\n",
       "          'datalab/style!/nbextensions/gcpdatalab/charting.css'],\n",
       "        function(charts, dom, events) {\n",
       "          charts.render('gcharts', dom, events, 'table', [], {\"cols\": [{\"id\": \"input\", \"label\": \"input\", \"type\": \"string\"}, {\"id\": \"min\", \"label\": \"min\", \"type\": \"number\"}, {\"id\": \"max\", \"label\": \"max\", \"type\": \"number\"}, {\"id\": \"mean\", \"label\": \"mean\", \"type\": \"number\"}, {\"id\": \"median\", \"label\": \"median\", \"type\": \"number\"}, {\"id\": \"stddev\", \"label\": \"stddev\", \"type\": \"number\"}, {\"id\": \"category_count\", \"label\": \"category_count\", \"type\": \"number\"}, {\"id\": \"null_count\", \"label\": \"null_count\", \"type\": \"number\"}], \"rows\": [{\"c\": [{\"v\": \"chocolate\"}, {\"v\": null}, {\"v\": null}, {\"v\": null}, {\"v\": null}, {\"v\": null}, {\"v\": 2}, {\"v\": 0}]}, {\"c\": [{\"v\": \"fruity\"}, {\"v\": null}, {\"v\": null}, {\"v\": null}, {\"v\": null}, {\"v\": null}, {\"v\": 2}, {\"v\": 0}]}, {\"c\": [{\"v\": \"peanutyalmondy\"}, {\"v\": null}, {\"v\": null}, {\"v\": null}, {\"v\": null}, {\"v\": null}, {\"v\": 2}, {\"v\": 0}]}, {\"c\": [{\"v\": \"crispedricewafer\"}, {\"v\": null}, {\"v\": null}, {\"v\": null}, {\"v\": null}, {\"v\": null}, {\"v\": 2}, {\"v\": 0}]}, {\"c\": [{\"v\": \"hard\"}, {\"v\": null}, {\"v\": null}, {\"v\": null}, {\"v\": null}, {\"v\": null}, {\"v\": 2}, {\"v\": 0}]}, {\"c\": [{\"v\": \"bar\"}, {\"v\": null}, {\"v\": null}, {\"v\": null}, {\"v\": null}, {\"v\": null}, {\"v\": 2}, {\"v\": 0}]}, {\"c\": [{\"v\": \"pricepercent\"}, {\"v\": 0.011}, {\"v\": 0.97600001}, {\"v\": 0.46604477570149255}, {\"v\": 0.465}, {\"v\": 0.29466249154794855}, {\"v\": null}, {\"v\": 0}]}]},\n",
       "            {\n",
       "              pageSize: 25,\n",
       "              cssClassNames:  {\n",
       "                tableRow: 'gchart-table-row',\n",
       "                headerRow: 'gchart-table-headerrow',\n",
       "                oddTableRow: 'gchart-table-oddrow',\n",
       "                selectedTableRow: 'gchart-table-selectedrow',\n",
       "                hoverTableRow: 'gchart-table-hoverrow',\n",
       "                tableCell: 'gchart-table-cell',\n",
       "                headerCell: 'gchart-table-headercell',\n",
       "                rowNumberCell: 'gchart-table-rownumcell'\n",
       "              }\n",
       "            },\n",
       "            {source_index: 6, fields: 'input,min,max,mean,median,stddev,category_count,null_count'},\n",
       "            0,\n",
       "            7);\n",
       "        }\n",
       "      );\n",
       "    </script>\n",
       "  "
      ],
      "text/plain": [
       "QueryResultsTable job_zbjkl6PfIRLtGXX4p_Dab53moUF4"
      ]
     },
     "execution_count": 19,
     "metadata": {},
     "output_type": "execute_result"
    }
   ],
   "source": [
    "%%bq query\n",
    "SELECT *\n",
    "FROM ML.FEATURE_INFO(MODEL model.candy_model_asis)"
   ]
  },
  {
   "cell_type": "markdown",
   "metadata": {},
   "source": [
    "## Weights information\n",
    "\n",
    "returns the following columns:\n",
    "\n",
    "- processed_input — The name of the model feature input. The value of this column matches the name of the column in the SELECT statement used during training.\n",
    "- weight — The weight of each feature. For numerical columns, weight contains a value and the category_weights column is NULL. For non-numeric columns that are converted to one-hot encoding, the weight column is NULL and the category_weights column is an ARRAY of category names and weights for each category.\n",
    "- category_weights.category — The category name if the input column is non-numeric.\n",
    "- category_weights.weight — The category's weight if the input column is non-numeric.\n",
    "- class_label — For multiclass models, class_label is the label for a given weight. The output includes one row per <class_label, processed_input> combination.\n",
    "\n",
    "The following example retrieves weight information from our model.\n",
    "\n",
    "The query returns the weights associated with each one-hot encoded category for the input column chocolate."
   ]
  },
  {
   "cell_type": "code",
   "execution_count": 24,
   "metadata": {},
   "outputs": [
    {
     "data": {
      "text/html": [
       "\n",
       "    <div class=\"bqtv\" id=\"10_156762384282\"><table><tr><th>category</th><th>weight</th></tr><tr><td>1</td><td>10.662215874767389</td></tr><tr><td>0</td><td>5.019207737832014</td></tr></table></div>\n",
       "    <br />(rows: 2, time: 0.6s,   336B processed, job: job_eAKUNu8TU_9Oo7fYvsod8XmbyeuQ)<br />\n",
       "    <script src=\"/static/components/requirejs/require.js\"></script>\n",
       "    <script>\n",
       "      require.config({\n",
       "        paths: {\n",
       "          base: '/static/base',\n",
       "          d3: '//cdnjs.cloudflare.com/ajax/libs/d3/3.4.13/d3',\n",
       "          plotly: 'https://cdn.plot.ly/plotly-1.5.1.min.js?noext',\n",
       "          jquery: '//ajax.googleapis.com/ajax/libs/jquery/2.0.0/jquery.min'\n",
       "        },\n",
       "        map: {\n",
       "          '*': {\n",
       "            datalab: 'nbextensions/gcpdatalab'\n",
       "          }\n",
       "        },\n",
       "        shim: {\n",
       "          plotly: {\n",
       "            deps: ['d3', 'jquery'],\n",
       "            exports: 'plotly'\n",
       "          }\n",
       "        }\n",
       "      });\n",
       "\n",
       "      require(['datalab/charting', 'datalab/element!10_156762384282', 'base/js/events',\n",
       "          'datalab/style!/nbextensions/gcpdatalab/charting.css'],\n",
       "        function(charts, dom, events) {\n",
       "          charts.render('gcharts', dom, events, 'table', [], {\"cols\": [{\"id\": \"category\", \"label\": \"category\", \"type\": \"string\"}, {\"id\": \"weight\", \"label\": \"weight\", \"type\": \"number\"}], \"rows\": [{\"c\": [{\"v\": \"1\"}, {\"v\": 10.662215874767389}]}, {\"c\": [{\"v\": \"0\"}, {\"v\": 5.019207737832014}]}]},\n",
       "            {\n",
       "              pageSize: 25,\n",
       "              cssClassNames:  {\n",
       "                tableRow: 'gchart-table-row',\n",
       "                headerRow: 'gchart-table-headerrow',\n",
       "                oddTableRow: 'gchart-table-oddrow',\n",
       "                selectedTableRow: 'gchart-table-selectedrow',\n",
       "                hoverTableRow: 'gchart-table-hoverrow',\n",
       "                tableCell: 'gchart-table-cell',\n",
       "                headerCell: 'gchart-table-headercell',\n",
       "                rowNumberCell: 'gchart-table-rownumcell'\n",
       "              }\n",
       "            },\n",
       "            {source_index: 8, fields: 'category,weight'},\n",
       "            0,\n",
       "            2);\n",
       "        }\n",
       "      );\n",
       "    </script>\n",
       "  "
      ],
      "text/plain": [
       "QueryResultsTable job_eAKUNu8TU_9Oo7fYvsod8XmbyeuQ"
      ]
     },
     "execution_count": 24,
     "metadata": {},
     "output_type": "execute_result"
    }
   ],
   "source": [
    "%%bq query\n",
    "SELECT\n",
    "  category,\n",
    "  weight\n",
    "FROM\n",
    "  UNNEST((\n",
    "    SELECT\n",
    "      category_weights\n",
    "    FROM\n",
    "      ML.WEIGHTS(MODEL model.candy_model_asis)\n",
    "    WHERE\n",
    "      processed_input = 'chocolate'))"
   ]
  },
  {
   "cell_type": "markdown",
   "metadata": {},
   "source": [
    "This command uses the UNNEST function because the category_weights column is a nested repeated column."
   ]
  },
  {
   "cell_type": "markdown",
   "metadata": {},
   "source": [
    "The following query retrieves standardized weights, which assume all features have a mean of zero and a standard deviation of one."
   ]
  },
  {
   "cell_type": "code",
   "execution_count": 26,
   "metadata": {},
   "outputs": [
    {
     "data": {
      "text/html": [
       "\n",
       "    <div class=\"bqtv\" id=\"11_156762411737\"><table><tr><th>processed_input</th><th>weight</th></tr><tr><td>chocolate</td><td>&nbsp;</td></tr><tr><td>fruity</td><td>&nbsp;</td></tr><tr><td>peanutyalmondy</td><td>&nbsp;</td></tr><tr><td>crispedricewafer</td><td>&nbsp;</td></tr><tr><td>hard</td><td>&nbsp;</td></tr><tr><td>bar</td><td>&nbsp;</td></tr><tr><td>pricepercent</td><td>1.130568938280931</td></tr><tr><td>__INTERCEPT__</td><td>7.293255793014927</td></tr></table></div>\n",
       "    <br />(rows: 8, time: 0.7s,   336B processed, job: job_e0ybys2f-nhQLBEQb3618NvvgsmM)<br />\n",
       "    <script src=\"/static/components/requirejs/require.js\"></script>\n",
       "    <script>\n",
       "      require.config({\n",
       "        paths: {\n",
       "          base: '/static/base',\n",
       "          d3: '//cdnjs.cloudflare.com/ajax/libs/d3/3.4.13/d3',\n",
       "          plotly: 'https://cdn.plot.ly/plotly-1.5.1.min.js?noext',\n",
       "          jquery: '//ajax.googleapis.com/ajax/libs/jquery/2.0.0/jquery.min'\n",
       "        },\n",
       "        map: {\n",
       "          '*': {\n",
       "            datalab: 'nbextensions/gcpdatalab'\n",
       "          }\n",
       "        },\n",
       "        shim: {\n",
       "          plotly: {\n",
       "            deps: ['d3', 'jquery'],\n",
       "            exports: 'plotly'\n",
       "          }\n",
       "        }\n",
       "      });\n",
       "\n",
       "      require(['datalab/charting', 'datalab/element!11_156762411737', 'base/js/events',\n",
       "          'datalab/style!/nbextensions/gcpdatalab/charting.css'],\n",
       "        function(charts, dom, events) {\n",
       "          charts.render('gcharts', dom, events, 'table', [], {\"cols\": [{\"id\": \"processed_input\", \"label\": \"processed_input\", \"type\": \"string\"}, {\"id\": \"weight\", \"label\": \"weight\", \"type\": \"number\"}], \"rows\": [{\"c\": [{\"v\": \"chocolate\"}, {\"v\": null}]}, {\"c\": [{\"v\": \"fruity\"}, {\"v\": null}]}, {\"c\": [{\"v\": \"peanutyalmondy\"}, {\"v\": null}]}, {\"c\": [{\"v\": \"crispedricewafer\"}, {\"v\": null}]}, {\"c\": [{\"v\": \"hard\"}, {\"v\": null}]}, {\"c\": [{\"v\": \"bar\"}, {\"v\": null}]}, {\"c\": [{\"v\": \"pricepercent\"}, {\"v\": 1.130568938280931}]}, {\"c\": [{\"v\": \"__INTERCEPT__\"}, {\"v\": 7.293255793014927}]}]},\n",
       "            {\n",
       "              pageSize: 25,\n",
       "              cssClassNames:  {\n",
       "                tableRow: 'gchart-table-row',\n",
       "                headerRow: 'gchart-table-headerrow',\n",
       "                oddTableRow: 'gchart-table-oddrow',\n",
       "                selectedTableRow: 'gchart-table-selectedrow',\n",
       "                hoverTableRow: 'gchart-table-hoverrow',\n",
       "                tableCell: 'gchart-table-cell',\n",
       "                headerCell: 'gchart-table-headercell',\n",
       "                rowNumberCell: 'gchart-table-rownumcell'\n",
       "              }\n",
       "            },\n",
       "            {source_index: 9, fields: 'processed_input,weight'},\n",
       "            0,\n",
       "            8);\n",
       "        }\n",
       "      );\n",
       "    </script>\n",
       "  "
      ],
      "text/plain": [
       "QueryResultsTable job_e0ybys2f-nhQLBEQb3618NvvgsmM"
      ]
     },
     "execution_count": 26,
     "metadata": {},
     "output_type": "execute_result"
    }
   ],
   "source": [
    "%%bq query\n",
    "SELECT\n",
    "  *\n",
    "FROM\n",
    "  ML.WEIGHTS(MODEL model.candy_model_asis,\n",
    "    STRUCT(true AS standardize))"
   ]
  },
  {
   "cell_type": "markdown",
   "metadata": {},
   "source": [
    "## Evaluate Model Metrics\n",
    "\n",
    "The following columns for a linear regression model:\n",
    "- mean_absolute_error\n",
    "- mean_squared_error\n",
    "- mean_squared_log_error\n",
    "- median_absolute_error\n",
    "- r2_score\n",
    "- explained_variance"
   ]
  },
  {
   "cell_type": "code",
   "execution_count": 14,
   "metadata": {},
   "outputs": [
    {
     "data": {
      "text/html": [
       "\n",
       "    <div class=\"bqtv\" id=\"6_156762172386\"><table><tr><th>mean_absolute_error</th><th>mean_squared_error</th><th>mean_squared_log_error</th><th>median_absolute_error</th><th>r2_score</th><th>explained_variance</th></tr><tr><td>9.901469903630021</td><td>146.6701840272341</td><td>0.0474758525371477</td><td>9.102376639432364</td><td>0.26496429691277334</td><td>0.2651489459895693</td></tr></table></div>\n",
       "    <br />(rows: 1, time: 2.0s,     0B processed, job: job_iFVJSRHgjeBTVrD1JA-EtGx5od2d)<br />\n",
       "    <script src=\"/static/components/requirejs/require.js\"></script>\n",
       "    <script>\n",
       "      require.config({\n",
       "        paths: {\n",
       "          base: '/static/base',\n",
       "          d3: '//cdnjs.cloudflare.com/ajax/libs/d3/3.4.13/d3',\n",
       "          plotly: 'https://cdn.plot.ly/plotly-1.5.1.min.js?noext',\n",
       "          jquery: '//ajax.googleapis.com/ajax/libs/jquery/2.0.0/jquery.min'\n",
       "        },\n",
       "        map: {\n",
       "          '*': {\n",
       "            datalab: 'nbextensions/gcpdatalab'\n",
       "          }\n",
       "        },\n",
       "        shim: {\n",
       "          plotly: {\n",
       "            deps: ['d3', 'jquery'],\n",
       "            exports: 'plotly'\n",
       "          }\n",
       "        }\n",
       "      });\n",
       "\n",
       "      require(['datalab/charting', 'datalab/element!6_156762172386', 'base/js/events',\n",
       "          'datalab/style!/nbextensions/gcpdatalab/charting.css'],\n",
       "        function(charts, dom, events) {\n",
       "          charts.render('gcharts', dom, events, 'table', [], {\"cols\": [{\"id\": \"mean_absolute_error\", \"label\": \"mean_absolute_error\", \"type\": \"number\"}, {\"id\": \"mean_squared_error\", \"label\": \"mean_squared_error\", \"type\": \"number\"}, {\"id\": \"mean_squared_log_error\", \"label\": \"mean_squared_log_error\", \"type\": \"number\"}, {\"id\": \"median_absolute_error\", \"label\": \"median_absolute_error\", \"type\": \"number\"}, {\"id\": \"r2_score\", \"label\": \"r2_score\", \"type\": \"number\"}, {\"id\": \"explained_variance\", \"label\": \"explained_variance\", \"type\": \"number\"}], \"rows\": [{\"c\": [{\"v\": 9.901469903630021}, {\"v\": 146.6701840272341}, {\"v\": 0.0474758525371477}, {\"v\": 9.102376639432364}, {\"v\": 0.26496429691277334}, {\"v\": 0.2651489459895693}]}]},\n",
       "            {\n",
       "              pageSize: 25,\n",
       "              cssClassNames:  {\n",
       "                tableRow: 'gchart-table-row',\n",
       "                headerRow: 'gchart-table-headerrow',\n",
       "                oddTableRow: 'gchart-table-oddrow',\n",
       "                selectedTableRow: 'gchart-table-selectedrow',\n",
       "                hoverTableRow: 'gchart-table-hoverrow',\n",
       "                tableCell: 'gchart-table-cell',\n",
       "                headerCell: 'gchart-table-headercell',\n",
       "                rowNumberCell: 'gchart-table-rownumcell'\n",
       "              }\n",
       "            },\n",
       "            {source_index: 5, fields: 'mean_absolute_error,mean_squared_error,mean_squared_log_error,median_absolute_error,r2_score,explained_variance'},\n",
       "            0,\n",
       "            1);\n",
       "        }\n",
       "      );\n",
       "    </script>\n",
       "  "
      ],
      "text/plain": [
       "QueryResultsTable job_iFVJSRHgjeBTVrD1JA-EtGx5od2d"
      ]
     },
     "execution_count": 14,
     "metadata": {},
     "output_type": "execute_result"
    }
   ],
   "source": [
    "%%bq query\n",
    "SELECT *\n",
    "FROM ML.EVALUATE(MODEL model.candy_model_asis)"
   ]
  },
  {
   "cell_type": "markdown",
   "metadata": {},
   "source": [
    "## Make a Prediction with BQML using the Model\n",
    "\n",
    "With a trained model, it is now possible to make a prediction on the values. The only difference from the second query above is the reference to the model. The data has been limited (LIMIT 100) to reduce amount of data returned.\n",
    "\n",
    "When the ml.predict function is leveraged, output prediction column name for the model is predicted_<label_column_name>."
   ]
  },
  {
   "cell_type": "code",
   "execution_count": 11,
   "metadata": {},
   "outputs": [
    {
     "data": {
      "text/html": [
       "\n",
       "    <div class=\"bqtv\" id=\"4_156762096064\"><table><tr><th>predicted_winpercent</th><th>winpercent</th><th>chocolate</th><th>fruity</th><th>peanutyalmondy</th><th>crispedricewafer</th><th>hard</th><th>bar</th><th>pricepercent</th></tr><tr><td>47.150847848025485</td><td>32.261086</td><td>0</td><td>0</td><td>0</td><td>0</td><td>0</td><td>0</td><td>0.116</td></tr><tr><td>48.66639434891741</td><td>46.116505</td><td>0</td><td>0</td><td>0</td><td>0</td><td>0</td><td>0</td><td>0.51099998</td></tr><tr><td>46.31822763933578</td><td>52.341465</td><td>0</td><td>1</td><td>0</td><td>0</td><td>0</td><td>0</td><td>0.51099998</td></tr><tr><td>45.60457789684609</td><td>34.517681</td><td>0</td><td>1</td><td>0</td><td>0</td><td>0</td><td>0</td><td>0.32499999</td></tr><tr><td>41.532852500384344</td><td>39.460556</td><td>0</td><td>1</td><td>0</td><td>0</td><td>1</td><td>0</td><td>0.034000002</td></tr><tr><td>42.64936904697503</td><td>39.185505</td><td>0</td><td>1</td><td>0</td><td>0</td><td>1</td><td>0</td><td>0.32499999</td></tr><tr><td>44.80268113844386</td><td>41.389557</td><td>0</td><td>1</td><td>0</td><td>0</td><td>0</td><td>0</td><td>0.116</td></tr><tr><td>41.80143036722713</td><td>39.141056</td><td>0</td><td>1</td><td>0</td><td>0</td><td>1</td><td>0</td><td>0.104</td></tr><tr><td>45.428083941757535</td><td>52.911392</td><td>0</td><td>1</td><td>0</td><td>0</td><td>0</td><td>0</td><td>0.27900001</td></tr><tr><td>59.31322942878005</td><td>46.296597</td><td>0</td><td>0</td><td>1</td><td>0</td><td>0</td><td>1</td><td>0.76700002</td></tr><tr><td>45.10493810867448</td><td>35.290756</td><td>0</td><td>1</td><td>0</td><td>0</td><td>1</td><td>0</td><td>0.96499997</td></tr><tr><td>47.952744606427714</td><td>32.230995</td><td>0</td><td>0</td><td>0</td><td>0</td><td>0</td><td>0</td><td>0.32499999</td></tr><tr><td>44.80268113844386</td><td>27.303865</td><td>0</td><td>1</td><td>0</td><td>0</td><td>0</td><td>0</td><td>0.116</td></tr><tr><td>44.80268113844386</td><td>45.466282</td><td>0</td><td>1</td><td>0</td><td>0</td><td>0</td><td>0</td><td>0.116</td></tr><tr><td>41.8474722885728</td><td>39.011898</td><td>0</td><td>1</td><td>0</td><td>0</td><td>1</td><td>0</td><td>0.116</td></tr><tr><td>44.774999803385896</td><td>41.904308</td><td>0</td><td>0</td><td>0</td><td>0</td><td>1</td><td>0</td><td>0.26699999</td></tr><tr><td>64.06061849884328</td><td>66.971725</td><td>1</td><td>0</td><td>0</td><td>1</td><td>0</td><td>1</td><td>0.86000001</td></tr><tr><td>58.60110385787666</td><td>67.602936</td><td>1</td><td>0</td><td>0</td><td>0</td><td>0</td><td>1</td><td>0.51099998</td></tr><tr><td>64.95623756571543</td><td>50.347546</td><td>1</td><td>0</td><td>1</td><td>0</td><td>0</td><td>1</td><td>0.76700002</td></tr><tr><td>64.95623756571543</td><td>56.914547</td><td>1</td><td>0</td><td>1</td><td>0</td><td>0</td><td>1</td><td>0.76700002</td></tr><tr><td>58.60110385787666</td><td>38.975037</td><td>1</td><td>0</td><td>0</td><td>0</td><td>0</td><td>1</td><td>0.51099998</td></tr><tr><td>64.28315433690923</td><td>62.284481</td><td>1</td><td>0</td><td>0</td><td>1</td><td>0</td><td>1</td><td>0.91799998</td></tr><tr><td>60.16269235685079</td><td>56.490501</td><td>1</td><td>0</td><td>0</td><td>0</td><td>0</td><td>1</td><td>0.91799998</td></tr><tr><td>60.16269235685079</td><td>59.236122</td><td>1</td><td>0</td><td>0</td><td>0</td><td>0</td><td>1</td><td>0.91799998</td></tr><tr><td>62.72156583793511</td><td>76.7686</td><td>1</td><td>0</td><td>0</td><td>1</td><td>0</td><td>1</td><td>0.51099998</td></tr></table></div>\n",
       "    <br />(rows: 85, time: 0.7s,     5KB processed, job: job_42xAtdGvW_ZZKH2bQbuAbvy6SwNM)<br />\n",
       "    <script src=\"/static/components/requirejs/require.js\"></script>\n",
       "    <script>\n",
       "      require.config({\n",
       "        paths: {\n",
       "          base: '/static/base',\n",
       "          d3: '//cdnjs.cloudflare.com/ajax/libs/d3/3.4.13/d3',\n",
       "          plotly: 'https://cdn.plot.ly/plotly-1.5.1.min.js?noext',\n",
       "          jquery: '//ajax.googleapis.com/ajax/libs/jquery/2.0.0/jquery.min'\n",
       "        },\n",
       "        map: {\n",
       "          '*': {\n",
       "            datalab: 'nbextensions/gcpdatalab'\n",
       "          }\n",
       "        },\n",
       "        shim: {\n",
       "          plotly: {\n",
       "            deps: ['d3', 'jquery'],\n",
       "            exports: 'plotly'\n",
       "          }\n",
       "        }\n",
       "      });\n",
       "\n",
       "      require(['datalab/charting', 'datalab/element!4_156762096064', 'base/js/events',\n",
       "          'datalab/style!/nbextensions/gcpdatalab/charting.css'],\n",
       "        function(charts, dom, events) {\n",
       "          charts.render('gcharts', dom, events, 'paged_table', [], {\"cols\": [{\"id\": \"predicted_winpercent\", \"label\": \"predicted_winpercent\", \"type\": \"number\"}, {\"id\": \"winpercent\", \"label\": \"winpercent\", \"type\": \"number\"}, {\"id\": \"chocolate\", \"label\": \"chocolate\", \"type\": \"string\"}, {\"id\": \"fruity\", \"label\": \"fruity\", \"type\": \"string\"}, {\"id\": \"peanutyalmondy\", \"label\": \"peanutyalmondy\", \"type\": \"string\"}, {\"id\": \"crispedricewafer\", \"label\": \"crispedricewafer\", \"type\": \"string\"}, {\"id\": \"hard\", \"label\": \"hard\", \"type\": \"string\"}, {\"id\": \"bar\", \"label\": \"bar\", \"type\": \"string\"}, {\"id\": \"pricepercent\", \"label\": \"pricepercent\", \"type\": \"number\"}], \"rows\": [{\"c\": [{\"v\": 47.150847848025485}, {\"v\": 32.261086}, {\"v\": \"0\"}, {\"v\": \"0\"}, {\"v\": \"0\"}, {\"v\": \"0\"}, {\"v\": \"0\"}, {\"v\": \"0\"}, {\"v\": 0.116}]}, {\"c\": [{\"v\": 48.66639434891741}, {\"v\": 46.116505}, {\"v\": \"0\"}, {\"v\": \"0\"}, {\"v\": \"0\"}, {\"v\": \"0\"}, {\"v\": \"0\"}, {\"v\": \"0\"}, {\"v\": 0.51099998}]}, {\"c\": [{\"v\": 46.31822763933578}, {\"v\": 52.341465}, {\"v\": \"0\"}, {\"v\": \"1\"}, {\"v\": \"0\"}, {\"v\": \"0\"}, {\"v\": \"0\"}, {\"v\": \"0\"}, {\"v\": 0.51099998}]}, {\"c\": [{\"v\": 45.60457789684609}, {\"v\": 34.517681}, {\"v\": \"0\"}, {\"v\": \"1\"}, {\"v\": \"0\"}, {\"v\": \"0\"}, {\"v\": \"0\"}, {\"v\": \"0\"}, {\"v\": 0.32499999}]}, {\"c\": [{\"v\": 41.532852500384344}, {\"v\": 39.460556}, {\"v\": \"0\"}, {\"v\": \"1\"}, {\"v\": \"0\"}, {\"v\": \"0\"}, {\"v\": \"1\"}, {\"v\": \"0\"}, {\"v\": 0.034000002}]}, {\"c\": [{\"v\": 42.64936904697503}, {\"v\": 39.185505}, {\"v\": \"0\"}, {\"v\": \"1\"}, {\"v\": \"0\"}, {\"v\": \"0\"}, {\"v\": \"1\"}, {\"v\": \"0\"}, {\"v\": 0.32499999}]}, {\"c\": [{\"v\": 44.80268113844386}, {\"v\": 41.389557}, {\"v\": \"0\"}, {\"v\": \"1\"}, {\"v\": \"0\"}, {\"v\": \"0\"}, {\"v\": \"0\"}, {\"v\": \"0\"}, {\"v\": 0.116}]}, {\"c\": [{\"v\": 41.80143036722713}, {\"v\": 39.141056}, {\"v\": \"0\"}, {\"v\": \"1\"}, {\"v\": \"0\"}, {\"v\": \"0\"}, {\"v\": \"1\"}, {\"v\": \"0\"}, {\"v\": 0.104}]}, {\"c\": [{\"v\": 45.428083941757535}, {\"v\": 52.911392}, {\"v\": \"0\"}, {\"v\": \"1\"}, {\"v\": \"0\"}, {\"v\": \"0\"}, {\"v\": \"0\"}, {\"v\": \"0\"}, {\"v\": 0.27900001}]}, {\"c\": [{\"v\": 59.31322942878005}, {\"v\": 46.296597}, {\"v\": \"0\"}, {\"v\": \"0\"}, {\"v\": \"1\"}, {\"v\": \"0\"}, {\"v\": \"0\"}, {\"v\": \"1\"}, {\"v\": 0.76700002}]}, {\"c\": [{\"v\": 45.10493810867448}, {\"v\": 35.290756}, {\"v\": \"0\"}, {\"v\": \"1\"}, {\"v\": \"0\"}, {\"v\": \"0\"}, {\"v\": \"1\"}, {\"v\": \"0\"}, {\"v\": 0.96499997}]}, {\"c\": [{\"v\": 47.952744606427714}, {\"v\": 32.230995}, {\"v\": \"0\"}, {\"v\": \"0\"}, {\"v\": \"0\"}, {\"v\": \"0\"}, {\"v\": \"0\"}, {\"v\": \"0\"}, {\"v\": 0.32499999}]}, {\"c\": [{\"v\": 44.80268113844386}, {\"v\": 27.303865}, {\"v\": \"0\"}, {\"v\": \"1\"}, {\"v\": \"0\"}, {\"v\": \"0\"}, {\"v\": \"0\"}, {\"v\": \"0\"}, {\"v\": 0.116}]}, {\"c\": [{\"v\": 44.80268113844386}, {\"v\": 45.466282}, {\"v\": \"0\"}, {\"v\": \"1\"}, {\"v\": \"0\"}, {\"v\": \"0\"}, {\"v\": \"0\"}, {\"v\": \"0\"}, {\"v\": 0.116}]}, {\"c\": [{\"v\": 41.8474722885728}, {\"v\": 39.011898}, {\"v\": \"0\"}, {\"v\": \"1\"}, {\"v\": \"0\"}, {\"v\": \"0\"}, {\"v\": \"1\"}, {\"v\": \"0\"}, {\"v\": 0.116}]}, {\"c\": [{\"v\": 44.774999803385896}, {\"v\": 41.904308}, {\"v\": \"0\"}, {\"v\": \"0\"}, {\"v\": \"0\"}, {\"v\": \"0\"}, {\"v\": \"1\"}, {\"v\": \"0\"}, {\"v\": 0.26699999}]}, {\"c\": [{\"v\": 64.06061849884328}, {\"v\": 66.971725}, {\"v\": \"1\"}, {\"v\": \"0\"}, {\"v\": \"0\"}, {\"v\": \"1\"}, {\"v\": \"0\"}, {\"v\": \"1\"}, {\"v\": 0.86000001}]}, {\"c\": [{\"v\": 58.60110385787666}, {\"v\": 67.602936}, {\"v\": \"1\"}, {\"v\": \"0\"}, {\"v\": \"0\"}, {\"v\": \"0\"}, {\"v\": \"0\"}, {\"v\": \"1\"}, {\"v\": 0.51099998}]}, {\"c\": [{\"v\": 64.95623756571543}, {\"v\": 50.347546}, {\"v\": \"1\"}, {\"v\": \"0\"}, {\"v\": \"1\"}, {\"v\": \"0\"}, {\"v\": \"0\"}, {\"v\": \"1\"}, {\"v\": 0.76700002}]}, {\"c\": [{\"v\": 64.95623756571543}, {\"v\": 56.914547}, {\"v\": \"1\"}, {\"v\": \"0\"}, {\"v\": \"1\"}, {\"v\": \"0\"}, {\"v\": \"0\"}, {\"v\": \"1\"}, {\"v\": 0.76700002}]}, {\"c\": [{\"v\": 58.60110385787666}, {\"v\": 38.975037}, {\"v\": \"1\"}, {\"v\": \"0\"}, {\"v\": \"0\"}, {\"v\": \"0\"}, {\"v\": \"0\"}, {\"v\": \"1\"}, {\"v\": 0.51099998}]}, {\"c\": [{\"v\": 64.28315433690923}, {\"v\": 62.284481}, {\"v\": \"1\"}, {\"v\": \"0\"}, {\"v\": \"0\"}, {\"v\": \"1\"}, {\"v\": \"0\"}, {\"v\": \"1\"}, {\"v\": 0.91799998}]}, {\"c\": [{\"v\": 60.16269235685079}, {\"v\": 56.490501}, {\"v\": \"1\"}, {\"v\": \"0\"}, {\"v\": \"0\"}, {\"v\": \"0\"}, {\"v\": \"0\"}, {\"v\": \"1\"}, {\"v\": 0.91799998}]}, {\"c\": [{\"v\": 60.16269235685079}, {\"v\": 59.236122}, {\"v\": \"1\"}, {\"v\": \"0\"}, {\"v\": \"0\"}, {\"v\": \"0\"}, {\"v\": \"0\"}, {\"v\": \"1\"}, {\"v\": 0.91799998}]}, {\"c\": [{\"v\": 62.72156583793511}, {\"v\": 76.7686}, {\"v\": \"1\"}, {\"v\": \"0\"}, {\"v\": \"0\"}, {\"v\": \"1\"}, {\"v\": \"0\"}, {\"v\": \"1\"}, {\"v\": 0.51099998}]}]},\n",
       "            {\n",
       "              pageSize: 25,\n",
       "              cssClassNames:  {\n",
       "                tableRow: 'gchart-table-row',\n",
       "                headerRow: 'gchart-table-headerrow',\n",
       "                oddTableRow: 'gchart-table-oddrow',\n",
       "                selectedTableRow: 'gchart-table-selectedrow',\n",
       "                hoverTableRow: 'gchart-table-hoverrow',\n",
       "                tableCell: 'gchart-table-cell',\n",
       "                headerCell: 'gchart-table-headercell',\n",
       "                rowNumberCell: 'gchart-table-rownumcell'\n",
       "              }\n",
       "            },\n",
       "            {source_index: 3, fields: 'predicted_winpercent,winpercent,chocolate,fruity,peanutyalmondy,crispedricewafer,hard,bar,pricepercent'},\n",
       "            0,\n",
       "            85);\n",
       "        }\n",
       "      );\n",
       "    </script>\n",
       "  "
      ],
      "text/plain": [
       "QueryResultsTable job_42xAtdGvW_ZZKH2bQbuAbvy6SwNM"
      ]
     },
     "execution_count": 11,
     "metadata": {},
     "output_type": "execute_result"
    }
   ],
   "source": [
    "%%bq query\n",
    "SELECT\n",
    "  *\n",
    "FROM\n",
    "  ML.PREDICT(MODEL model.candy_model_asis,\n",
    "      (SELECT\n",
    "        winpercent,\n",
    "        CAST(chocolate AS STRING) AS chocolate,\n",
    "        CAST(fruity AS STRING) AS fruity,\n",
    "        #CAST(caramel AS STRING) AS caramel,\n",
    "        CAST(peanutyalmondy AS STRING) AS peanutyalmondy,\n",
    "        #CAST(nougat AS STRING) AS nougat,\n",
    "        CAST(crispedricewafer AS STRING) AS crispedricewafer,\n",
    "        CAST(hard AS STRING) AS hard,\n",
    "        CAST(bar AS STRING) AS bar,\n",
    "        #CAST(pluribus AS STRING) AS pluribus,\n",
    "        #sugarpercent, -- this is the label; because it is continuous, we need to use regression\n",
    "        pricepercent\n",
    "       FROM\n",
    "        lidldatascientistadvanalytics.candy_data.original\n",
    "      ))\n",
    "LIMIT 100"
   ]
  },
  {
   "cell_type": "markdown",
   "metadata": {},
   "source": [
    "Perhaps it is of interest to make a prediction of the popularity of a candy, given a number of other factors: chocolate, fruity, peanutyalmondy, crispedricewafer, hard, bar, pricepercent.\n",
    "\n",
    "To make this prediction, these values will be passed into the SELECT statement.\n"
   ]
  },
  {
   "cell_type": "code",
   "execution_count": 12,
   "metadata": {},
   "outputs": [
    {
     "data": {
      "text/html": [
       "\n",
       "    <div class=\"bqtv\" id=\"5_156762097133\"><table><tr><th>predicted_winpercent</th><th>chocolate</th><th>fruity</th><th>peanutyalmondy</th><th>crispedricewafer</th><th>hard</th><th>bar</th><th>pricepercent</th></tr><tr><td>62.74889115964341</td><td>1</td><td>1</td><td>1</td><td>1</td><td>1</td><td>1</td><td>0.5</td></tr></table></div>\n",
       "    <br />(rows: 1, time: 0.6s,   336B processed, job: job_cjGOiF43ZVjzco2tGxVAkJsObf-0)<br />\n",
       "    <script src=\"/static/components/requirejs/require.js\"></script>\n",
       "    <script>\n",
       "      require.config({\n",
       "        paths: {\n",
       "          base: '/static/base',\n",
       "          d3: '//cdnjs.cloudflare.com/ajax/libs/d3/3.4.13/d3',\n",
       "          plotly: 'https://cdn.plot.ly/plotly-1.5.1.min.js?noext',\n",
       "          jquery: '//ajax.googleapis.com/ajax/libs/jquery/2.0.0/jquery.min'\n",
       "        },\n",
       "        map: {\n",
       "          '*': {\n",
       "            datalab: 'nbextensions/gcpdatalab'\n",
       "          }\n",
       "        },\n",
       "        shim: {\n",
       "          plotly: {\n",
       "            deps: ['d3', 'jquery'],\n",
       "            exports: 'plotly'\n",
       "          }\n",
       "        }\n",
       "      });\n",
       "\n",
       "      require(['datalab/charting', 'datalab/element!5_156762097133', 'base/js/events',\n",
       "          'datalab/style!/nbextensions/gcpdatalab/charting.css'],\n",
       "        function(charts, dom, events) {\n",
       "          charts.render('gcharts', dom, events, 'table', [], {\"cols\": [{\"id\": \"predicted_winpercent\", \"label\": \"predicted_winpercent\", \"type\": \"number\"}, {\"id\": \"chocolate\", \"label\": \"chocolate\", \"type\": \"string\"}, {\"id\": \"fruity\", \"label\": \"fruity\", \"type\": \"string\"}, {\"id\": \"peanutyalmondy\", \"label\": \"peanutyalmondy\", \"type\": \"string\"}, {\"id\": \"crispedricewafer\", \"label\": \"crispedricewafer\", \"type\": \"string\"}, {\"id\": \"hard\", \"label\": \"hard\", \"type\": \"string\"}, {\"id\": \"bar\", \"label\": \"bar\", \"type\": \"string\"}, {\"id\": \"pricepercent\", \"label\": \"pricepercent\", \"type\": \"number\"}], \"rows\": [{\"c\": [{\"v\": 62.74889115964341}, {\"v\": \"1\"}, {\"v\": \"1\"}, {\"v\": \"1\"}, {\"v\": \"1\"}, {\"v\": \"1\"}, {\"v\": \"1\"}, {\"v\": 0.5}]}]},\n",
       "            {\n",
       "              pageSize: 25,\n",
       "              cssClassNames:  {\n",
       "                tableRow: 'gchart-table-row',\n",
       "                headerRow: 'gchart-table-headerrow',\n",
       "                oddTableRow: 'gchart-table-oddrow',\n",
       "                selectedTableRow: 'gchart-table-selectedrow',\n",
       "                hoverTableRow: 'gchart-table-hoverrow',\n",
       "                tableCell: 'gchart-table-cell',\n",
       "                headerCell: 'gchart-table-headercell',\n",
       "                rowNumberCell: 'gchart-table-rownumcell'\n",
       "              }\n",
       "            },\n",
       "            {source_index: 4, fields: 'predicted_winpercent,chocolate,fruity,peanutyalmondy,crispedricewafer,hard,bar,pricepercent'},\n",
       "            0,\n",
       "            1);\n",
       "        }\n",
       "      );\n",
       "    </script>\n",
       "  "
      ],
      "text/plain": [
       "QueryResultsTable job_cjGOiF43ZVjzco2tGxVAkJsObf-0"
      ]
     },
     "execution_count": 12,
     "metadata": {},
     "output_type": "execute_result"
    }
   ],
   "source": [
    "%%bq query\n",
    "SELECT\n",
    "  *\n",
    "FROM\n",
    "  ml.PREDICT(MODEL model.candy_model_asis,\n",
    "      (SELECT\n",
    "          '1' AS chocolate,\n",
    "          '1' AS fruity,\n",
    "          '1' AS peanutyalmondy,\n",
    "          '1' AS crispedricewafer,\n",
    "          '1' AS hard,\n",
    "          '1' AS bar,\n",
    "          0.5 AS pricepercent\n",
    "      ))"
   ]
  },
  {
   "cell_type": "code",
   "execution_count": null,
   "metadata": {},
   "outputs": [],
   "source": []
  }
 ],
 "metadata": {
  "kernelspec": {
   "display_name": "bigquery",
   "language": "python",
   "name": "bigquery"
  },
  "language_info": {
   "codemirror_mode": {
    "name": "ipython",
    "version": 3
   },
   "file_extension": ".py",
   "mimetype": "text/x-python",
   "name": "python",
   "nbconvert_exporter": "python",
   "pygments_lexer": "ipython3",
   "version": "3.6.9"
  },
  "nbTranslate": {
   "displayLangs": [
    "de",
    "en"
   ],
   "hotkey": "alt-t",
   "langInMainMenu": true,
   "sourceLang": "en",
   "targetLang": "de",
   "useGoogleTranslate": true
  }
 },
 "nbformat": 4,
 "nbformat_minor": 2
}

{
 "cells": [
  {
   "cell_type": "markdown",
   "metadata": {
    "colab_type": "text",
    "id": "view-in-github"
   },
   "source": [
    "<a href=\"https://colab.research.google.com/github/OleBo/candy-power-ranking/blob/master/Exploring_and_visualizing.ipynb\" target=\"_parent\"><img src=\"https://colab.research.google.com/assets/colab-badge.svg\" alt=\"Open In Colab\"/></a>"
   ]
  },
  {
   "cell_type": "markdown",
   "metadata": {
    "colab_type": "text",
    "id": "S2CsPcBqp6_8"
   },
   "source": [
    "# Exploring and visualizing the Candy Power data set\n",
    "Presumably, this is a brand new dataset we've never seen before, and we need to figure out what we actually have in this dataset. If we think about our goal, our goal here is to, given attributes about a product, trying to determine the winning score. So, number one, this means it's going to be a regression problem. So, we're trying to figure out, we're trying to analyze the winpercent value. So, let's think more about the goal that we're trying to do, we're trying to predict the winning score.\n",
    "\n",
    "\n",
    "\n",
    "\n",
    "\n"
   ]
  },
  {
   "cell_type": "markdown",
   "metadata": {
    "colab_type": "text",
    "id": "JkxY4yqDfgIj"
   },
   "source": [
    "## Setting up our workspace\n",
    "\n",
    "Before we go on, let's make sure we set up our workspace. We'll need to import in the libraries and data we're going to use."
   ]
  },
  {
   "cell_type": "code",
   "execution_count": 1,
   "metadata": {
    "colab": {
     "base_uri": "https://localhost:8080/",
     "height": 254
    },
    "colab_type": "code",
    "id": "lbLkpUjx3fqH",
    "outputId": "f3f6a0cf-7379-493f-d82e-e580244a27ad"
   },
   "outputs": [
    {
     "name": "stdout",
     "output_type": "stream",
     "text": [
      "using local file\n",
      "There are 85 rows and 13 columns\n"
     ]
    }
   ],
   "source": [
    "from mpl_toolkits.mplot3d import Axes3D\n",
    "from sklearn.preprocessing import StandardScaler\n",
    "import matplotlib.pyplot as plt # plotting\n",
    "import numpy as np # linear algebra\n",
    "import os # accessing directory structure\n",
    "import pandas as pd # data processing, CSV file I/O (e.g. pd.read_csv)#!pip install plotly==4.1.0\n",
    "import plotly\n",
    "\n",
    "# read data from local file (offline use)\n",
    "url = 'https://raw.githubusercontent.com/fivethirtyeight/data/master/candy-power-ranking/candy-data.csv'\n",
    "#!wget 'https://raw.githubusercontent.com/fivethirtyeight/data/master/candy-power-ranking/candy-data.csv'\n",
    "if os.path.exists(\"candy-data.csv\"): \n",
    "    print(\"using local file\")\n",
    "    url = \"candy-data.csv\"\n",
    "    \n",
    "nRowsRead = 1000 # specify 'None' if want to read whole file\n",
    "df = pd.read_csv(url, delimiter=',', nrows = nRowsRead)\n",
    "df.dataframeName = 'candy-data.csv'\n",
    "nRow, nCol = df.shape\n",
    "print(f'There are {nRow} rows and {nCol} columns')"
   ]
  },
  {
   "cell_type": "markdown",
   "metadata": {
    "colab_type": "text",
    "id": "bLGqkWPBfPqm"
   },
   "source": [
    "The first step we want to do before we even dive into model building is, make sure we understand the data. One thing that you will notice is that, this is a relatively small dataset. So, it's definitely going to fit into our local instance. \n",
    "We read the cvs file and return the result back as a pandas dataframe. So if you look at this, we can df.head, which returns the first five results, and we can analyze them right here. "
   ]
  },
  {
   "cell_type": "code",
   "execution_count": 2,
   "metadata": {
    "colab": {
     "base_uri": "https://localhost:8080/",
     "height": 238
    },
    "colab_type": "code",
    "id": "dLIn3r7V4k4T",
    "outputId": "c4496de1-feab-403d-e28f-7cc5d6d38c4a"
   },
   "outputs": [
    {
     "data": {
      "text/html": [
       "<div>\n",
       "<style scoped>\n",
       "    .dataframe tbody tr th:only-of-type {\n",
       "        vertical-align: middle;\n",
       "    }\n",
       "\n",
       "    .dataframe tbody tr th {\n",
       "        vertical-align: top;\n",
       "    }\n",
       "\n",
       "    .dataframe thead th {\n",
       "        text-align: right;\n",
       "    }\n",
       "</style>\n",
       "<table border=\"1\" class=\"dataframe\">\n",
       "  <thead>\n",
       "    <tr style=\"text-align: right;\">\n",
       "      <th></th>\n",
       "      <th>competitorname</th>\n",
       "      <th>chocolate</th>\n",
       "      <th>fruity</th>\n",
       "      <th>caramel</th>\n",
       "      <th>peanutyalmondy</th>\n",
       "      <th>nougat</th>\n",
       "      <th>crispedricewafer</th>\n",
       "      <th>hard</th>\n",
       "      <th>bar</th>\n",
       "      <th>pluribus</th>\n",
       "      <th>sugarpercent</th>\n",
       "      <th>pricepercent</th>\n",
       "      <th>winpercent</th>\n",
       "    </tr>\n",
       "  </thead>\n",
       "  <tbody>\n",
       "    <tr>\n",
       "      <th>0</th>\n",
       "      <td>100 Grand</td>\n",
       "      <td>1</td>\n",
       "      <td>0</td>\n",
       "      <td>1</td>\n",
       "      <td>0</td>\n",
       "      <td>0</td>\n",
       "      <td>1</td>\n",
       "      <td>0</td>\n",
       "      <td>1</td>\n",
       "      <td>0</td>\n",
       "      <td>0.732</td>\n",
       "      <td>0.860</td>\n",
       "      <td>66.971725</td>\n",
       "    </tr>\n",
       "    <tr>\n",
       "      <th>1</th>\n",
       "      <td>3 Musketeers</td>\n",
       "      <td>1</td>\n",
       "      <td>0</td>\n",
       "      <td>0</td>\n",
       "      <td>0</td>\n",
       "      <td>1</td>\n",
       "      <td>0</td>\n",
       "      <td>0</td>\n",
       "      <td>1</td>\n",
       "      <td>0</td>\n",
       "      <td>0.604</td>\n",
       "      <td>0.511</td>\n",
       "      <td>67.602936</td>\n",
       "    </tr>\n",
       "    <tr>\n",
       "      <th>2</th>\n",
       "      <td>One dime</td>\n",
       "      <td>0</td>\n",
       "      <td>0</td>\n",
       "      <td>0</td>\n",
       "      <td>0</td>\n",
       "      <td>0</td>\n",
       "      <td>0</td>\n",
       "      <td>0</td>\n",
       "      <td>0</td>\n",
       "      <td>0</td>\n",
       "      <td>0.011</td>\n",
       "      <td>0.116</td>\n",
       "      <td>32.261086</td>\n",
       "    </tr>\n",
       "    <tr>\n",
       "      <th>3</th>\n",
       "      <td>One quarter</td>\n",
       "      <td>0</td>\n",
       "      <td>0</td>\n",
       "      <td>0</td>\n",
       "      <td>0</td>\n",
       "      <td>0</td>\n",
       "      <td>0</td>\n",
       "      <td>0</td>\n",
       "      <td>0</td>\n",
       "      <td>0</td>\n",
       "      <td>0.011</td>\n",
       "      <td>0.511</td>\n",
       "      <td>46.116505</td>\n",
       "    </tr>\n",
       "    <tr>\n",
       "      <th>4</th>\n",
       "      <td>Air Heads</td>\n",
       "      <td>0</td>\n",
       "      <td>1</td>\n",
       "      <td>0</td>\n",
       "      <td>0</td>\n",
       "      <td>0</td>\n",
       "      <td>0</td>\n",
       "      <td>0</td>\n",
       "      <td>0</td>\n",
       "      <td>0</td>\n",
       "      <td>0.906</td>\n",
       "      <td>0.511</td>\n",
       "      <td>52.341465</td>\n",
       "    </tr>\n",
       "  </tbody>\n",
       "</table>\n",
       "</div>"
      ],
      "text/plain": [
       "  competitorname  chocolate  fruity  caramel  peanutyalmondy  nougat  \\\n",
       "0      100 Grand          1       0        1               0       0   \n",
       "1   3 Musketeers          1       0        0               0       1   \n",
       "2       One dime          0       0        0               0       0   \n",
       "3    One quarter          0       0        0               0       0   \n",
       "4      Air Heads          0       1        0               0       0   \n",
       "\n",
       "   crispedricewafer  hard  bar  pluribus  sugarpercent  pricepercent  \\\n",
       "0                 1     0    1         0         0.732         0.860   \n",
       "1                 0     0    1         0         0.604         0.511   \n",
       "2                 0     0    0         0         0.011         0.116   \n",
       "3                 0     0    0         0         0.011         0.511   \n",
       "4                 0     0    0         0         0.906         0.511   \n",
       "\n",
       "   winpercent  \n",
       "0   66.971725  \n",
       "1   67.602936  \n",
       "2   32.261086  \n",
       "3   46.116505  \n",
       "4   52.341465  "
      ]
     },
     "execution_count": 2,
     "metadata": {},
     "output_type": "execute_result"
    }
   ],
   "source": [
    "df.head(5)"
   ]
  },
  {
   "cell_type": "markdown",
   "metadata": {
    "colab_type": "text",
    "id": "1Ia8ZlAzvfEp"
   },
   "source": [
    "## Code\n",
    "\n",
    "So, what we can do is, we can create a generalized function to query columns of interests that we want. If you think about it, there's a couple of key things that we're interested in. Number one, we're interested in, for each value of that column, what is the count as in the number of products? What is the average winpercent for that column value? This will become more apparent. But this is an example query that you could use to analyze your data set, and we'll use the string formatting function which allows us basically said, \"Given this column name plug this into the SQL query.\" So, whenever we call get distinct values, we'll get two fields of interests: The count and the average winpercent."
   ]
  },
  {
   "cell_type": "code",
   "execution_count": 3,
   "metadata": {
    "colab": {
     "base_uri": "https://localhost:8080/",
     "height": 463
    },
    "colab_type": "code",
    "id": "83zpzXzIpReo",
    "outputId": "5109d838-2498-4dd1-b715-e0a5662e6612"
   },
   "outputs": [
    {
     "name": "stdout",
     "output_type": "stream",
     "text": [
      "Requirement already satisfied: pandasql in /anaconda3/lib/python3.6/site-packages (0.7.3)\n",
      "Requirement already satisfied: numpy in /anaconda3/lib/python3.6/site-packages (from pandasql) (1.14.3)\n",
      "Requirement already satisfied: pandas in /anaconda3/lib/python3.6/site-packages (from pandasql) (0.24.2)\n",
      "Requirement already satisfied: sqlalchemy in /anaconda3/lib/python3.6/site-packages (from pandasql) (1.3.3)\n",
      "Requirement already satisfied: pytz>=2011k in /anaconda3/lib/python3.6/site-packages (from pandas->pandasql) (2019.1)\n",
      "Requirement already satisfied: python-dateutil>=2.5.0 in /Users/bochmann/.local/lib/python3.6/site-packages (from pandas->pandasql) (2.8.0)\n",
      "Requirement already satisfied: six>=1.5 in /Users/bochmann/.local/lib/python3.6/site-packages (from python-dateutil>=2.5.0->pandas->pandasql) (1.12.0)\n",
      "   chocolate  num_products  avg_winpercent\n",
      "0          0            48       42.142257\n",
      "1          1            37       60.921529\n"
     ]
    }
   ],
   "source": [
    "# Create a function that finds the number of records and the average winpercent\n",
    "!pip install pandasql\n",
    "import pandasql as ps\n",
    "import pandas as pd\n",
    "def get_distinct_values(column_name):\n",
    "  url = 'https://raw.githubusercontent.com/fivethirtyeight/data/master/candy-power-ranking/candy-data.csv'\n",
    "  df = pd.read_csv(url, index_col=0)\n",
    "  sql = \"\"\"\n",
    "SELECT\n",
    "  {0},\n",
    "  COUNT(1) AS num_products,\n",
    "  AVG(winpercent) AS avg_winpercent\n",
    "FROM \n",
    "  df\n",
    "GROUP BY\n",
    "  {0}\n",
    "  \"\"\".format(column_name)\n",
    "  return ps.sqldf(sql, locals())\n",
    "\n",
    "print(get_distinct_values(\"chocolate\"))"
   ]
  },
  {
   "cell_type": "markdown",
   "metadata": {
    "heading_collapsed": true
   },
   "source": [
    "### Distribution graphs (histogram/bar graph) of sampled columns:"
   ]
  },
  {
   "cell_type": "code",
   "execution_count": 4,
   "metadata": {
    "hidden": true
   },
   "outputs": [],
   "source": [
    "# Distribution graphs (histogram/bar graph) of column data\n",
    "def plotPerColumnDistribution(df, nGraphShown, nGraphPerRow):\n",
    "    nunique = df.nunique()\n",
    "    df = df[[col for col in df if nunique[col] > 1 and nunique[col] < 50]] # For displaying purposes, pick columns that have between 1 and 50 unique values\n",
    "    nRow, nCol = df.shape\n",
    "    columnNames = list(df)\n",
    "    nGraphRow = (nCol + nGraphPerRow - 1) / nGraphPerRow\n",
    "    plt.figure(num = None, figsize = (6 * nGraphPerRow, 8 * nGraphRow), dpi = 80, facecolor = 'w', edgecolor = 'k')\n",
    "    for i in range(min(nCol, nGraphShown)):\n",
    "        plt.subplot(nGraphRow, nGraphPerRow, i + 1)\n",
    "        columnDf = df.iloc[:, i]\n",
    "        if (not np.issubdtype(type(columnDf.iloc[0]), np.number)):\n",
    "            valueCounts = columnDf.value_counts()\n",
    "            valueCounts.plot.bar()\n",
    "        else:\n",
    "            columnDf.hist()\n",
    "        plt.ylabel('counts')\n",
    "        plt.xticks(rotation = 90)\n",
    "        plt.title(f'{columnNames[i]} (column {i})')\n",
    "    plt.tight_layout(pad = 1.0, w_pad = 1.0, h_pad = 1.0)\n",
    "    plt.show()"
   ]
  },
  {
   "cell_type": "code",
   "execution_count": 5,
   "metadata": {
    "hidden": true
   },
   "outputs": [
    {
     "data": {
      "image/png": "[encoded data removed]",
      "text/plain": [
       "<Figure size 2400x1920 with 10 Axes>"
      ]
     },
     "metadata": {},
     "output_type": "display_data"
    }
   ],
   "source": [
    "plotPerColumnDistribution(df, 10, 5)"
   ]
  },
  {
   "cell_type": "markdown",
   "metadata": {
    "heading_collapsed": true
   },
   "source": [
    "### Correlation matrix:"
   ]
  },
  {
   "cell_type": "code",
   "execution_count": 6,
   "metadata": {
    "hidden": true
   },
   "outputs": [],
   "source": [
    "# Correlation matrix\n",
    "def plotCorrelationMatrix(df, graphWidth):\n",
    "    filename = df.dataframeName\n",
    "    df = df.dropna('columns') # drop columns with NaN\n",
    "    df = df[[col for col in df if df[col].nunique() > 1]] # keep columns where there are more than 1 unique values\n",
    "    if df.shape[1] < 2:\n",
    "        print(f'No correlation plots shown: The number of non-NaN or constant columns ({df.shape[1]}) is less than 2')\n",
    "        return\n",
    "    corr = df.corr()\n",
    "    plt.figure(num=None, figsize=(graphWidth, graphWidth), dpi=80, facecolor='w', edgecolor='k')\n",
    "    corrMat = plt.matshow(corr, fignum = 1)\n",
    "    plt.xticks(range(len(corr.columns)), corr.columns, rotation=90)\n",
    "    plt.yticks(range(len(corr.columns)), corr.columns)\n",
    "    plt.gca().xaxis.tick_bottom()\n",
    "    plt.colorbar(corrMat)\n",
    "    plt.title(f'Correlation Matrix for {filename}', fontsize=15)\n",
    "    plt.show()"
   ]
  },
  {
   "cell_type": "code",
   "execution_count": 7,
   "metadata": {
    "hidden": true
   },
   "outputs": [
    {
     "data": {
      "image/png": "[encoded data removed]",
      "text/plain": [
       "<Figure size 640x640 with 2 Axes>"
      ]
     },
     "metadata": {},
     "output_type": "display_data"
    }
   ],
   "source": [
    "plotCorrelationMatrix(df, 8)"
   ]
  },
  {
   "cell_type": "code",
   "execution_count": 8,
   "metadata": {
    "hidden": true
   },
   "outputs": [],
   "source": [
    "### Scatter and density plots:"
   ]
  },
  {
   "cell_type": "code",
   "execution_count": 9,
   "metadata": {
    "hidden": true
   },
   "outputs": [],
   "source": [
    "# Scatter and density plots\n",
    "def plotScatterMatrix(df, plotSize, textSize):\n",
    "    df = df.select_dtypes(include =[np.number]) # keep only numerical columns\n",
    "    # Remove rows and columns that would lead to df being singular\n",
    "    df = df.dropna('columns')\n",
    "    df = df[[col for col in df if df[col].nunique() > 1]] # keep columns where there are more than 1 unique values\n",
    "    columnNames = list(df)\n",
    "    if len(columnNames) > 10: # reduce the number of columns for matrix inversion of kernel density plots\n",
    "        columnNames = columnNames[:10]\n",
    "    df = df[columnNames]\n",
    "    ax = pd.plotting.scatter_matrix(df, alpha=0.75, figsize=[plotSize, plotSize], diagonal='kde')\n",
    "    corrs = df.corr().values\n",
    "    for i, j in zip(*plt.np.triu_indices_from(ax, k = 1)):\n",
    "        ax[i, j].annotate('Corr. coef = %.3f' % corrs[i, j], (0.8, 0.2), xycoords='axes fraction', ha='center', va='center', size=textSize)\n",
    "    plt.suptitle('Scatter and Density Plot')\n",
    "    plt.show()"
   ]
  },
  {
   "cell_type": "code",
   "execution_count": 10,
   "metadata": {
    "hidden": true
   },
   "outputs": [
    {
     "data": {
      "image/png": "[encoded data removed]",
      "text/plain": [
       "<Figure size 1440x1440 with 100 Axes>"
      ]
     },
     "metadata": {
      "needs_background": "light"
     },
     "output_type": "display_data"
    }
   ],
   "source": [
    "plotScatterMatrix(df, 20, 10)"
   ]
  },
  {
   "cell_type": "markdown",
   "metadata": {
    "colab_type": "text",
    "heading_collapsed": true,
    "id": "P6hAghHDiZHK"
   },
   "source": [
    "### plotly table\n",
    "\n",
    "go.Table provides a Table object for detailed data viewing. The data are arranged in a grid of rows and columns. Most styling can be specified for header, columns, rows or individual cells. Table is using a column-major order, ie. the grid is represented as a vector of column vectors."
   ]
  },
  {
   "cell_type": "code",
   "execution_count": 33,
   "metadata": {
    "colab": {
     "base_uri": "https://localhost:8080/",
     "height": 582
    },
    "colab_type": "code",
    "hidden": true,
    "id": "PrC_njxnPxld",
    "outputId": "5e2df779-5ac6-4205-89ce-038ec3958799"
   },
   "outputs": [
    {
     "data": {
      "application/vnd.plotly.v1+json": {
       "config": {
        "plotlyServerURL": "https://plot.ly"
       },
       "data": [
        {
         "cells": {
          "align": "left",
          "fill": {
           "color": "lavender"
          },
          "values": [
           [
            "ReeseÕs Peanut Butter cup",
            "ReeseÕs Miniatures",
            "Twix",
            "Kit Kat",
            "Snickers",
            "ReeseÕs pieces",
            "Milky Way",
            "ReeseÕs stuffed with pieces",
            "Peanut butter M&MÕs",
            "Nestle Butterfinger",
            "Peanut M&Ms",
            "3 Musketeers",
            "Starburst",
            "100 Grand",
            "M&MÕs",
            "Nestle Crunch",
            "Rolo",
            "Milky Way Simply Caramel",
            "Skittles original",
            "HersheyÕs Krackel",
            "Milky Way Midnight",
            "Sour Patch Kids",
            "Snickers Crisper",
            "HersheyÕs Special Dark",
            "Junior Mints",
            "Haribo Gold Bears",
            "Baby Ruth",
            "HersheyÕs Milk Chocolate",
            "HersheyÕs Kisses",
            "Nerds",
            "Skittles wildberry",
            "Milk Duds",
            "Swedish Fish",
            "Mr Good Bar",
            "Lifesavers big ring gummies",
            "Sour Patch Tricksters",
            "Air Heads",
            "Haribo Sour Bears",
            "Almond Joy",
            "Tootsie Roll Snack Bars",
            "Whoppers",
            "Tootsie Pop",
            "Mounds",
            "Trolli Sour Bites",
            "Gobstopper",
            "Mike & Ike",
            "Payday",
            "One quarter",
            "Smarties candy",
            "Tootsie Roll Midgies",
            "Twizzlers",
            "WelchÕs Fruit Snacks",
            "Fruit Chews",
            "Tootsie Roll Juniors",
            "Runts",
            "Dots",
            "Haribo Twin Snakes",
            "WertherÕs Original Caramel",
            "Laffy Taffy",
            "Pop Rocks",
            "Dum Dums",
            "Now & Later",
            "Fun Dip",
            "Lemonhead",
            "Warheads",
            "Charleston Chew",
            "Candy Corn",
            "Nestle Smarties",
            "Pixie Sticks",
            "Red vines",
            "Chewey Lemonhead Fruit Mix",
            "Ring pop",
            "Sixlets",
            "Strawberry bon bons",
            "Caramel Apple Pops",
            "Haribo Happy Cola",
            "Sugar Babies",
            "One dime",
            "Sugar Daddy",
            "Root Beer Barrels",
            "Jawbusters",
            "Super Bubble",
            "Chiclets",
            "Boston Baked Beans",
            "Nik L Nip"
           ],
           [
            84.18029,
            81.86625699999999,
            81.642914,
            76.7686,
            76.67378199999999,
            73.43499,
            73.099556,
            72.887901,
            71.46505,
            70.735641,
            69.483788,
            67.602936,
            67.037628,
            66.971725,
            66.574585,
            66.47068,
            65.716286,
            64.35334,
            63.08514,
            62.28448100000001,
            60.800701000000004,
            59.863997999999995,
            59.529251,
            59.236121999999995,
            57.21925,
            57.11974,
            56.914547,
            56.490501,
            55.375454000000005,
            55.354046,
            55.103694999999995,
            55.064071999999996,
            54.861111,
            54.526451,
            52.911392000000006,
            52.825947,
            52.341465,
            51.41243,
            50.347546,
            49.653503,
            49.524113,
            48.982651000000004,
            47.829754,
            47.173229,
            46.783348,
            46.411716,
            46.296597,
            46.116505,
            45.995827,
            45.736748,
            45.466282,
            44.375519,
            43.088924,
            43.068897,
            42.849144,
            42.272076,
            42.178771999999995,
            41.904308,
            41.389557,
            41.265511,
            39.460556,
            39.4468,
            39.185505,
            39.141056,
            39.011897999999995,
            38.975037,
            38.010963000000004,
            37.887188,
            37.722336,
            37.348521999999996,
            36.017628,
            35.290756,
            34.722,
            34.578990999999995,
            34.517681,
            34.158958,
            33.43755,
            32.261086,
            32.230995,
            29.703691,
            28.127439000000003,
            27.303865000000002,
            24.524988,
            23.417824,
            22.445341
           ]
          ]
         },
         "header": {
          "align": "left",
          "fill": {
           "color": "paleturquoise"
          },
          "values": [
           "competitorname",
           "winpercent"
          ]
         },
         "type": "table"
        }
       ],
       "layout": {
        "template": {
         "data": {
          "bar": [
           {
            "error_x": {
             "color": "#2a3f5f"
            },
            "error_y": {
             "color": "#2a3f5f"
            },
            "marker": {
             "line": {
              "color": "#E5ECF6",
              "width": 0.5
             }
            },
            "type": "bar"
           }
          ],
          "barpolar": [
           {
            "marker": {
             "line": {
              "color": "#E5ECF6",
              "width": 0.5
             }
            },
            "type": "barpolar"
           }
          ],
          "carpet": [
           {
            "aaxis": {
             "endlinecolor": "#2a3f5f",
             "gridcolor": "white",
             "linecolor": "white",
             "minorgridcolor": "white",
             "startlinecolor": "#2a3f5f"
            },
            "baxis": {
             "endlinecolor": "#2a3f5f",
             "gridcolor": "white",
             "linecolor": "white",
             "minorgridcolor": "white",
             "startlinecolor": "#2a3f5f"
            },
            "type": "carpet"
           }
          ],
          "choropleth": [
           {
            "colorbar": {
             "outlinewidth": 0,
             "ticks": ""
            },
            "type": "choropleth"
           }
          ],
          "contour": [
           {
            "colorbar": {
             "outlinewidth": 0,
             "ticks": ""
            },
            "colorscale": [
             [
              0,
              "#0d0887"
             ],
             [
              0.1111111111111111,
              "#46039f"
             ],
             [
              0.2222222222222222,
              "#7201a8"
             ],
             [
              0.3333333333333333,
              "#9c179e"
             ],
             [
              0.4444444444444444,
              "#bd3786"
             ],
             [
              0.5555555555555556,
              "#d8576b"
             ],
             [
              0.6666666666666666,
              "#ed7953"
             ],
             [
              0.7777777777777778,
              "#fb9f3a"
             ],
             [
              0.8888888888888888,
              "#fdca26"
             ],
             [
              1,
              "#f0f921"
             ]
            ],
            "type": "contour"
           }
          ],
          "contourcarpet": [
           {
            "colorbar": {
             "outlinewidth": 0,
             "ticks": ""
            },
            "type": "contourcarpet"
           }
          ],
          "heatmap": [
           {
            "colorbar": {
             "outlinewidth": 0,
             "ticks": ""
            },
            "colorscale": [
             [
              0,
              "#0d0887"
             ],
             [
              0.1111111111111111,
              "#46039f"
             ],
             [
              0.2222222222222222,
              "#7201a8"
             ],
             [
              0.3333333333333333,
              "#9c179e"
             ],
             [
              0.4444444444444444,
              "#bd3786"
             ],
             [
              0.5555555555555556,
              "#d8576b"
             ],
             [
              0.6666666666666666,
              "#ed7953"
             ],
             [
              0.7777777777777778,
              "#fb9f3a"
             ],
             [
              0.8888888888888888,
              "#fdca26"
             ],
             [
              1,
              "#f0f921"
             ]
            ],
            "type": "heatmap"
           }
          ],
          "heatmapgl": [
           {
            "colorbar": {
             "outlinewidth": 0,
             "ticks": ""
            },
            "colorscale": [
             [
              0,
              "#0d0887"
             ],
             [
              0.1111111111111111,
              "#46039f"
             ],
             [
              0.2222222222222222,
              "#7201a8"
             ],
             [
              0.3333333333333333,
              "#9c179e"
             ],
             [
              0.4444444444444444,
              "#bd3786"
             ],
             [
              0.5555555555555556,
              "#d8576b"
             ],
             [
              0.6666666666666666,
              "#ed7953"
             ],
             [
              0.7777777777777778,
              "#fb9f3a"
             ],
             [
              0.8888888888888888,
              "#fdca26"
             ],
             [
              1,
              "#f0f921"
             ]
            ],
            "type": "heatmapgl"
           }
          ],
          "histogram": [
           {
            "marker": {
             "colorbar": {
              "outlinewidth": 0,
              "ticks": ""
             }
            },
            "type": "histogram"
           }
          ],
          "histogram2d": [
           {
            "colorbar": {
             "outlinewidth": 0,
             "ticks": ""
            },
            "colorscale": [
             [
              0,
              "#0d0887"
             ],
             [
              0.1111111111111111,
              "#46039f"
             ],
             [
              0.2222222222222222,
              "#7201a8"
             ],
             [
              0.3333333333333333,
              "#9c179e"
             ],
             [
              0.4444444444444444,
              "#bd3786"
             ],
             [
              0.5555555555555556,
              "#d8576b"
             ],
             [
              0.6666666666666666,
              "#ed7953"
             ],
             [
              0.7777777777777778,
              "#fb9f3a"
             ],
             [
              0.8888888888888888,
              "#fdca26"
             ],
             [
              1,
              "#f0f921"
             ]
            ],
            "type": "histogram2d"
           }
          ],
          "histogram2dcontour": [
           {
            "colorbar": {
             "outlinewidth": 0,
             "ticks": ""
            },
            "colorscale": [
             [
              0,
              "#0d0887"
             ],
             [
              0.1111111111111111,
              "#46039f"
             ],
             [
              0.2222222222222222,
              "#7201a8"
             ],
             [
              0.3333333333333333,
              "#9c179e"
             ],
             [
              0.4444444444444444,
              "#bd3786"
             ],
             [
              0.5555555555555556,
              "#d8576b"
             ],
             [
              0.6666666666666666,
              "#ed7953"
             ],
             [
              0.7777777777777778,
              "#fb9f3a"
             ],
             [
              0.8888888888888888,
              "#fdca26"
             ],
             [
              1,
              "#f0f921"
             ]
            ],
            "type": "histogram2dcontour"
           }
          ],
          "mesh3d": [
           {
            "colorbar": {
             "outlinewidth": 0,
             "ticks": ""
            },
            "type": "mesh3d"
           }
          ],
          "parcoords": [
           {
            "line": {
             "colorbar": {
              "outlinewidth": 0,
              "ticks": ""
             }
            },
            "type": "parcoords"
           }
          ],
          "scatter": [
           {
            "marker": {
             "colorbar": {
              "outlinewidth": 0,
              "ticks": ""
             }
            },
            "type": "scatter"
           }
          ],
          "scatter3d": [
           {
            "line": {
             "colorbar": {
              "outlinewidth": 0,
              "ticks": ""
             }
            },
            "marker": {
             "colorbar": {
              "outlinewidth": 0,
              "ticks": ""
             }
            },
            "type": "scatter3d"
           }
          ],
          "scattercarpet": [
           {
            "marker": {
             "colorbar": {
              "outlinewidth": 0,
              "ticks": ""
             }
            },
            "type": "scattercarpet"
           }
          ],
          "scattergeo": [
           {
            "marker": {
             "colorbar": {
              "outlinewidth": 0,
              "ticks": ""
             }
            },
            "type": "scattergeo"
           }
          ],
          "scattergl": [
           {
            "marker": {
             "colorbar": {
              "outlinewidth": 0,
              "ticks": ""
             }
            },
            "type": "scattergl"
           }
          ],
          "scattermapbox": [
           {
            "marker": {
             "colorbar": {
              "outlinewidth": 0,
              "ticks": ""
             }
            },
            "type": "scattermapbox"
           }
          ],
          "scatterpolar": [
           {
            "marker": {
             "colorbar": {
              "outlinewidth": 0,
              "ticks": ""
             }
            },
            "type": "scatterpolar"
           }
          ],
          "scatterpolargl": [
           {
            "marker": {
             "colorbar": {
              "outlinewidth": 0,
              "ticks": ""
             }
            },
            "type": "scatterpolargl"
           }
          ],
          "scatterternary": [
           {
            "marker": {
             "colorbar": {
              "outlinewidth": 0,
              "ticks": ""
             }
            },
            "type": "scatterternary"
           }
          ],
          "surface": [
           {
            "colorbar": {
             "outlinewidth": 0,
             "ticks": ""
            },
            "colorscale": [
             [
              0,
              "#0d0887"
             ],
             [
              0.1111111111111111,
              "#46039f"
             ],
             [
              0.2222222222222222,
              "#7201a8"
             ],
             [
              0.3333333333333333,
              "#9c179e"
             ],
             [
              0.4444444444444444,
              "#bd3786"
             ],
             [
              0.5555555555555556,
              "#d8576b"
             ],
             [
              0.6666666666666666,
              "#ed7953"
             ],
             [
              0.7777777777777778,
              "#fb9f3a"
             ],
             [
              0.8888888888888888,
              "#fdca26"
             ],
             [
              1,
              "#f0f921"
             ]
            ],
            "type": "surface"
           }
          ],
          "table": [
           {
            "cells": {
             "fill": {
              "color": "#EBF0F8"
             },
             "line": {
              "color": "white"
             }
            },
            "header": {
             "fill": {
              "color": "#C8D4E3"
             },
             "line": {
              "color": "white"
             }
            },
            "type": "table"
           }
          ]
         },
         "layout": {
          "annotationdefaults": {
           "arrowcolor": "#2a3f5f",
           "arrowhead": 0,
           "arrowwidth": 1
          },
          "colorscale": {
           "diverging": [
            [
             0,
             "#8e0152"
            ],
            [
             0.1,
             "#c51b7d"
            ],
            [
             0.2,
             "#de77ae"
            ],
            [
             0.3,
             "#f1b6da"
            ],
            [
             0.4,
             "#fde0ef"
            ],
            [
             0.5,
             "#f7f7f7"
            ],
            [
             0.6,
             "#e6f5d0"
            ],
            [
             0.7,
             "#b8e186"
            ],
            [
             0.8,
             "#7fbc41"
            ],
            [
             0.9,
             "#4d9221"
            ],
            [
             1,
             "#276419"
            ]
           ],
           "sequential": [
            [
             0,
             "#0d0887"
            ],
            [
             0.1111111111111111,
             "#46039f"
            ],
            [
             0.2222222222222222,
             "#7201a8"
            ],
            [
             0.3333333333333333,
             "#9c179e"
            ],
            [
             0.4444444444444444,
             "#bd3786"
            ],
            [
             0.5555555555555556,
             "#d8576b"
            ],
            [
             0.6666666666666666,
             "#ed7953"
            ],
            [
             0.7777777777777778,
             "#fb9f3a"
            ],
            [
             0.8888888888888888,
             "#fdca26"
            ],
            [
             1,
             "#f0f921"
            ]
           ],
           "sequentialminus": [
            [
             0,
             "#0d0887"
            ],
            [
             0.1111111111111111,
             "#46039f"
            ],
            [
             0.2222222222222222,
             "#7201a8"
            ],
            [
             0.3333333333333333,
             "#9c179e"
            ],
            [
             0.4444444444444444,
             "#bd3786"
            ],
            [
             0.5555555555555556,
             "#d8576b"
            ],
            [
             0.6666666666666666,
             "#ed7953"
            ],
            [
             0.7777777777777778,
             "#fb9f3a"
            ],
            [
             0.8888888888888888,
             "#fdca26"
            ],
            [
             1,
             "#f0f921"
            ]
           ]
          },
          "colorway": [
           "#636efa",
           "#EF553B",
           "#00cc96",
           "#ab63fa",
           "#FFA15A",
           "#19d3f3",
           "#FF6692",
           "#B6E880",
           "#FF97FF",
           "#FECB52"
          ],
          "font": {
           "color": "#2a3f5f"
          },
          "geo": {
           "bgcolor": "white",
           "lakecolor": "white",
           "landcolor": "#E5ECF6",
           "showlakes": true,
           "showland": true,
           "subunitcolor": "white"
          },
          "hoverlabel": {
           "align": "left"
          },
          "hovermode": "closest",
          "mapbox": {
           "style": "light"
          },
          "paper_bgcolor": "white",
          "plot_bgcolor": "#E5ECF6",
          "polar": {
           "angularaxis": {
            "gridcolor": "white",
            "linecolor": "white",
            "ticks": ""
           },
           "bgcolor": "#E5ECF6",
           "radialaxis": {
            "gridcolor": "white",
            "linecolor": "white",
            "ticks": ""
           }
          },
          "scene": {
           "xaxis": {
            "backgroundcolor": "#E5ECF6",
            "gridcolor": "white",
            "gridwidth": 2,
            "linecolor": "white",
            "showbackground": true,
            "ticks": "",
            "zerolinecolor": "white"
           },
           "yaxis": {
            "backgroundcolor": "#E5ECF6",
            "gridcolor": "white",
            "gridwidth": 2,
            "linecolor": "white",
            "showbackground": true,
            "ticks": "",
            "zerolinecolor": "white"
           },
           "zaxis": {
            "backgroundcolor": "#E5ECF6",
            "gridcolor": "white",
            "gridwidth": 2,
            "linecolor": "white",
            "showbackground": true,
            "ticks": "",
            "zerolinecolor": "white"
           }
          },
          "shapedefaults": {
           "line": {
            "color": "#2a3f5f"
           }
          },
          "ternary": {
           "aaxis": {
            "gridcolor": "white",
            "linecolor": "white",
            "ticks": ""
           },
           "baxis": {
            "gridcolor": "white",
            "linecolor": "white",
            "ticks": ""
           },
           "bgcolor": "#E5ECF6",
           "caxis": {
            "gridcolor": "white",
            "linecolor": "white",
            "ticks": ""
           }
          },
          "title": {
           "x": 0.05
          },
          "xaxis": {
           "automargin": true,
           "gridcolor": "white",
           "linecolor": "white",
           "ticks": "",
           "zerolinecolor": "white",
           "zerolinewidth": 2
          },
          "yaxis": {
           "automargin": true,
           "gridcolor": "white",
           "linecolor": "white",
           "ticks": "",
           "zerolinecolor": "white",
           "zerolinewidth": 2
          }
         }
        }
       }
      },
      "text/html": [
       "<div>\n",
       "        \n",
       "        \n",
       "            <div id=\"506791ae-24a0-427a-8ecd-07532e377799\" class=\"plotly-graph-div\" style=\"height:525px; width:100%;\"></div>\n",
       "            <script type=\"text/javascript\">\n",
       "                require([\"plotly\"], function(Plotly) {\n",
       "                    window.PLOTLYENV=window.PLOTLYENV || {};\n",
       "                    \n",
       "                if (document.getElementById(\"506791ae-24a0-427a-8ecd-07532e377799\")) {\n",
       "                    Plotly.newPlot(\n",
       "                        '506791ae-24a0-427a-8ecd-07532e377799',\n",
       "                        [{\"cells\": {\"align\": \"left\", \"fill\": {\"color\": \"lavender\"}, \"values\": [[\"Reese\\u00d5s Peanut Butter cup\", \"Reese\\u00d5s Miniatures\", \"Twix\", \"Kit Kat\", \"Snickers\", \"Reese\\u00d5s pieces\", \"Milky Way\", \"Reese\\u00d5s stuffed with pieces\", \"Peanut butter M&M\\u00d5s\", \"Nestle Butterfinger\", \"Peanut M&Ms\", \"3 Musketeers\", \"Starburst\", \"100 Grand\", \"M&M\\u00d5s\", \"Nestle Crunch\", \"Rolo\", \"Milky Way Simply Caramel\", \"Skittles original\", \"Hershey\\u00d5s Krackel\", \"Milky Way Midnight\", \"Sour Patch Kids\", \"Snickers Crisper\", \"Hershey\\u00d5s Special Dark\", \"Junior Mints\", \"Haribo Gold Bears\", \"Baby Ruth\", \"Hershey\\u00d5s Milk Chocolate\", \"Hershey\\u00d5s Kisses\", \"Nerds\", \"Skittles wildberry\", \"Milk Duds\", \"Swedish Fish\", \"Mr Good Bar\", \"Lifesavers big ring gummies\", \"Sour Patch Tricksters\", \"Air Heads\", \"Haribo Sour Bears\", \"Almond Joy\", \"Tootsie Roll Snack Bars\", \"Whoppers\", \"Tootsie Pop\", \"Mounds\", \"Trolli Sour Bites\", \"Gobstopper\", \"Mike & Ike\", \"Payday\", \"One quarter\", \"Smarties candy\", \"Tootsie Roll Midgies\", \"Twizzlers\", \"Welch\\u00d5s Fruit Snacks\", \"Fruit Chews\", \"Tootsie Roll Juniors\", \"Runts\", \"Dots\", \"Haribo Twin Snakes\", \"Werther\\u00d5s Original Caramel\", \"Laffy Taffy\", \"Pop Rocks\", \"Dum Dums\", \"Now & Later\", \"Fun Dip\", \"Lemonhead\", \"Warheads\", \"Charleston Chew\", \"Candy Corn\", \"Nestle Smarties\", \"Pixie Sticks\", \"Red vines\", \"Chewey Lemonhead Fruit Mix\", \"Ring pop\", \"Sixlets\", \"Strawberry bon bons\", \"Caramel Apple Pops\", \"Haribo Happy Cola\", \"Sugar Babies\", \"One dime\", \"Sugar Daddy\", \"Root Beer Barrels\", \"Jawbusters\", \"Super Bubble\", \"Chiclets\", \"Boston Baked Beans\", \"Nik L Nip\"], [84.18029, 81.86625699999999, 81.642914, 76.7686, 76.67378199999999, 73.43499, 73.099556, 72.887901, 71.46505, 70.735641, 69.483788, 67.602936, 67.037628, 66.971725, 66.574585, 66.47068, 65.716286, 64.35334, 63.08514, 62.28448100000001, 60.800701000000004, 59.863997999999995, 59.529251, 59.236121999999995, 57.21925, 57.11974, 56.914547, 56.490501, 55.375454000000005, 55.354046, 55.103694999999995, 55.064071999999996, 54.861111, 54.526451, 52.911392000000006, 52.825947, 52.341465, 51.41243, 50.347546, 49.653503, 49.524113, 48.982651000000004, 47.829754, 47.173229, 46.783348, 46.411716, 46.296597, 46.116505, 45.995827, 45.736748, 45.466282, 44.375519, 43.088924, 43.068897, 42.849144, 42.272076, 42.178771999999995, 41.904308, 41.389557, 41.265511, 39.460556, 39.4468, 39.185505, 39.141056, 39.011897999999995, 38.975037, 38.010963000000004, 37.887188, 37.722336, 37.348521999999996, 36.017628, 35.290756, 34.722, 34.578990999999995, 34.517681, 34.158958, 33.43755, 32.261086, 32.230995, 29.703691, 28.127439000000003, 27.303865000000002, 24.524988, 23.417824, 22.445341]]}, \"header\": {\"align\": \"left\", \"fill\": {\"color\": \"paleturquoise\"}, \"values\": [\"competitorname\", \"winpercent\"]}, \"type\": \"table\"}],\n",
       "                        {\"template\": {\"data\": {\"bar\": [{\"error_x\": {\"color\": \"#2a3f5f\"}, \"error_y\": {\"color\": \"#2a3f5f\"}, \"marker\": {\"line\": {\"color\": \"#E5ECF6\", \"width\": 0.5}}, \"type\": \"bar\"}], \"barpolar\": [{\"marker\": {\"line\": {\"color\": \"#E5ECF6\", \"width\": 0.5}}, \"type\": \"barpolar\"}], \"carpet\": [{\"aaxis\": {\"endlinecolor\": \"#2a3f5f\", \"gridcolor\": \"white\", \"linecolor\": \"white\", \"minorgridcolor\": \"white\", \"startlinecolor\": \"#2a3f5f\"}, \"baxis\": {\"endlinecolor\": \"#2a3f5f\", \"gridcolor\": \"white\", \"linecolor\": \"white\", \"minorgridcolor\": \"white\", \"startlinecolor\": \"#2a3f5f\"}, \"type\": \"carpet\"}], \"choropleth\": [{\"colorbar\": {\"outlinewidth\": 0, \"ticks\": \"\"}, \"type\": \"choropleth\"}], \"contour\": [{\"colorbar\": {\"outlinewidth\": 0, \"ticks\": \"\"}, \"colorscale\": [[0.0, \"#0d0887\"], [0.1111111111111111, \"#46039f\"], [0.2222222222222222, \"#7201a8\"], [0.3333333333333333, \"#9c179e\"], [0.4444444444444444, \"#bd3786\"], [0.5555555555555556, \"#d8576b\"], [0.6666666666666666, \"#ed7953\"], [0.7777777777777778, \"#fb9f3a\"], [0.8888888888888888, \"#fdca26\"], [1.0, \"#f0f921\"]], \"type\": \"contour\"}], \"contourcarpet\": [{\"colorbar\": {\"outlinewidth\": 0, \"ticks\": \"\"}, \"type\": \"contourcarpet\"}], \"heatmap\": [{\"colorbar\": {\"outlinewidth\": 0, \"ticks\": \"\"}, \"colorscale\": [[0.0, \"#0d0887\"], [0.1111111111111111, \"#46039f\"], [0.2222222222222222, \"#7201a8\"], [0.3333333333333333, \"#9c179e\"], [0.4444444444444444, \"#bd3786\"], [0.5555555555555556, \"#d8576b\"], [0.6666666666666666, \"#ed7953\"], [0.7777777777777778, \"#fb9f3a\"], [0.8888888888888888, \"#fdca26\"], [1.0, \"#f0f921\"]], \"type\": \"heatmap\"}], \"heatmapgl\": [{\"colorbar\": {\"outlinewidth\": 0, \"ticks\": \"\"}, \"colorscale\": [[0.0, \"#0d0887\"], [0.1111111111111111, \"#46039f\"], [0.2222222222222222, \"#7201a8\"], [0.3333333333333333, \"#9c179e\"], [0.4444444444444444, \"#bd3786\"], [0.5555555555555556, \"#d8576b\"], [0.6666666666666666, \"#ed7953\"], [0.7777777777777778, \"#fb9f3a\"], [0.8888888888888888, \"#fdca26\"], [1.0, \"#f0f921\"]], \"type\": \"heatmapgl\"}], \"histogram\": [{\"marker\": {\"colorbar\": {\"outlinewidth\": 0, \"ticks\": \"\"}}, \"type\": \"histogram\"}], \"histogram2d\": [{\"colorbar\": {\"outlinewidth\": 0, \"ticks\": \"\"}, \"colorscale\": [[0.0, \"#0d0887\"], [0.1111111111111111, \"#46039f\"], [0.2222222222222222, \"#7201a8\"], [0.3333333333333333, \"#9c179e\"], [0.4444444444444444, \"#bd3786\"], [0.5555555555555556, \"#d8576b\"], [0.6666666666666666, \"#ed7953\"], [0.7777777777777778, \"#fb9f3a\"], [0.8888888888888888, \"#fdca26\"], [1.0, \"#f0f921\"]], \"type\": \"histogram2d\"}], \"histogram2dcontour\": [{\"colorbar\": {\"outlinewidth\": 0, \"ticks\": \"\"}, \"colorscale\": [[0.0, \"#0d0887\"], [0.1111111111111111, \"#46039f\"], [0.2222222222222222, \"#7201a8\"], [0.3333333333333333, \"#9c179e\"], [0.4444444444444444, \"#bd3786\"], [0.5555555555555556, \"#d8576b\"], [0.6666666666666666, \"#ed7953\"], [0.7777777777777778, \"#fb9f3a\"], [0.8888888888888888, \"#fdca26\"], [1.0, \"#f0f921\"]], \"type\": \"histogram2dcontour\"}], \"mesh3d\": [{\"colorbar\": {\"outlinewidth\": 0, \"ticks\": \"\"}, \"type\": \"mesh3d\"}], \"parcoords\": [{\"line\": {\"colorbar\": {\"outlinewidth\": 0, \"ticks\": \"\"}}, \"type\": \"parcoords\"}], \"scatter\": [{\"marker\": {\"colorbar\": {\"outlinewidth\": 0, \"ticks\": \"\"}}, \"type\": \"scatter\"}], \"scatter3d\": [{\"line\": {\"colorbar\": {\"outlinewidth\": 0, \"ticks\": \"\"}}, \"marker\": {\"colorbar\": {\"outlinewidth\": 0, \"ticks\": \"\"}}, \"type\": \"scatter3d\"}], \"scattercarpet\": [{\"marker\": {\"colorbar\": {\"outlinewidth\": 0, \"ticks\": \"\"}}, \"type\": \"scattercarpet\"}], \"scattergeo\": [{\"marker\": {\"colorbar\": {\"outlinewidth\": 0, \"ticks\": \"\"}}, \"type\": \"scattergeo\"}], \"scattergl\": [{\"marker\": {\"colorbar\": {\"outlinewidth\": 0, \"ticks\": \"\"}}, \"type\": \"scattergl\"}], \"scattermapbox\": [{\"marker\": {\"colorbar\": {\"outlinewidth\": 0, \"ticks\": \"\"}}, \"type\": \"scattermapbox\"}], \"scatterpolar\": [{\"marker\": {\"colorbar\": {\"outlinewidth\": 0, \"ticks\": \"\"}}, \"type\": \"scatterpolar\"}], \"scatterpolargl\": [{\"marker\": {\"colorbar\": {\"outlinewidth\": 0, \"ticks\": \"\"}}, \"type\": \"scatterpolargl\"}], \"scatterternary\": [{\"marker\": {\"colorbar\": {\"outlinewidth\": 0, \"ticks\": \"\"}}, \"type\": \"scatterternary\"}], \"surface\": [{\"colorbar\": {\"outlinewidth\": 0, \"ticks\": \"\"}, \"colorscale\": [[0.0, \"#0d0887\"], [0.1111111111111111, \"#46039f\"], [0.2222222222222222, \"#7201a8\"], [0.3333333333333333, \"#9c179e\"], [0.4444444444444444, \"#bd3786\"], [0.5555555555555556, \"#d8576b\"], [0.6666666666666666, \"#ed7953\"], [0.7777777777777778, \"#fb9f3a\"], [0.8888888888888888, \"#fdca26\"], [1.0, \"#f0f921\"]], \"type\": \"surface\"}], \"table\": [{\"cells\": {\"fill\": {\"color\": \"#EBF0F8\"}, \"line\": {\"color\": \"white\"}}, \"header\": {\"fill\": {\"color\": \"#C8D4E3\"}, \"line\": {\"color\": \"white\"}}, \"type\": \"table\"}]}, \"layout\": {\"annotationdefaults\": {\"arrowcolor\": \"#2a3f5f\", \"arrowhead\": 0, \"arrowwidth\": 1}, \"colorscale\": {\"diverging\": [[0, \"#8e0152\"], [0.1, \"#c51b7d\"], [0.2, \"#de77ae\"], [0.3, \"#f1b6da\"], [0.4, \"#fde0ef\"], [0.5, \"#f7f7f7\"], [0.6, \"#e6f5d0\"], [0.7, \"#b8e186\"], [0.8, \"#7fbc41\"], [0.9, \"#4d9221\"], [1, \"#276419\"]], \"sequential\": [[0.0, \"#0d0887\"], [0.1111111111111111, \"#46039f\"], [0.2222222222222222, \"#7201a8\"], [0.3333333333333333, \"#9c179e\"], [0.4444444444444444, \"#bd3786\"], [0.5555555555555556, \"#d8576b\"], [0.6666666666666666, \"#ed7953\"], [0.7777777777777778, \"#fb9f3a\"], [0.8888888888888888, \"#fdca26\"], [1.0, \"#f0f921\"]], \"sequentialminus\": [[0.0, \"#0d0887\"], [0.1111111111111111, \"#46039f\"], [0.2222222222222222, \"#7201a8\"], [0.3333333333333333, \"#9c179e\"], [0.4444444444444444, \"#bd3786\"], [0.5555555555555556, \"#d8576b\"], [0.6666666666666666, \"#ed7953\"], [0.7777777777777778, \"#fb9f3a\"], [0.8888888888888888, \"#fdca26\"], [1.0, \"#f0f921\"]]}, \"colorway\": [\"#636efa\", \"#EF553B\", \"#00cc96\", \"#ab63fa\", \"#FFA15A\", \"#19d3f3\", \"#FF6692\", \"#B6E880\", \"#FF97FF\", \"#FECB52\"], \"font\": {\"color\": \"#2a3f5f\"}, \"geo\": {\"bgcolor\": \"white\", \"lakecolor\": \"white\", \"landcolor\": \"#E5ECF6\", \"showlakes\": true, \"showland\": true, \"subunitcolor\": \"white\"}, \"hoverlabel\": {\"align\": \"left\"}, \"hovermode\": \"closest\", \"mapbox\": {\"style\": \"light\"}, \"paper_bgcolor\": \"white\", \"plot_bgcolor\": \"#E5ECF6\", \"polar\": {\"angularaxis\": {\"gridcolor\": \"white\", \"linecolor\": \"white\", \"ticks\": \"\"}, \"bgcolor\": \"#E5ECF6\", \"radialaxis\": {\"gridcolor\": \"white\", \"linecolor\": \"white\", \"ticks\": \"\"}}, \"scene\": {\"xaxis\": {\"backgroundcolor\": \"#E5ECF6\", \"gridcolor\": \"white\", \"gridwidth\": 2, \"linecolor\": \"white\", \"showbackground\": true, \"ticks\": \"\", \"zerolinecolor\": \"white\"}, \"yaxis\": {\"backgroundcolor\": \"#E5ECF6\", \"gridcolor\": \"white\", \"gridwidth\": 2, \"linecolor\": \"white\", \"showbackground\": true, \"ticks\": \"\", \"zerolinecolor\": \"white\"}, \"zaxis\": {\"backgroundcolor\": \"#E5ECF6\", \"gridcolor\": \"white\", \"gridwidth\": 2, \"linecolor\": \"white\", \"showbackground\": true, \"ticks\": \"\", \"zerolinecolor\": \"white\"}}, \"shapedefaults\": {\"line\": {\"color\": \"#2a3f5f\"}}, \"ternary\": {\"aaxis\": {\"gridcolor\": \"white\", \"linecolor\": \"white\", \"ticks\": \"\"}, \"baxis\": {\"gridcolor\": \"white\", \"linecolor\": \"white\", \"ticks\": \"\"}, \"bgcolor\": \"#E5ECF6\", \"caxis\": {\"gridcolor\": \"white\", \"linecolor\": \"white\", \"ticks\": \"\"}}, \"title\": {\"x\": 0.05}, \"xaxis\": {\"automargin\": true, \"gridcolor\": \"white\", \"linecolor\": \"white\", \"ticks\": \"\", \"zerolinecolor\": \"white\", \"zerolinewidth\": 2}, \"yaxis\": {\"automargin\": true, \"gridcolor\": \"white\", \"linecolor\": \"white\", \"ticks\": \"\", \"zerolinecolor\": \"white\", \"zerolinewidth\": 2}}}},\n",
       "                        {\"responsive\": true}\n",
       "                    ).then(function(){\n",
       "                            \n",
       "var gd = document.getElementById('506791ae-24a0-427a-8ecd-07532e377799');\n",
       "var x = new MutationObserver(function (mutations, observer) {{\n",
       "        var display = window.getComputedStyle(gd).display;\n",
       "        if (!display || display === 'none') {{\n",
       "            console.log([gd, 'removed!']);\n",
       "            Plotly.purge(gd);\n",
       "            observer.disconnect();\n",
       "        }}\n",
       "}});\n",
       "\n",
       "// Listen for the removal of the full notebook cells\n",
       "var notebookContainer = gd.closest('#notebook-container');\n",
       "if (notebookContainer) {{\n",
       "    x.observe(notebookContainer, {childList: true});\n",
       "}}\n",
       "\n",
       "// Listen for the clearing of the current output cell\n",
       "var outputEl = gd.closest('.output');\n",
       "if (outputEl) {{\n",
       "    x.observe(outputEl, {childList: true});\n",
       "}}\n",
       "\n",
       "                        })\n",
       "                };\n",
       "                });\n",
       "            </script>\n",
       "        </div>"
      ]
     },
     "metadata": {},
     "output_type": "display_data"
    }
   ],
   "source": [
    "import plotly.graph_objects as go\n",
    "\n",
    "df.sort_values(by='winpercent', ascending=False, inplace=True)\n",
    "\n",
    "fig = go.Figure(data=[go.Table(\n",
    "    header=dict(values=[df.index.name,df.winpercent.name],\n",
    "                fill_color='paleturquoise',\n",
    "                align='left'\n",
    "               ),\n",
    "    cells=dict(values=[df.index,df.winpercent],\n",
    "               fill_color='lavender',\n",
    "               align='left'\n",
    "              ))\n",
    "])\n",
    "\n",
    "fig.show()"
   ]
  },
  {
   "cell_type": "markdown",
   "metadata": {
    "colab_type": "text",
    "id": "H0RkMCRP3fiH"
   },
   "source": [
    "## Bar Plot\n",
    "\n",
    "> great if you're looking at something that belongs to a certain group or not (categorical data)\n",
    "\n",
    "In this dataset, we have a lot of information about qualities each candy has. Does it contain chocolate? Is it fruit flavored? Is there caramel in the candy? These are what are calling categorical variables, because a given candy candy belongs to one specific category. \n",
    "\n",
    "So here, we have a bar plot to see the products containing chocolate. Here, let's call the distinct values code. We already have the result, but I'm going to call it again so we can visualize it."
   ]
  },
  {
   "cell_type": "code",
   "execution_count": 12,
   "metadata": {
    "colab": {
     "base_uri": "https://localhost:8080/",
     "height": 558
    },
    "colab_type": "code",
    "id": "MoFaL9kn4Ro8",
    "outputId": "a9fbe403-927b-48a5-acfc-6566d1a32401"
   },
   "outputs": [
    {
     "data": {
      "text/plain": [
       "<matplotlib.axes._subplots.AxesSubplot at 0x1a11a647f0>"
      ]
     },
     "execution_count": 12,
     "metadata": {},
     "output_type": "execute_result"
    },
    {
     "data": {
      "image/png": "[encoded data removed]",
      "text/plain": [
       "<Figure size 432x288 with 1 Axes>"
      ]
     },
     "metadata": {
      "needs_background": "light"
     },
     "output_type": "display_data"
    },
    {
     "data": {
      "image/png": "[encoded data removed]",
      "text/plain": [
       "<Figure size 432x288 with 1 Axes>"
      ]
     },
     "metadata": {
      "needs_background": "light"
     },
     "output_type": "display_data"
    }
   ],
   "source": [
    "# Bar plot to see chocolate with num_products and avg_winpercent\n",
    "get_distinct_values(\"chocolate\").plot(x=\"chocolate\", y=\"num_products\", kind=\"bar\")\n",
    "get_distinct_values(\"chocolate\").plot(x=\"chocolate\", y=\"avg_winpercent\", kind=\"bar\")"
   ]
  },
  {
   "cell_type": "markdown",
   "metadata": {
    "colab_type": "text",
    "id": "2au_5n0u6oJK"
   },
   "source": [
    "What we can see is, we can look at the count which is the y axis by chocolate. So, in this case chocolate 0, you can see there's a slight difference here in terms of the count, but what we're also more interested in, is there a difference in the winning score of the product, right? Because this is what we're ultimately trying to predict. It looks like there may be some difference, so this is something to definitely note, and it may be something that we want to include in our model. \n",
    "\n",
    "So here, we're going to plot the sugarpercent with respect to avg_winpercent. In this case, we're going to actually be making a line plot and the way that we've specified that is it defaults to line plots. But above, we specified that we want to use a bar plot. There's other types that we can plot as well including a bar H for horizontal bar plot as well. I guess as a quick aside, this is using Pandas for plotting, and pandas is a very concise way to plot data, so it's definitely worth getting the handle on. So, let's look at the results of sugarpercent. So again, this is the count. So, you can see start at the most common sugarpercent between .2 and .8 %, which makes intuitive sense as well, but let's see if there's actually a correlation between sugarpercent and winpercent. \n",
    "\n",
    "Well, it looks like there is a pretty strong relationship. Now, is this a linear relationship? No, it's not. It's actually a non-linear relationship. So, an increase in sugarpercent may or may not cause an increase in winpercent depending on other columns of interest. "
   ]
  },
  {
   "cell_type": "code",
   "execution_count": 13,
   "metadata": {
    "colab": {
     "base_uri": "https://localhost:8080/",
     "height": 566
    },
    "colab_type": "code",
    "id": "9MRcpYQz8L6q",
    "outputId": "24ac8318-07aa-4aeb-e010-408f421a67a9"
   },
   "outputs": [
    {
     "data": {
      "text/plain": [
       "<matplotlib.axes._subplots.AxesSubplot at 0x1a11a87358>"
      ]
     },
     "execution_count": 13,
     "metadata": {},
     "output_type": "execute_result"
    },
    {
     "data": {
      "image/png": "[encoded data removed]",
      "text/plain": [
       "<Figure size 432x288 with 1 Axes>"
      ]
     },
     "metadata": {
      "needs_background": "light"
     },
     "output_type": "display_data"
    },
    {
     "data": {
      "image/png": "[encoded data removed]",
      "text/plain": [
       "<Figure size 432x288 with 1 Axes>"
      ]
     },
     "metadata": {
      "needs_background": "light"
     },
     "output_type": "display_data"
    }
   ],
   "source": [
    "# Line plots to see sugarpercent with avg_winpercent\n",
    "get_distinct_values(\"sugarpercent\").sort_values(\"sugarpercent\").plot(x=\"sugarpercent\", y=\"num_products\")\n",
    "get_distinct_values(\"sugarpercent\").sort_values(\"sugarpercent\").plot(x=\"sugarpercent\", y=\"avg_winpercent\")"
   ]
  },
  {
   "cell_type": "code",
   "execution_count": 14,
   "metadata": {
    "colab": {
     "base_uri": "https://localhost:8080/",
     "height": 566
    },
    "colab_type": "code",
    "id": "mRhXnLO6AlcG",
    "outputId": "9bf6e7f8-6597-4147-9d1b-84fa1da610a4"
   },
   "outputs": [
    {
     "data": {
      "text/plain": [
       "<matplotlib.axes._subplots.AxesSubplot at 0x1a1379d7f0>"
      ]
     },
     "execution_count": 14,
     "metadata": {},
     "output_type": "execute_result"
    },
    {
     "data": {
      "image/png": "[encoded data removed]",
      "text/plain": [
       "<Figure size 432x288 with 1 Axes>"
      ]
     },
     "metadata": {
      "needs_background": "light"
     },
     "output_type": "display_data"
    },
    {
     "data": {
      "image/png": "[encoded data removed]",
      "text/plain": [
       "<Figure size 432x288 with 1 Axes>"
      ]
     },
     "metadata": {
      "needs_background": "light"
     },
     "output_type": "display_data"
    }
   ],
   "source": [
    "# Line plots to see pricepercent with avg_winpercent\n",
    "get_distinct_values(\"pricepercent\").sort_values(\"pricepercent\").plot(x=\"pricepercent\", y=\"num_products\")\n",
    "get_distinct_values(\"pricepercent\").sort_values(\"pricepercent\").plot(x=\"pricepercent\", y=\"avg_winpercent\")"
   ]
  },
  {
   "cell_type": "code",
   "execution_count": 15,
   "metadata": {
    "colab": {
     "base_uri": "https://localhost:8080/",
     "height": 558
    },
    "colab_type": "code",
    "id": "cJX9SL4HB3ED",
    "outputId": "39711f32-0123-4c13-f6d0-9806d2569968"
   },
   "outputs": [
    {
     "data": {
      "text/plain": [
       "<matplotlib.axes._subplots.AxesSubplot at 0x1a11fdd940>"
      ]
     },
     "execution_count": 15,
     "metadata": {},
     "output_type": "execute_result"
    },
    {
     "data": {
      "image/png": "[encoded data removed]",
      "text/plain": [
       "<Figure size 432x288 with 1 Axes>"
      ]
     },
     "metadata": {
      "needs_background": "light"
     },
     "output_type": "display_data"
    },
    {
     "data": {
      "image/png": "[encoded data removed]",
      "text/plain": [
       "<Figure size 432x288 with 1 Axes>"
      ]
     },
     "metadata": {
      "needs_background": "light"
     },
     "output_type": "display_data"
    }
   ],
   "source": [
    "# Bar plot to see fruity with num_products and avg_winpercent\n",
    "get_distinct_values(\"fruity\").plot(x=\"fruity\", y=\"num_products\", kind=\"bar\")\n",
    "get_distinct_values(\"fruity\").plot(x=\"fruity\", y=\"avg_winpercent\", kind=\"bar\")"
   ]
  },
  {
   "cell_type": "code",
   "execution_count": 16,
   "metadata": {
    "colab": {
     "base_uri": "https://localhost:8080/",
     "height": 558
    },
    "colab_type": "code",
    "id": "pdijPaSQCHzn",
    "outputId": "92934cb6-eb1f-4744-9f66-397a7cb12cde"
   },
   "outputs": [
    {
     "data": {
      "text/plain": [
       "<matplotlib.axes._subplots.AxesSubplot at 0x1a137d4320>"
      ]
     },
     "execution_count": 16,
     "metadata": {},
     "output_type": "execute_result"
    },
    {
     "data": {
      "image/png": "[encoded data removed]",
      "text/plain": [
       "<Figure size 432x288 with 1 Axes>"
      ]
     },
     "metadata": {
      "needs_background": "light"
     },
     "output_type": "display_data"
    },
    {
     "data": {
      "image/png": "[encoded data removed]",
      "text/plain": [
       "<Figure size 432x288 with 1 Axes>"
      ]
     },
     "metadata": {
      "needs_background": "light"
     },
     "output_type": "display_data"
    }
   ],
   "source": [
    "# Bar plot to see caramel with num_products and avg_winpercent\n",
    "get_distinct_values(\"caramel\").plot(x=\"caramel\", y=\"num_products\", kind=\"bar\")\n",
    "get_distinct_values(\"caramel\").plot(x=\"caramel\", y=\"avg_winpercent\", kind=\"bar\")"
   ]
  },
  {
   "cell_type": "code",
   "execution_count": 17,
   "metadata": {
    "colab": {
     "base_uri": "https://localhost:8080/",
     "height": 558
    },
    "colab_type": "code",
    "id": "lrN0YyXaCaPS",
    "outputId": "1fd111e6-e0ba-4d7c-d1d9-3f945dae9cad"
   },
   "outputs": [
    {
     "data": {
      "text/plain": [
       "<matplotlib.axes._subplots.AxesSubplot at 0x1a23772518>"
      ]
     },
     "execution_count": 17,
     "metadata": {},
     "output_type": "execute_result"
    },
    {
     "data": {
      "image/png": "[encoded data removed]",
      "text/plain": [
       "<Figure size 432x288 with 1 Axes>"
      ]
     },
     "metadata": {
      "needs_background": "light"
     },
     "output_type": "display_data"
    },
    {
     "data": {
      "image/png": "[encoded data removed]",
      "text/plain": [
       "<Figure size 432x288 with 1 Axes>"
      ]
     },
     "metadata": {
      "needs_background": "light"
     },
     "output_type": "display_data"
    }
   ],
   "source": [
    "# Bar plot to see peanutyalmondy with num_products and avg_winpercent\n",
    "get_distinct_values(\"peanutyalmondy\").plot(x=\"peanutyalmondy\", y=\"num_products\", kind=\"bar\")\n",
    "get_distinct_values(\"peanutyalmondy\").plot(x=\"peanutyalmondy\", y=\"avg_winpercent\", kind=\"bar\")"
   ]
  },
  {
   "cell_type": "code",
   "execution_count": 18,
   "metadata": {
    "colab": {
     "base_uri": "https://localhost:8080/",
     "height": 558
    },
    "colab_type": "code",
    "id": "XJurkgT5CmkN",
    "outputId": "f46ca474-d927-49a9-9b7e-cc76a6b0d5f7"
   },
   "outputs": [
    {
     "data": {
      "text/plain": [
       "<matplotlib.axes._subplots.AxesSubplot at 0x1a22268438>"
      ]
     },
     "execution_count": 18,
     "metadata": {},
     "output_type": "execute_result"
    },
    {
     "data": {
      "image/png": "[encoded data removed]",
      "text/plain": [
       "<Figure size 432x288 with 1 Axes>"
      ]
     },
     "metadata": {
      "needs_background": "light"
     },
     "output_type": "display_data"
    },
    {
     "data": {
      "image/png": "[encoded data removed]",
      "text/plain": [
       "<Figure size 432x288 with 1 Axes>"
      ]
     },
     "metadata": {
      "needs_background": "light"
     },
     "output_type": "display_data"
    }
   ],
   "source": [
    "# Bar plot to see nougat with num_products and avg_winpercent\n",
    "get_distinct_values(\"nougat\").plot(x=\"nougat\", y=\"num_products\", kind=\"bar\")\n",
    "get_distinct_values(\"nougat\").plot(x=\"nougat\", y=\"avg_winpercent\", kind=\"bar\")"
   ]
  },
  {
   "cell_type": "code",
   "execution_count": 19,
   "metadata": {
    "colab": {
     "base_uri": "https://localhost:8080/",
     "height": 558
    },
    "colab_type": "code",
    "id": "xWzkeAylC5yX",
    "outputId": "62ed3baf-3fbe-4bf7-c53d-79501c2cd04f"
   },
   "outputs": [
    {
     "data": {
      "text/plain": [
       "<matplotlib.axes._subplots.AxesSubplot at 0x1a237686d8>"
      ]
     },
     "execution_count": 19,
     "metadata": {},
     "output_type": "execute_result"
    },
    {
     "data": {
      "image/png": "[encoded data removed]",
      "text/plain": [
       "<Figure size 432x288 with 1 Axes>"
      ]
     },
     "metadata": {
      "needs_background": "light"
     },
     "output_type": "display_data"
    },
    {
     "data": {
      "image/png": "[encoded data removed]",
      "text/plain": [
       "<Figure size 432x288 with 1 Axes>"
      ]
     },
     "metadata": {
      "needs_background": "light"
     },
     "output_type": "display_data"
    }
   ],
   "source": [
    "# Bar plot to see crispedricewafer with num_products and avg_winpercent\n",
    "get_distinct_values(\"crispedricewafer\").plot(x=\"crispedricewafer\", y=\"num_products\", kind=\"bar\")\n",
    "get_distinct_values(\"crispedricewafer\").plot(x=\"crispedricewafer\", y=\"avg_winpercent\", kind=\"bar\")"
   ]
  },
  {
   "cell_type": "code",
   "execution_count": 20,
   "metadata": {
    "colab": {
     "base_uri": "https://localhost:8080/",
     "height": 558
    },
    "colab_type": "code",
    "id": "KD5ATjE6DGLB",
    "outputId": "1a94cb23-be76-42ca-b9d8-fe272bdbe0ed"
   },
   "outputs": [
    {
     "data": {
      "text/plain": [
       "<matplotlib.axes._subplots.AxesSubplot at 0x1a11cb87b8>"
      ]
     },
     "execution_count": 20,
     "metadata": {},
     "output_type": "execute_result"
    },
    {
     "data": {
      "image/png": "[encoded data removed]",
      "text/plain": [
       "<Figure size 432x288 with 1 Axes>"
      ]
     },
     "metadata": {
      "needs_background": "light"
     },
     "output_type": "display_data"
    },
    {
     "data": {
      "image/png": "[encoded data removed]",
      "text/plain": [
       "<Figure size 432x288 with 1 Axes>"
      ]
     },
     "metadata": {
      "needs_background": "light"
     },
     "output_type": "display_data"
    }
   ],
   "source": [
    "# Bar plot to see hard with num_products and avg_winpercent\n",
    "get_distinct_values(\"hard\").plot(x=\"hard\", y=\"num_products\", kind=\"bar\")\n",
    "get_distinct_values(\"hard\").plot(x=\"hard\", y=\"avg_winpercent\", kind=\"bar\")"
   ]
  },
  {
   "cell_type": "code",
   "execution_count": 21,
   "metadata": {
    "colab": {
     "base_uri": "https://localhost:8080/",
     "height": 558
    },
    "colab_type": "code",
    "id": "6_S0BrQLDQef",
    "outputId": "1dae19ac-33f5-4eb4-ad9a-8f292f221f95"
   },
   "outputs": [
    {
     "data": {
      "text/plain": [
       "<matplotlib.axes._subplots.AxesSubplot at 0x1a1c577160>"
      ]
     },
     "execution_count": 21,
     "metadata": {},
     "output_type": "execute_result"
    },
    {
     "data": {
      "image/png": "[encoded data removed]",
      "text/plain": [
       "<Figure size 432x288 with 1 Axes>"
      ]
     },
     "metadata": {
      "needs_background": "light"
     },
     "output_type": "display_data"
    },
    {
     "data": {
      "image/png": "[encoded data removed]",
      "text/plain": [
       "<Figure size 432x288 with 1 Axes>"
      ]
     },
     "metadata": {
      "needs_background": "light"
     },
     "output_type": "display_data"
    }
   ],
   "source": [
    "# Bar plot to see bar with num_products and avg_winpercent\n",
    "get_distinct_values(\"bar\").plot(x=\"bar\", y=\"num_products\", kind=\"bar\")\n",
    "get_distinct_values(\"bar\").plot(x=\"bar\", y=\"avg_winpercent\", kind=\"bar\")"
   ]
  },
  {
   "cell_type": "code",
   "execution_count": 22,
   "metadata": {
    "colab": {
     "base_uri": "https://localhost:8080/",
     "height": 558
    },
    "colab_type": "code",
    "id": "c4nUV6IpDWcn",
    "outputId": "57ed7259-2633-4d5b-9922-cbfaa24ebe5c"
   },
   "outputs": [
    {
     "data": {
      "text/plain": [
       "<matplotlib.axes._subplots.AxesSubplot at 0x1a11cf9b38>"
      ]
     },
     "execution_count": 22,
     "metadata": {},
     "output_type": "execute_result"
    },
    {
     "data": {
      "image/png": "[encoded data removed]",
      "text/plain": [
       "<Figure size 432x288 with 1 Axes>"
      ]
     },
     "metadata": {
      "needs_background": "light"
     },
     "output_type": "display_data"
    },
    {
     "data": {
      "image/png": "[encoded data removed]",
      "text/plain": [
       "<Figure size 432x288 with 1 Axes>"
      ]
     },
     "metadata": {
      "needs_background": "light"
     },
     "output_type": "display_data"
    }
   ],
   "source": [
    "# Bar plot to see pluribus with num_products and avg_winpercent\n",
    "get_distinct_values(\"pluribus\").plot(x=\"pluribus\", y=\"num_products\", kind=\"bar\")\n",
    "get_distinct_values(\"pluribus\").plot(x=\"pluribus\", y=\"avg_winpercent\", kind=\"bar\")"
   ]
  },
  {
   "cell_type": "markdown",
   "metadata": {
    "colab_type": "text",
    "id": "1mBTuL3MEHyP"
   },
   "source": [
    "Great. All these factors seem to play a part in winpercent. This is encouraging, this is telling us that there's actually some signal in the data, and that now, we're actually ready to move on and start creating our model for the winpercent. \n",
    "\n",
    "Next, we will begin our process of creating our dataset for analysis. Key steps here will include data cleansing, feature engineering and creating repeatable samples that we can use for training and evaluating our model."
   ]
  },
  {
   "cell_type": "markdown",
   "metadata": {
    "colab_type": "text",
    "id": "B7HxTNyIVtIY"
   },
   "source": [
    "##Scatter Plot\n",
    "\n",
    "> great if you're looking at numeric variables\n",
    "\n",
    "The dataset has information on different candies, including how expensive they are and how much sugar they have in them. One question we can ask using this dataset is whether there is a a relationship between a candy's price and the amount of sugar in it. To see if this is the case, we can use a scatter plot.\n",
    "\n"
   ]
  },
  {
   "cell_type": "code",
   "execution_count": 23,
   "metadata": {
    "colab": {
     "base_uri": "https://localhost:8080/",
     "height": 728
    },
    "colab_type": "code",
    "id": "Mc7s9cJsgqoG",
    "outputId": "17e5b639-0c23-4e6d-a095-8983886ad0b3"
   },
   "outputs": [
    {
     "data": {
      "text/plain": [
       "(0, 1)"
      ]
     },
     "execution_count": 23,
     "metadata": {},
     "output_type": "execute_result"
    },
    {
     "data": {
      "image/png": "[encoded data removed]",
      "text/plain": [
       "<Figure size 864x576 with 3 Axes>"
      ]
     },
     "metadata": {
      "needs_background": "light"
     },
     "output_type": "display_data"
    }
   ],
   "source": [
    "import seaborn as sns\n",
    "df = pd.read_csv(url)\n",
    "g = sns.jointplot(x=\"sugarpercent\", y=\"pricepercent\", data=df, kind=\"reg\",\n",
    "                  marginal_kws=dict(kde=False,hist=False, rug=True))\n",
    "g.fig.set_figwidth(12)\n",
    "g.fig.set_figheight(8)\n",
    "g.fig.suptitle('More sugary candies are more expensive')\n",
    "g.set_axis_labels('Sugar content (percentile)', 'Price (percentile)')\n",
    "g.ax_marg_x.set_xlim(0, 1)\n",
    "g.ax_marg_y.set_ylim(0, 1)"
   ]
  },
  {
   "cell_type": "markdown",
   "metadata": {
    "colab_type": "text",
    "id": "gV9cCKHuuII-"
   },
   "source": [
    "The x-axes representing sugar content and the y-axis representing the price. Each individual candy is showing using a single point. The position of the point is determined by the value of the `sugarpercent` and `pricepercent` column for that candy.\n",
    "\n",
    "One thing that is often useful when you're looking at data on a scatter plot is a visual representation of how closely the variable on the x axis and the variable on the y axis are related to each other. We can summarize this using a fitted line.\n",
    "\n",
    "The blue line on the plot represents the linear function we've fitted and shows that there is a relationship between how much sugar is in a candy and how expensive it is: in general, **candy with more sugar is more expensive**. We have been using [ordinary least squares (OLS)](https://en.wikipedia.org/wiki/Ordinary_least_squares) to fit the line.\n",
    "\n",
    "The shade behind the line is the confidence interval for this function. It outlines the area that should contain the line which represents the true function 95% of the time.\n",
    "\n",
    "A subplot containing a [rug plot](https://en.wikipedia.org/wiki/Rug_plot) is drawn alongside the scatter plot, visualizing the distribution of x and y axes. "
   ]
  },
  {
   "cell_type": "markdown",
   "metadata": {
    "colab_type": "text",
    "heading_collapsed": true,
    "id": "lxDhBMrOuKzG"
   },
   "source": [
    "### plotly version"
   ]
  },
  {
   "cell_type": "code",
   "execution_count": 24,
   "metadata": {
    "colab": {
     "base_uri": "https://localhost:8080/",
     "height": 885
    },
    "colab_type": "code",
    "hidden": true,
    "id": "pYaFji43zjkM",
    "outputId": "fe1a2d89-5f88-47b1-9fa1-a888973870ef"
   },
   "outputs": [
    {
     "name": "stderr",
     "output_type": "stream",
     "text": [
      "/anaconda3/lib/python3.6/site-packages/numpy/core/fromnumeric.py:52: FutureWarning:\n",
      "\n",
      "Method .ptp is deprecated and will be removed in a future version. Use numpy.ptp instead.\n",
      "\n"
     ]
    },
    {
     "data": {
      "application/vnd.plotly.v1+json": {
       "config": {
        "plotlyServerURL": "https://plot.ly"
       },
       "data": [
        {
         "hoverlabel": {
          "namelength": 0
         },
         "hovertemplate": "<b>%{hovertext}</b><br><br>Sugar content (percentile)=%{x}<br>Price (percentile)=%{y}",
         "hovertext": [
          "100 Grand",
          "3 Musketeers",
          "One dime",
          "One quarter",
          "Air Heads",
          "Almond Joy",
          "Baby Ruth",
          "Boston Baked Beans",
          "Candy Corn",
          "Caramel Apple Pops",
          "Charleston Chew",
          "Chewey Lemonhead Fruit Mix",
          "Chiclets",
          "Dots",
          "Dum Dums",
          "Fruit Chews",
          "Fun Dip",
          "Gobstopper",
          "Haribo Gold Bears",
          "Haribo Happy Cola",
          "Haribo Sour Bears",
          "Haribo Twin Snakes",
          "HersheyÕs Kisses",
          "HersheyÕs Krackel",
          "HersheyÕs Milk Chocolate",
          "HersheyÕs Special Dark",
          "Jawbusters",
          "Junior Mints",
          "Kit Kat",
          "Laffy Taffy",
          "Lemonhead",
          "Lifesavers big ring gummies",
          "Peanut butter M&MÕs",
          "M&MÕs",
          "Mike & Ike",
          "Milk Duds",
          "Milky Way",
          "Milky Way Midnight",
          "Milky Way Simply Caramel",
          "Mounds",
          "Mr Good Bar",
          "Nerds",
          "Nestle Butterfinger",
          "Nestle Crunch",
          "Nik L Nip",
          "Now & Later",
          "Payday",
          "Peanut M&Ms",
          "Pixie Sticks",
          "Pop Rocks",
          "Red vines",
          "ReeseÕs Miniatures",
          "ReeseÕs Peanut Butter cup",
          "ReeseÕs pieces",
          "ReeseÕs stuffed with pieces",
          "Ring pop",
          "Rolo",
          "Root Beer Barrels",
          "Runts",
          "Sixlets",
          "Skittles original",
          "Skittles wildberry",
          "Nestle Smarties",
          "Smarties candy",
          "Snickers",
          "Snickers Crisper",
          "Sour Patch Kids",
          "Sour Patch Tricksters",
          "Starburst",
          "Strawberry bon bons",
          "Sugar Babies",
          "Sugar Daddy",
          "Super Bubble",
          "Swedish Fish",
          "Tootsie Pop",
          "Tootsie Roll Juniors",
          "Tootsie Roll Midgies",
          "Tootsie Roll Snack Bars",
          "Trolli Sour Bites",
          "Twix",
          "Twizzlers",
          "Warheads",
          "WelchÕs Fruit Snacks",
          "WertherÕs Original Caramel",
          "Whoppers"
         ],
         "legendgroup": "",
         "marker": {
          "color": "#636efa",
          "symbol": "circle"
         },
         "mode": "markers",
         "name": "",
         "showlegend": false,
         "type": "scatter",
         "x": [
          0.73199999,
          0.60399997,
          0.011000000000000001,
          0.011000000000000001,
          0.90600002,
          0.465,
          0.60399997,
          0.31299999,
          0.90600002,
          0.60399997,
          0.60399997,
          0.73199999,
          0.046,
          0.73199999,
          0.73199999,
          0.127,
          0.73199999,
          0.90600002,
          0.465,
          0.465,
          0.465,
          0.465,
          0.127,
          0.43000001,
          0.43000001,
          0.43000001,
          0.093000002,
          0.19699999999999998,
          0.31299999,
          0.22,
          0.046,
          0.26699999,
          0.82499999,
          0.82499999,
          0.87199998,
          0.30199999,
          0.60399997,
          0.73199999,
          0.96499997,
          0.31299999,
          0.31299999,
          0.84799999,
          0.60399997,
          0.31299999,
          0.19699999999999998,
          0.22,
          0.465,
          0.59299999,
          0.093000002,
          0.60399997,
          0.58099997,
          0.034000002,
          0.72000003,
          0.40599999,
          0.98799998,
          0.73199999,
          0.86000001,
          0.73199999,
          0.87199998,
          0.22,
          0.94099998,
          0.94099998,
          0.26699999,
          0.26699999,
          0.546,
          0.60399997,
          0.06899999799999999,
          0.06899999799999999,
          0.15099999,
          0.56900001,
          0.96499997,
          0.41800001,
          0.162,
          0.60399997,
          0.60399997,
          0.31299999,
          0.17399999,
          0.465,
          0.31299999,
          0.546,
          0.22,
          0.093000002,
          0.31299999,
          0.18600000000000003,
          0.87199998
         ],
         "xaxis": "x",
         "y": [
          0.86000001,
          0.51099998,
          0.11599999999999999,
          0.51099998,
          0.51099998,
          0.76700002,
          0.76700002,
          0.51099998,
          0.32499999,
          0.32499999,
          0.51099998,
          0.51099998,
          0.32499999,
          0.51099998,
          0.034000002,
          0.034000002,
          0.32499999,
          0.45300001,
          0.465,
          0.465,
          0.465,
          0.465,
          0.093000002,
          0.91799998,
          0.91799998,
          0.91799998,
          0.51099998,
          0.51099998,
          0.51099998,
          0.11599999999999999,
          0.10400000000000001,
          0.27900001,
          0.65100002,
          0.65100002,
          0.32499999,
          0.51099998,
          0.65100002,
          0.44100001,
          0.86000001,
          0.86000001,
          0.91799998,
          0.32499999,
          0.76700002,
          0.76700002,
          0.97600001,
          0.32499999,
          0.76700002,
          0.65100002,
          0.023,
          0.83700001,
          0.11599999999999999,
          0.27900001,
          0.65100002,
          0.65100002,
          0.65100002,
          0.96499997,
          0.86000001,
          0.06899999799999999,
          0.27900001,
          0.081,
          0.22,
          0.22,
          0.97600001,
          0.11599999999999999,
          0.65100002,
          0.65100002,
          0.11599999999999999,
          0.11599999999999999,
          0.22,
          0.057999998,
          0.76700002,
          0.32499999,
          0.11599999999999999,
          0.755,
          0.32499999,
          0.51099998,
          0.011000000000000001,
          0.32499999,
          0.255,
          0.90600002,
          0.11599999999999999,
          0.11599999999999999,
          0.31299999,
          0.26699999,
          0.84799999
         ],
         "yaxis": "y"
        },
        {
         "alignmentgroup": "True",
         "boxpoints": "all",
         "fillcolor": "rgba(255,255,255,0)",
         "hoverlabel": {
          "namelength": 0
         },
         "hoveron": "points",
         "hovertemplate": "<b>%{hovertext}</b><br><br>Sugar content (percentile)=%{x}",
         "hovertext": [
          "100 Grand",
          "3 Musketeers",
          "One dime",
          "One quarter",
          "Air Heads",
          "Almond Joy",
          "Baby Ruth",
          "Boston Baked Beans",
          "Candy Corn",
          "Caramel Apple Pops",
          "Charleston Chew",
          "Chewey Lemonhead Fruit Mix",
          "Chiclets",
          "Dots",
          "Dum Dums",
          "Fruit Chews",
          "Fun Dip",
          "Gobstopper",
          "Haribo Gold Bears",
          "Haribo Happy Cola",
          "Haribo Sour Bears",
          "Haribo Twin Snakes",
          "HersheyÕs Kisses",
          "HersheyÕs Krackel",
          "HersheyÕs Milk Chocolate",
          "HersheyÕs Special Dark",
          "Jawbusters",
          "Junior Mints",
          "Kit Kat",
          "Laffy Taffy",
          "Lemonhead",
          "Lifesavers big ring gummies",
          "Peanut butter M&MÕs",
          "M&MÕs",
          "Mike & Ike",
          "Milk Duds",
          "Milky Way",
          "Milky Way Midnight",
          "Milky Way Simply Caramel",
          "Mounds",
          "Mr Good Bar",
          "Nerds",
          "Nestle Butterfinger",
          "Nestle Crunch",
          "Nik L Nip",
          "Now & Later",
          "Payday",
          "Peanut M&Ms",
          "Pixie Sticks",
          "Pop Rocks",
          "Red vines",
          "ReeseÕs Miniatures",
          "ReeseÕs Peanut Butter cup",
          "ReeseÕs pieces",
          "ReeseÕs stuffed with pieces",
          "Ring pop",
          "Rolo",
          "Root Beer Barrels",
          "Runts",
          "Sixlets",
          "Skittles original",
          "Skittles wildberry",
          "Nestle Smarties",
          "Smarties candy",
          "Snickers",
          "Snickers Crisper",
          "Sour Patch Kids",
          "Sour Patch Tricksters",
          "Starburst",
          "Strawberry bon bons",
          "Sugar Babies",
          "Sugar Daddy",
          "Super Bubble",
          "Swedish Fish",
          "Tootsie Pop",
          "Tootsie Roll Juniors",
          "Tootsie Roll Midgies",
          "Tootsie Roll Snack Bars",
          "Trolli Sour Bites",
          "Twix",
          "Twizzlers",
          "Warheads",
          "WelchÕs Fruit Snacks",
          "WertherÕs Original Caramel",
          "Whoppers"
         ],
         "jitter": 0,
         "legendgroup": "",
         "line": {
          "color": "rgba(255,255,255,0)"
         },
         "marker": {
          "color": "#636efa",
          "symbol": "line-ns-open"
         },
         "name": "",
         "offsetgroup": "",
         "showlegend": false,
         "type": "box",
         "x": [
          0.73199999,
          0.60399997,
          0.011000000000000001,
          0.011000000000000001,
          0.90600002,
          0.465,
          0.60399997,
          0.31299999,
          0.90600002,
          0.60399997,
          0.60399997,
          0.73199999,
          0.046,
          0.73199999,
          0.73199999,
          0.127,
          0.73199999,
          0.90600002,
          0.465,
          0.465,
          0.465,
          0.465,
          0.127,
          0.43000001,
          0.43000001,
          0.43000001,
          0.093000002,
          0.19699999999999998,
          0.31299999,
          0.22,
          0.046,
          0.26699999,
          0.82499999,
          0.82499999,
          0.87199998,
          0.30199999,
          0.60399997,
          0.73199999,
          0.96499997,
          0.31299999,
          0.31299999,
          0.84799999,
          0.60399997,
          0.31299999,
          0.19699999999999998,
          0.22,
          0.465,
          0.59299999,
          0.093000002,
          0.60399997,
          0.58099997,
          0.034000002,
          0.72000003,
          0.40599999,
          0.98799998,
          0.73199999,
          0.86000001,
          0.73199999,
          0.87199998,
          0.22,
          0.94099998,
          0.94099998,
          0.26699999,
          0.26699999,
          0.546,
          0.60399997,
          0.06899999799999999,
          0.06899999799999999,
          0.15099999,
          0.56900001,
          0.96499997,
          0.41800001,
          0.162,
          0.60399997,
          0.60399997,
          0.31299999,
          0.17399999,
          0.465,
          0.31299999,
          0.546,
          0.22,
          0.093000002,
          0.31299999,
          0.18600000000000003,
          0.87199998
         ],
         "xaxis": "x3",
         "yaxis": "y3"
        },
        {
         "alignmentgroup": "True",
         "boxpoints": "all",
         "fillcolor": "rgba(255,255,255,0)",
         "hoverlabel": {
          "namelength": 0
         },
         "hoveron": "points",
         "hovertemplate": "<b>%{hovertext}</b><br><br>Price (percentile)=%{y}",
         "hovertext": [
          "100 Grand",
          "3 Musketeers",
          "One dime",
          "One quarter",
          "Air Heads",
          "Almond Joy",
          "Baby Ruth",
          "Boston Baked Beans",
          "Candy Corn",
          "Caramel Apple Pops",
          "Charleston Chew",
          "Chewey Lemonhead Fruit Mix",
          "Chiclets",
          "Dots",
          "Dum Dums",
          "Fruit Chews",
          "Fun Dip",
          "Gobstopper",
          "Haribo Gold Bears",
          "Haribo Happy Cola",
          "Haribo Sour Bears",
          "Haribo Twin Snakes",
          "HersheyÕs Kisses",
          "HersheyÕs Krackel",
          "HersheyÕs Milk Chocolate",
          "HersheyÕs Special Dark",
          "Jawbusters",
          "Junior Mints",
          "Kit Kat",
          "Laffy Taffy",
          "Lemonhead",
          "Lifesavers big ring gummies",
          "Peanut butter M&MÕs",
          "M&MÕs",
          "Mike & Ike",
          "Milk Duds",
          "Milky Way",
          "Milky Way Midnight",
          "Milky Way Simply Caramel",
          "Mounds",
          "Mr Good Bar",
          "Nerds",
          "Nestle Butterfinger",
          "Nestle Crunch",
          "Nik L Nip",
          "Now & Later",
          "Payday",
          "Peanut M&Ms",
          "Pixie Sticks",
          "Pop Rocks",
          "Red vines",
          "ReeseÕs Miniatures",
          "ReeseÕs Peanut Butter cup",
          "ReeseÕs pieces",
          "ReeseÕs stuffed with pieces",
          "Ring pop",
          "Rolo",
          "Root Beer Barrels",
          "Runts",
          "Sixlets",
          "Skittles original",
          "Skittles wildberry",
          "Nestle Smarties",
          "Smarties candy",
          "Snickers",
          "Snickers Crisper",
          "Sour Patch Kids",
          "Sour Patch Tricksters",
          "Starburst",
          "Strawberry bon bons",
          "Sugar Babies",
          "Sugar Daddy",
          "Super Bubble",
          "Swedish Fish",
          "Tootsie Pop",
          "Tootsie Roll Juniors",
          "Tootsie Roll Midgies",
          "Tootsie Roll Snack Bars",
          "Trolli Sour Bites",
          "Twix",
          "Twizzlers",
          "Warheads",
          "WelchÕs Fruit Snacks",
          "WertherÕs Original Caramel",
          "Whoppers"
         ],
         "jitter": 0,
         "legendgroup": "",
         "line": {
          "color": "rgba(255,255,255,0)"
         },
         "marker": {
          "color": "#636efa",
          "symbol": "line-ew-open"
         },
         "name": "",
         "offsetgroup": "",
         "showlegend": false,
         "type": "box",
         "xaxis": "x2",
         "y": [
          0.86000001,
          0.51099998,
          0.11599999999999999,
          0.51099998,
          0.51099998,
          0.76700002,
          0.76700002,
          0.51099998,
          0.32499999,
          0.32499999,
          0.51099998,
          0.51099998,
          0.32499999,
          0.51099998,
          0.034000002,
          0.034000002,
          0.32499999,
          0.45300001,
          0.465,
          0.465,
          0.465,
          0.465,
          0.093000002,
          0.91799998,
          0.91799998,
          0.91799998,
          0.51099998,
          0.51099998,
          0.51099998,
          0.11599999999999999,
          0.10400000000000001,
          0.27900001,
          0.65100002,
          0.65100002,
          0.32499999,
          0.51099998,
          0.65100002,
          0.44100001,
          0.86000001,
          0.86000001,
          0.91799998,
          0.32499999,
          0.76700002,
          0.76700002,
          0.97600001,
          0.32499999,
          0.76700002,
          0.65100002,
          0.023,
          0.83700001,
          0.11599999999999999,
          0.27900001,
          0.65100002,
          0.65100002,
          0.65100002,
          0.96499997,
          0.86000001,
          0.06899999799999999,
          0.27900001,
          0.081,
          0.22,
          0.22,
          0.97600001,
          0.11599999999999999,
          0.65100002,
          0.65100002,
          0.11599999999999999,
          0.11599999999999999,
          0.22,
          0.057999998,
          0.76700002,
          0.32499999,
          0.11599999999999999,
          0.755,
          0.32499999,
          0.51099998,
          0.011000000000000001,
          0.32499999,
          0.255,
          0.90600002,
          0.11599999999999999,
          0.11599999999999999,
          0.31299999,
          0.26699999,
          0.84799999
         ],
         "yaxis": "y2"
        },
        {
         "hoverlabel": {
          "namelength": 0
         },
         "hovertemplate": "<b>OLS trendline</b><br>pricepercent = 0.333160 * sugarpercent + 0.309416<br>R<sup>2</sup>=0.108706<br><br>Sugar content (percentile)=%{x}<br>Price (percentile)=%{y} <b>(trend)</b>",
         "legendgroup": "",
         "marker": {
          "color": "#636efa",
          "symbol": "circle"
         },
         "mode": "lines",
         "name": "",
         "showlegend": false,
         "type": "scatter",
         "x": [
          0.011000000000000001,
          0.011000000000000001,
          0.034000002,
          0.046,
          0.046,
          0.06899999799999999,
          0.06899999799999999,
          0.093000002,
          0.093000002,
          0.093000002,
          0.127,
          0.127,
          0.15099999,
          0.162,
          0.17399999,
          0.18600000000000003,
          0.19699999999999998,
          0.19699999999999998,
          0.22,
          0.22,
          0.22,
          0.22,
          0.26699999,
          0.26699999,
          0.26699999,
          0.30199999,
          0.31299999,
          0.31299999,
          0.31299999,
          0.31299999,
          0.31299999,
          0.31299999,
          0.31299999,
          0.31299999,
          0.40599999,
          0.41800001,
          0.43000001,
          0.43000001,
          0.43000001,
          0.465,
          0.465,
          0.465,
          0.465,
          0.465,
          0.465,
          0.465,
          0.546,
          0.546,
          0.56900001,
          0.58099997,
          0.59299999,
          0.60399997,
          0.60399997,
          0.60399997,
          0.60399997,
          0.60399997,
          0.60399997,
          0.60399997,
          0.60399997,
          0.60399997,
          0.60399997,
          0.72000003,
          0.73199999,
          0.73199999,
          0.73199999,
          0.73199999,
          0.73199999,
          0.73199999,
          0.73199999,
          0.73199999,
          0.82499999,
          0.82499999,
          0.84799999,
          0.86000001,
          0.87199998,
          0.87199998,
          0.87199998,
          0.90600002,
          0.90600002,
          0.90600002,
          0.94099998,
          0.94099998,
          0.96499997,
          0.96499997,
          0.98799998
         ],
         "xaxis": "x",
         "y": [
          0.3130812223706338,
          0.3130812223706338,
          0.32074389509200324,
          0.3247418102804927,
          0.3247418102804927,
          0.3324044816692236,
          0.3324044816692236,
          0.34040031471147975,
          0.34040031471147975,
          0.34040031471147975,
          0.35172774230045195,
          0.35172774230045195,
          0.359723570678473,
          0.3633883302103109,
          0.3673862427335231,
          0.37138416191992846,
          0.3750489181201698,
          0.3750489181201698,
          0.38271159017522,
          0.38271159017522,
          0.38271159017522,
          0.38271159017522,
          0.39837009060829115,
          0.39837009060829115,
          0.39837009060829115,
          0.41003067851815006,
          0.41369543471839143,
          0.41369543471839143,
          0.41369543471839143,
          0.41369543471839143,
          0.41369543471839143,
          0.41369543471839143,
          0.41369543471839143,
          0.41369543471839143,
          0.4446792825931595,
          0.4486772051111613,
          0.45267512096597007,
          0.45267512096597007,
          0.45267512096597007,
          0.46433570554423254,
          0.46433570554423254,
          0.46433570554423254,
          0.46433570554423254,
          0.46433570554423254,
          0.46433570554423254,
          0.46433570554423254,
          0.4913216375641917,
          0.4913216375641917,
          0.49898431295083845,
          0.502982215479261,
          0.5069801379972629,
          0.5106448875343113,
          0.5106448875343113,
          0.5106448875343113,
          0.5106448875343113,
          0.5106448875343113,
          0.5106448875343113,
          0.5106448875343113,
          0.5106448875343113,
          0.5106448875343113,
          0.5106448875343113,
          0.5492914274537086,
          0.5532893299821312,
          0.5532893299821312,
          0.5532893299821312,
          0.5532893299821312,
          0.5532893299821312,
          0.5532893299821312,
          0.5532893299821312,
          0.5532893299821312,
          0.5842731778568993,
          0.5842731778568993,
          0.5919358499119494,
          0.5959337724299513,
          0.5999316782899704,
          0.5999316782899704,
          0.5999316782899704,
          0.6112591198716482,
          0.6112591198716482,
          0.6112591198716482,
          0.6229196944551209,
          0.6229196944551209,
          0.6309155228331418,
          0.6309155228331418,
          0.6385781982197886
         ],
         "yaxis": "y"
        }
       ],
       "layout": {
        "height": 800,
        "legend": {
         "tracegroupgap": 0
        },
        "template": {
         "data": {
          "bar": [
           {
            "error_x": {
             "color": "#2a3f5f"
            },
            "error_y": {
             "color": "#2a3f5f"
            },
            "marker": {
             "line": {
              "color": "#E5ECF6",
              "width": 0.5
             }
            },
            "type": "bar"
           }
          ],
          "barpolar": [
           {
            "marker": {
             "line": {
              "color": "#E5ECF6",
              "width": 0.5
             }
            },
            "type": "barpolar"
           }
          ],
          "carpet": [
           {
            "aaxis": {
             "endlinecolor": "#2a3f5f",
             "gridcolor": "white",
             "linecolor": "white",
             "minorgridcolor": "white",
             "startlinecolor": "#2a3f5f"
            },
            "baxis": {
             "endlinecolor": "#2a3f5f",
             "gridcolor": "white",
             "linecolor": "white",
             "minorgridcolor": "white",
             "startlinecolor": "#2a3f5f"
            },
            "type": "carpet"
           }
          ],
          "choropleth": [
           {
            "colorbar": {
             "outlinewidth": 0,
             "ticks": ""
            },
            "type": "choropleth"
           }
          ],
          "contour": [
           {
            "colorbar": {
             "outlinewidth": 0,
             "ticks": ""
            },
            "colorscale": [
             [
              0,
              "#0d0887"
             ],
             [
              0.1111111111111111,
              "#46039f"
             ],
             [
              0.2222222222222222,
              "#7201a8"
             ],
             [
              0.3333333333333333,
              "#9c179e"
             ],
             [
              0.4444444444444444,
              "#bd3786"
             ],
             [
              0.5555555555555556,
              "#d8576b"
             ],
             [
              0.6666666666666666,
              "#ed7953"
             ],
             [
              0.7777777777777778,
              "#fb9f3a"
             ],
             [
              0.8888888888888888,
              "#fdca26"
             ],
             [
              1,
              "#f0f921"
             ]
            ],
            "type": "contour"
           }
          ],
          "contourcarpet": [
           {
            "colorbar": {
             "outlinewidth": 0,
             "ticks": ""
            },
            "type": "contourcarpet"
           }
          ],
          "heatmap": [
           {
            "colorbar": {
             "outlinewidth": 0,
             "ticks": ""
            },
            "colorscale": [
             [
              0,
              "#0d0887"
             ],
             [
              0.1111111111111111,
              "#46039f"
             ],
             [
              0.2222222222222222,
              "#7201a8"
             ],
             [
              0.3333333333333333,
              "#9c179e"
             ],
             [
              0.4444444444444444,
              "#bd3786"
             ],
             [
              0.5555555555555556,
              "#d8576b"
             ],
             [
              0.6666666666666666,
              "#ed7953"
             ],
             [
              0.7777777777777778,
              "#fb9f3a"
             ],
             [
              0.8888888888888888,
              "#fdca26"
             ],
             [
              1,
              "#f0f921"
             ]
            ],
            "type": "heatmap"
           }
          ],
          "heatmapgl": [
           {
            "colorbar": {
             "outlinewidth": 0,
             "ticks": ""
            },
            "colorscale": [
             [
              0,
              "#0d0887"
             ],
             [
              0.1111111111111111,
              "#46039f"
             ],
             [
              0.2222222222222222,
              "#7201a8"
             ],
             [
              0.3333333333333333,
              "#9c179e"
             ],
             [
              0.4444444444444444,
              "#bd3786"
             ],
             [
              0.5555555555555556,
              "#d8576b"
             ],
             [
              0.6666666666666666,
              "#ed7953"
             ],
             [
              0.7777777777777778,
              "#fb9f3a"
             ],
             [
              0.8888888888888888,
              "#fdca26"
             ],
             [
              1,
              "#f0f921"
             ]
            ],
            "type": "heatmapgl"
           }
          ],
          "histogram": [
           {
            "marker": {
             "colorbar": {
              "outlinewidth": 0,
              "ticks": ""
             }
            },
            "type": "histogram"
           }
          ],
          "histogram2d": [
           {
            "colorbar": {
             "outlinewidth": 0,
             "ticks": ""
            },
            "colorscale": [
             [
              0,
              "#0d0887"
             ],
             [
              0.1111111111111111,
              "#46039f"
             ],
             [
              0.2222222222222222,
              "#7201a8"
             ],
             [
              0.3333333333333333,
              "#9c179e"
             ],
             [
              0.4444444444444444,
              "#bd3786"
             ],
             [
              0.5555555555555556,
              "#d8576b"
             ],
             [
              0.6666666666666666,
              "#ed7953"
             ],
             [
              0.7777777777777778,
              "#fb9f3a"
             ],
             [
              0.8888888888888888,
              "#fdca26"
             ],
             [
              1,
              "#f0f921"
             ]
            ],
            "type": "histogram2d"
           }
          ],
          "histogram2dcontour": [
           {
            "colorbar": {
             "outlinewidth": 0,
             "ticks": ""
            },
            "colorscale": [
             [
              0,
              "#0d0887"
             ],
             [
              0.1111111111111111,
              "#46039f"
             ],
             [
              0.2222222222222222,
              "#7201a8"
             ],
             [
              0.3333333333333333,
              "#9c179e"
             ],
             [
              0.4444444444444444,
              "#bd3786"
             ],
             [
              0.5555555555555556,
              "#d8576b"
             ],
             [
              0.6666666666666666,
              "#ed7953"
             ],
             [
              0.7777777777777778,
              "#fb9f3a"
             ],
             [
              0.8888888888888888,
              "#fdca26"
             ],
             [
              1,
              "#f0f921"
             ]
            ],
            "type": "histogram2dcontour"
           }
          ],
          "mesh3d": [
           {
            "colorbar": {
             "outlinewidth": 0,
             "ticks": ""
            },
            "type": "mesh3d"
           }
          ],
          "parcoords": [
           {
            "line": {
             "colorbar": {
              "outlinewidth": 0,
              "ticks": ""
             }
            },
            "type": "parcoords"
           }
          ],
          "scatter": [
           {
            "marker": {
             "colorbar": {
              "outlinewidth": 0,
              "ticks": ""
             }
            },
            "type": "scatter"
           }
          ],
          "scatter3d": [
           {
            "line": {
             "colorbar": {
              "outlinewidth": 0,
              "ticks": ""
             }
            },
            "marker": {
             "colorbar": {
              "outlinewidth": 0,
              "ticks": ""
             }
            },
            "type": "scatter3d"
           }
          ],
          "scattercarpet": [
           {
            "marker": {
             "colorbar": {
              "outlinewidth": 0,
              "ticks": ""
             }
            },
            "type": "scattercarpet"
           }
          ],
          "scattergeo": [
           {
            "marker": {
             "colorbar": {
              "outlinewidth": 0,
              "ticks": ""
             }
            },
            "type": "scattergeo"
           }
          ],
          "scattergl": [
           {
            "marker": {
             "colorbar": {
              "outlinewidth": 0,
              "ticks": ""
             }
            },
            "type": "scattergl"
           }
          ],
          "scattermapbox": [
           {
            "marker": {
             "colorbar": {
              "outlinewidth": 0,
              "ticks": ""
             }
            },
            "type": "scattermapbox"
           }
          ],
          "scatterpolar": [
           {
            "marker": {
             "colorbar": {
              "outlinewidth": 0,
              "ticks": ""
             }
            },
            "type": "scatterpolar"
           }
          ],
          "scatterpolargl": [
           {
            "marker": {
             "colorbar": {
              "outlinewidth": 0,
              "ticks": ""
             }
            },
            "type": "scatterpolargl"
           }
          ],
          "scatterternary": [
           {
            "marker": {
             "colorbar": {
              "outlinewidth": 0,
              "ticks": ""
             }
            },
            "type": "scatterternary"
           }
          ],
          "surface": [
           {
            "colorbar": {
             "outlinewidth": 0,
             "ticks": ""
            },
            "colorscale": [
             [
              0,
              "#0d0887"
             ],
             [
              0.1111111111111111,
              "#46039f"
             ],
             [
              0.2222222222222222,
              "#7201a8"
             ],
             [
              0.3333333333333333,
              "#9c179e"
             ],
             [
              0.4444444444444444,
              "#bd3786"
             ],
             [
              0.5555555555555556,
              "#d8576b"
             ],
             [
              0.6666666666666666,
              "#ed7953"
             ],
             [
              0.7777777777777778,
              "#fb9f3a"
             ],
             [
              0.8888888888888888,
              "#fdca26"
             ],
             [
              1,
              "#f0f921"
             ]
            ],
            "type": "surface"
           }
          ],
          "table": [
           {
            "cells": {
             "fill": {
              "color": "#EBF0F8"
             },
             "line": {
              "color": "white"
             }
            },
            "header": {
             "fill": {
              "color": "#C8D4E3"
             },
             "line": {
              "color": "white"
             }
            },
            "type": "table"
           }
          ]
         },
         "layout": {
          "annotationdefaults": {
           "arrowcolor": "#2a3f5f",
           "arrowhead": 0,
           "arrowwidth": 1
          },
          "colorscale": {
           "diverging": [
            [
             0,
             "#8e0152"
            ],
            [
             0.1,
             "#c51b7d"
            ],
            [
             0.2,
             "#de77ae"
            ],
            [
             0.3,
             "#f1b6da"
            ],
            [
             0.4,
             "#fde0ef"
            ],
            [
             0.5,
             "#f7f7f7"
            ],
            [
             0.6,
             "#e6f5d0"
            ],
            [
             0.7,
             "#b8e186"
            ],
            [
             0.8,
             "#7fbc41"
            ],
            [
             0.9,
             "#4d9221"
            ],
            [
             1,
             "#276419"
            ]
           ],
           "sequential": [
            [
             0,
             "#0d0887"
            ],
            [
             0.1111111111111111,
             "#46039f"
            ],
            [
             0.2222222222222222,
             "#7201a8"
            ],
            [
             0.3333333333333333,
             "#9c179e"
            ],
            [
             0.4444444444444444,
             "#bd3786"
            ],
            [
             0.5555555555555556,
             "#d8576b"
            ],
            [
             0.6666666666666666,
             "#ed7953"
            ],
            [
             0.7777777777777778,
             "#fb9f3a"
            ],
            [
             0.8888888888888888,
             "#fdca26"
            ],
            [
             1,
             "#f0f921"
            ]
           ],
           "sequentialminus": [
            [
             0,
             "#0d0887"
            ],
            [
             0.1111111111111111,
             "#46039f"
            ],
            [
             0.2222222222222222,
             "#7201a8"
            ],
            [
             0.3333333333333333,
             "#9c179e"
            ],
            [
             0.4444444444444444,
             "#bd3786"
            ],
            [
             0.5555555555555556,
             "#d8576b"
            ],
            [
             0.6666666666666666,
             "#ed7953"
            ],
            [
             0.7777777777777778,
             "#fb9f3a"
            ],
            [
             0.8888888888888888,
             "#fdca26"
            ],
            [
             1,
             "#f0f921"
            ]
           ]
          },
          "colorway": [
           "#636efa",
           "#EF553B",
           "#00cc96",
           "#ab63fa",
           "#FFA15A",
           "#19d3f3",
           "#FF6692",
           "#B6E880",
           "#FF97FF",
           "#FECB52"
          ],
          "font": {
           "color": "#2a3f5f"
          },
          "geo": {
           "bgcolor": "white",
           "lakecolor": "white",
           "landcolor": "#E5ECF6",
           "showlakes": true,
           "showland": true,
           "subunitcolor": "white"
          },
          "hoverlabel": {
           "align": "left"
          },
          "hovermode": "closest",
          "mapbox": {
           "style": "light"
          },
          "paper_bgcolor": "white",
          "plot_bgcolor": "#E5ECF6",
          "polar": {
           "angularaxis": {
            "gridcolor": "white",
            "linecolor": "white",
            "ticks": ""
           },
           "bgcolor": "#E5ECF6",
           "radialaxis": {
            "gridcolor": "white",
            "linecolor": "white",
            "ticks": ""
           }
          },
          "scene": {
           "xaxis": {
            "backgroundcolor": "#E5ECF6",
            "gridcolor": "white",
            "gridwidth": 2,
            "linecolor": "white",
            "showbackground": true,
            "ticks": "",
            "zerolinecolor": "white"
           },
           "yaxis": {
            "backgroundcolor": "#E5ECF6",
            "gridcolor": "white",
            "gridwidth": 2,
            "linecolor": "white",
            "showbackground": true,
            "ticks": "",
            "zerolinecolor": "white"
           },
           "zaxis": {
            "backgroundcolor": "#E5ECF6",
            "gridcolor": "white",
            "gridwidth": 2,
            "linecolor": "white",
            "showbackground": true,
            "ticks": "",
            "zerolinecolor": "white"
           }
          },
          "shapedefaults": {
           "line": {
            "color": "#2a3f5f"
           }
          },
          "ternary": {
           "aaxis": {
            "gridcolor": "white",
            "linecolor": "white",
            "ticks": ""
           },
           "baxis": {
            "gridcolor": "white",
            "linecolor": "white",
            "ticks": ""
           },
           "bgcolor": "#E5ECF6",
           "caxis": {
            "gridcolor": "white",
            "linecolor": "white",
            "ticks": ""
           }
          },
          "title": {
           "x": 0.05
          },
          "xaxis": {
           "automargin": true,
           "gridcolor": "white",
           "linecolor": "white",
           "ticks": "",
           "zerolinecolor": "white",
           "zerolinewidth": 2
          },
          "yaxis": {
           "automargin": true,
           "gridcolor": "white",
           "linecolor": "white",
           "ticks": "",
           "zerolinecolor": "white",
           "zerolinewidth": 2
          }
         }
        },
        "title": {
         "text": "More sugary candies are more expensive"
        },
        "width": 1137,
        "xaxis": {
         "anchor": "y",
         "domain": [
          0,
          0.819
         ],
         "title": {
          "text": "Sugar content (percentile)"
         }
        },
        "xaxis2": {
         "anchor": "y2",
         "domain": [
          0.824,
          0.98
         ],
         "matches": "x2",
         "showgrid": false,
         "showticklabels": false
        },
        "xaxis3": {
         "anchor": "y3",
         "domain": [
          0,
          0.819
         ],
         "matches": "x",
         "showgrid": true,
         "showticklabels": false
        },
        "xaxis4": {
         "anchor": "y4",
         "domain": [
          0.824,
          0.98
         ],
         "matches": "x2",
         "showgrid": false,
         "showticklabels": false
        },
        "yaxis": {
         "anchor": "x",
         "domain": [
          0,
          0.8316
         ],
         "title": {
          "text": "Price (percentile)"
         }
        },
        "yaxis2": {
         "anchor": "x2",
         "domain": [
          0,
          0.8316
         ],
         "matches": "y",
         "showgrid": true,
         "showticklabels": false
        },
        "yaxis3": {
         "anchor": "x3",
         "domain": [
          0.8416,
          1
         ],
         "matches": "y3",
         "showgrid": false,
         "showticklabels": false
        },
        "yaxis4": {
         "anchor": "x4",
         "domain": [
          0.8416,
          1
         ],
         "matches": "y3",
         "showgrid": true,
         "showticklabels": false
        }
       }
      },
      "text/html": [
       "<div>\n",
       "        \n",
       "        \n",
       "            <div id=\"c89d4049-370e-4eae-b905-c6a873fa915d\" class=\"plotly-graph-div\" style=\"height:800px; width:1137px;\"></div>\n",
       "            <script type=\"text/javascript\">\n",
       "                require([\"plotly\"], function(Plotly) {\n",
       "                    window.PLOTLYENV=window.PLOTLYENV || {};\n",
       "                    \n",
       "                if (document.getElementById(\"c89d4049-370e-4eae-b905-c6a873fa915d\")) {\n",
       "                    Plotly.newPlot(\n",
       "                        'c89d4049-370e-4eae-b905-c6a873fa915d',\n",
       "                        [{\"hoverlabel\": {\"namelength\": 0}, \"hovertemplate\": \"<b>%{hovertext}</b><br><br>Sugar content (percentile)=%{x}<br>Price (percentile)=%{y}\", \"hovertext\": [\"100 Grand\", \"3 Musketeers\", \"One dime\", \"One quarter\", \"Air Heads\", \"Almond Joy\", \"Baby Ruth\", \"Boston Baked Beans\", \"Candy Corn\", \"Caramel Apple Pops\", \"Charleston Chew\", \"Chewey Lemonhead Fruit Mix\", \"Chiclets\", \"Dots\", \"Dum Dums\", \"Fruit Chews\", \"Fun Dip\", \"Gobstopper\", \"Haribo Gold Bears\", \"Haribo Happy Cola\", \"Haribo Sour Bears\", \"Haribo Twin Snakes\", \"Hershey\\u00d5s Kisses\", \"Hershey\\u00d5s Krackel\", \"Hershey\\u00d5s Milk Chocolate\", \"Hershey\\u00d5s Special Dark\", \"Jawbusters\", \"Junior Mints\", \"Kit Kat\", \"Laffy Taffy\", \"Lemonhead\", \"Lifesavers big ring gummies\", \"Peanut butter M&M\\u00d5s\", \"M&M\\u00d5s\", \"Mike & Ike\", \"Milk Duds\", \"Milky Way\", \"Milky Way Midnight\", \"Milky Way Simply Caramel\", \"Mounds\", \"Mr Good Bar\", \"Nerds\", \"Nestle Butterfinger\", \"Nestle Crunch\", \"Nik L Nip\", \"Now & Later\", \"Payday\", \"Peanut M&Ms\", \"Pixie Sticks\", \"Pop Rocks\", \"Red vines\", \"Reese\\u00d5s Miniatures\", \"Reese\\u00d5s Peanut Butter cup\", \"Reese\\u00d5s pieces\", \"Reese\\u00d5s stuffed with pieces\", \"Ring pop\", \"Rolo\", \"Root Beer Barrels\", \"Runts\", \"Sixlets\", \"Skittles original\", \"Skittles wildberry\", \"Nestle Smarties\", \"Smarties candy\", \"Snickers\", \"Snickers Crisper\", \"Sour Patch Kids\", \"Sour Patch Tricksters\", \"Starburst\", \"Strawberry bon bons\", \"Sugar Babies\", \"Sugar Daddy\", \"Super Bubble\", \"Swedish Fish\", \"Tootsie Pop\", \"Tootsie Roll Juniors\", \"Tootsie Roll Midgies\", \"Tootsie Roll Snack Bars\", \"Trolli Sour Bites\", \"Twix\", \"Twizzlers\", \"Warheads\", \"Welch\\u00d5s Fruit Snacks\", \"Werther\\u00d5s Original Caramel\", \"Whoppers\"], \"legendgroup\": \"\", \"marker\": {\"color\": \"#636efa\", \"symbol\": \"circle\"}, \"mode\": \"markers\", \"name\": \"\", \"showlegend\": false, \"type\": \"scatter\", \"x\": [0.73199999, 0.60399997, 0.011000000000000001, 0.011000000000000001, 0.90600002, 0.465, 0.60399997, 0.31299999, 0.90600002, 0.60399997, 0.60399997, 0.73199999, 0.046, 0.73199999, 0.73199999, 0.127, 0.73199999, 0.90600002, 0.465, 0.465, 0.465, 0.465, 0.127, 0.43000001, 0.43000001, 0.43000001, 0.093000002, 0.19699999999999998, 0.31299999, 0.22, 0.046, 0.26699999, 0.82499999, 0.82499999, 0.87199998, 0.30199999, 0.60399997, 0.73199999, 0.96499997, 0.31299999, 0.31299999, 0.84799999, 0.60399997, 0.31299999, 0.19699999999999998, 0.22, 0.465, 0.59299999, 0.093000002, 0.60399997, 0.58099997, 0.034000002, 0.72000003, 0.40599999, 0.98799998, 0.73199999, 0.86000001, 0.73199999, 0.87199998, 0.22, 0.94099998, 0.94099998, 0.26699999, 0.26699999, 0.546, 0.60399997, 0.06899999799999999, 0.06899999799999999, 0.15099999, 0.56900001, 0.96499997, 0.41800001, 0.162, 0.60399997, 0.60399997, 0.31299999, 0.17399999, 0.465, 0.31299999, 0.546, 0.22, 0.093000002, 0.31299999, 0.18600000000000003, 0.87199998], \"xaxis\": \"x\", \"y\": [0.86000001, 0.51099998, 0.11599999999999999, 0.51099998, 0.51099998, 0.76700002, 0.76700002, 0.51099998, 0.32499999, 0.32499999, 0.51099998, 0.51099998, 0.32499999, 0.51099998, 0.034000002, 0.034000002, 0.32499999, 0.45300001, 0.465, 0.465, 0.465, 0.465, 0.093000002, 0.91799998, 0.91799998, 0.91799998, 0.51099998, 0.51099998, 0.51099998, 0.11599999999999999, 0.10400000000000001, 0.27900001, 0.65100002, 0.65100002, 0.32499999, 0.51099998, 0.65100002, 0.44100001, 0.86000001, 0.86000001, 0.91799998, 0.32499999, 0.76700002, 0.76700002, 0.97600001, 0.32499999, 0.76700002, 0.65100002, 0.023, 0.83700001, 0.11599999999999999, 0.27900001, 0.65100002, 0.65100002, 0.65100002, 0.96499997, 0.86000001, 0.06899999799999999, 0.27900001, 0.081, 0.22, 0.22, 0.97600001, 0.11599999999999999, 0.65100002, 0.65100002, 0.11599999999999999, 0.11599999999999999, 0.22, 0.057999998, 0.76700002, 0.32499999, 0.11599999999999999, 0.755, 0.32499999, 0.51099998, 0.011000000000000001, 0.32499999, 0.255, 0.90600002, 0.11599999999999999, 0.11599999999999999, 0.31299999, 0.26699999, 0.84799999], \"yaxis\": \"y\"}, {\"alignmentgroup\": \"True\", \"boxpoints\": \"all\", \"fillcolor\": \"rgba(255,255,255,0)\", \"hoverlabel\": {\"namelength\": 0}, \"hoveron\": \"points\", \"hovertemplate\": \"<b>%{hovertext}</b><br><br>Sugar content (percentile)=%{x}\", \"hovertext\": [\"100 Grand\", \"3 Musketeers\", \"One dime\", \"One quarter\", \"Air Heads\", \"Almond Joy\", \"Baby Ruth\", \"Boston Baked Beans\", \"Candy Corn\", \"Caramel Apple Pops\", \"Charleston Chew\", \"Chewey Lemonhead Fruit Mix\", \"Chiclets\", \"Dots\", \"Dum Dums\", \"Fruit Chews\", \"Fun Dip\", \"Gobstopper\", \"Haribo Gold Bears\", \"Haribo Happy Cola\", \"Haribo Sour Bears\", \"Haribo Twin Snakes\", \"Hershey\\u00d5s Kisses\", \"Hershey\\u00d5s Krackel\", \"Hershey\\u00d5s Milk Chocolate\", \"Hershey\\u00d5s Special Dark\", \"Jawbusters\", \"Junior Mints\", \"Kit Kat\", \"Laffy Taffy\", \"Lemonhead\", \"Lifesavers big ring gummies\", \"Peanut butter M&M\\u00d5s\", \"M&M\\u00d5s\", \"Mike & Ike\", \"Milk Duds\", \"Milky Way\", \"Milky Way Midnight\", \"Milky Way Simply Caramel\", \"Mounds\", \"Mr Good Bar\", \"Nerds\", \"Nestle Butterfinger\", \"Nestle Crunch\", \"Nik L Nip\", \"Now & Later\", \"Payday\", \"Peanut M&Ms\", \"Pixie Sticks\", \"Pop Rocks\", \"Red vines\", \"Reese\\u00d5s Miniatures\", \"Reese\\u00d5s Peanut Butter cup\", \"Reese\\u00d5s pieces\", \"Reese\\u00d5s stuffed with pieces\", \"Ring pop\", \"Rolo\", \"Root Beer Barrels\", \"Runts\", \"Sixlets\", \"Skittles original\", \"Skittles wildberry\", \"Nestle Smarties\", \"Smarties candy\", \"Snickers\", \"Snickers Crisper\", \"Sour Patch Kids\", \"Sour Patch Tricksters\", \"Starburst\", \"Strawberry bon bons\", \"Sugar Babies\", \"Sugar Daddy\", \"Super Bubble\", \"Swedish Fish\", \"Tootsie Pop\", \"Tootsie Roll Juniors\", \"Tootsie Roll Midgies\", \"Tootsie Roll Snack Bars\", \"Trolli Sour Bites\", \"Twix\", \"Twizzlers\", \"Warheads\", \"Welch\\u00d5s Fruit Snacks\", \"Werther\\u00d5s Original Caramel\", \"Whoppers\"], \"jitter\": 0, \"legendgroup\": \"\", \"line\": {\"color\": \"rgba(255,255,255,0)\"}, \"marker\": {\"color\": \"#636efa\", \"symbol\": \"line-ns-open\"}, \"name\": \"\", \"offsetgroup\": \"\", \"showlegend\": false, \"type\": \"box\", \"x\": [0.73199999, 0.60399997, 0.011000000000000001, 0.011000000000000001, 0.90600002, 0.465, 0.60399997, 0.31299999, 0.90600002, 0.60399997, 0.60399997, 0.73199999, 0.046, 0.73199999, 0.73199999, 0.127, 0.73199999, 0.90600002, 0.465, 0.465, 0.465, 0.465, 0.127, 0.43000001, 0.43000001, 0.43000001, 0.093000002, 0.19699999999999998, 0.31299999, 0.22, 0.046, 0.26699999, 0.82499999, 0.82499999, 0.87199998, 0.30199999, 0.60399997, 0.73199999, 0.96499997, 0.31299999, 0.31299999, 0.84799999, 0.60399997, 0.31299999, 0.19699999999999998, 0.22, 0.465, 0.59299999, 0.093000002, 0.60399997, 0.58099997, 0.034000002, 0.72000003, 0.40599999, 0.98799998, 0.73199999, 0.86000001, 0.73199999, 0.87199998, 0.22, 0.94099998, 0.94099998, 0.26699999, 0.26699999, 0.546, 0.60399997, 0.06899999799999999, 0.06899999799999999, 0.15099999, 0.56900001, 0.96499997, 0.41800001, 0.162, 0.60399997, 0.60399997, 0.31299999, 0.17399999, 0.465, 0.31299999, 0.546, 0.22, 0.093000002, 0.31299999, 0.18600000000000003, 0.87199998], \"xaxis\": \"x3\", \"yaxis\": \"y3\"}, {\"alignmentgroup\": \"True\", \"boxpoints\": \"all\", \"fillcolor\": \"rgba(255,255,255,0)\", \"hoverlabel\": {\"namelength\": 0}, \"hoveron\": \"points\", \"hovertemplate\": \"<b>%{hovertext}</b><br><br>Price (percentile)=%{y}\", \"hovertext\": [\"100 Grand\", \"3 Musketeers\", \"One dime\", \"One quarter\", \"Air Heads\", \"Almond Joy\", \"Baby Ruth\", \"Boston Baked Beans\", \"Candy Corn\", \"Caramel Apple Pops\", \"Charleston Chew\", \"Chewey Lemonhead Fruit Mix\", \"Chiclets\", \"Dots\", \"Dum Dums\", \"Fruit Chews\", \"Fun Dip\", \"Gobstopper\", \"Haribo Gold Bears\", \"Haribo Happy Cola\", \"Haribo Sour Bears\", \"Haribo Twin Snakes\", \"Hershey\\u00d5s Kisses\", \"Hershey\\u00d5s Krackel\", \"Hershey\\u00d5s Milk Chocolate\", \"Hershey\\u00d5s Special Dark\", \"Jawbusters\", \"Junior Mints\", \"Kit Kat\", \"Laffy Taffy\", \"Lemonhead\", \"Lifesavers big ring gummies\", \"Peanut butter M&M\\u00d5s\", \"M&M\\u00d5s\", \"Mike & Ike\", \"Milk Duds\", \"Milky Way\", \"Milky Way Midnight\", \"Milky Way Simply Caramel\", \"Mounds\", \"Mr Good Bar\", \"Nerds\", \"Nestle Butterfinger\", \"Nestle Crunch\", \"Nik L Nip\", \"Now & Later\", \"Payday\", \"Peanut M&Ms\", \"Pixie Sticks\", \"Pop Rocks\", \"Red vines\", \"Reese\\u00d5s Miniatures\", \"Reese\\u00d5s Peanut Butter cup\", \"Reese\\u00d5s pieces\", \"Reese\\u00d5s stuffed with pieces\", \"Ring pop\", \"Rolo\", \"Root Beer Barrels\", \"Runts\", \"Sixlets\", \"Skittles original\", \"Skittles wildberry\", \"Nestle Smarties\", \"Smarties candy\", \"Snickers\", \"Snickers Crisper\", \"Sour Patch Kids\", \"Sour Patch Tricksters\", \"Starburst\", \"Strawberry bon bons\", \"Sugar Babies\", \"Sugar Daddy\", \"Super Bubble\", \"Swedish Fish\", \"Tootsie Pop\", \"Tootsie Roll Juniors\", \"Tootsie Roll Midgies\", \"Tootsie Roll Snack Bars\", \"Trolli Sour Bites\", \"Twix\", \"Twizzlers\", \"Warheads\", \"Welch\\u00d5s Fruit Snacks\", \"Werther\\u00d5s Original Caramel\", \"Whoppers\"], \"jitter\": 0, \"legendgroup\": \"\", \"line\": {\"color\": \"rgba(255,255,255,0)\"}, \"marker\": {\"color\": \"#636efa\", \"symbol\": \"line-ew-open\"}, \"name\": \"\", \"offsetgroup\": \"\", \"showlegend\": false, \"type\": \"box\", \"xaxis\": \"x2\", \"y\": [0.86000001, 0.51099998, 0.11599999999999999, 0.51099998, 0.51099998, 0.76700002, 0.76700002, 0.51099998, 0.32499999, 0.32499999, 0.51099998, 0.51099998, 0.32499999, 0.51099998, 0.034000002, 0.034000002, 0.32499999, 0.45300001, 0.465, 0.465, 0.465, 0.465, 0.093000002, 0.91799998, 0.91799998, 0.91799998, 0.51099998, 0.51099998, 0.51099998, 0.11599999999999999, 0.10400000000000001, 0.27900001, 0.65100002, 0.65100002, 0.32499999, 0.51099998, 0.65100002, 0.44100001, 0.86000001, 0.86000001, 0.91799998, 0.32499999, 0.76700002, 0.76700002, 0.97600001, 0.32499999, 0.76700002, 0.65100002, 0.023, 0.83700001, 0.11599999999999999, 0.27900001, 0.65100002, 0.65100002, 0.65100002, 0.96499997, 0.86000001, 0.06899999799999999, 0.27900001, 0.081, 0.22, 0.22, 0.97600001, 0.11599999999999999, 0.65100002, 0.65100002, 0.11599999999999999, 0.11599999999999999, 0.22, 0.057999998, 0.76700002, 0.32499999, 0.11599999999999999, 0.755, 0.32499999, 0.51099998, 0.011000000000000001, 0.32499999, 0.255, 0.90600002, 0.11599999999999999, 0.11599999999999999, 0.31299999, 0.26699999, 0.84799999], \"yaxis\": \"y2\"}, {\"hoverlabel\": {\"namelength\": 0}, \"hovertemplate\": \"<b>OLS trendline</b><br>pricepercent = 0.333160 * sugarpercent + 0.309416<br>R<sup>2</sup>=0.108706<br><br>Sugar content (percentile)=%{x}<br>Price (percentile)=%{y} <b>(trend)</b>\", \"legendgroup\": \"\", \"marker\": {\"color\": \"#636efa\", \"symbol\": \"circle\"}, \"mode\": \"lines\", \"name\": \"\", \"showlegend\": false, \"type\": \"scatter\", \"x\": [0.011000000000000001, 0.011000000000000001, 0.034000002, 0.046, 0.046, 0.06899999799999999, 0.06899999799999999, 0.093000002, 0.093000002, 0.093000002, 0.127, 0.127, 0.15099999, 0.162, 0.17399999, 0.18600000000000003, 0.19699999999999998, 0.19699999999999998, 0.22, 0.22, 0.22, 0.22, 0.26699999, 0.26699999, 0.26699999, 0.30199999, 0.31299999, 0.31299999, 0.31299999, 0.31299999, 0.31299999, 0.31299999, 0.31299999, 0.31299999, 0.40599999, 0.41800001, 0.43000001, 0.43000001, 0.43000001, 0.465, 0.465, 0.465, 0.465, 0.465, 0.465, 0.465, 0.546, 0.546, 0.56900001, 0.58099997, 0.59299999, 0.60399997, 0.60399997, 0.60399997, 0.60399997, 0.60399997, 0.60399997, 0.60399997, 0.60399997, 0.60399997, 0.60399997, 0.72000003, 0.73199999, 0.73199999, 0.73199999, 0.73199999, 0.73199999, 0.73199999, 0.73199999, 0.73199999, 0.82499999, 0.82499999, 0.84799999, 0.86000001, 0.87199998, 0.87199998, 0.87199998, 0.90600002, 0.90600002, 0.90600002, 0.94099998, 0.94099998, 0.96499997, 0.96499997, 0.98799998], \"xaxis\": \"x\", \"y\": [0.3130812223706338, 0.3130812223706338, 0.32074389509200324, 0.3247418102804927, 0.3247418102804927, 0.3324044816692236, 0.3324044816692236, 0.34040031471147975, 0.34040031471147975, 0.34040031471147975, 0.35172774230045195, 0.35172774230045195, 0.359723570678473, 0.3633883302103109, 0.3673862427335231, 0.37138416191992846, 0.3750489181201698, 0.3750489181201698, 0.38271159017522, 0.38271159017522, 0.38271159017522, 0.38271159017522, 0.39837009060829115, 0.39837009060829115, 0.39837009060829115, 0.41003067851815006, 0.41369543471839143, 0.41369543471839143, 0.41369543471839143, 0.41369543471839143, 0.41369543471839143, 0.41369543471839143, 0.41369543471839143, 0.41369543471839143, 0.4446792825931595, 0.4486772051111613, 0.45267512096597007, 0.45267512096597007, 0.45267512096597007, 0.46433570554423254, 0.46433570554423254, 0.46433570554423254, 0.46433570554423254, 0.46433570554423254, 0.46433570554423254, 0.46433570554423254, 0.4913216375641917, 0.4913216375641917, 0.49898431295083845, 0.502982215479261, 0.5069801379972629, 0.5106448875343113, 0.5106448875343113, 0.5106448875343113, 0.5106448875343113, 0.5106448875343113, 0.5106448875343113, 0.5106448875343113, 0.5106448875343113, 0.5106448875343113, 0.5106448875343113, 0.5492914274537086, 0.5532893299821312, 0.5532893299821312, 0.5532893299821312, 0.5532893299821312, 0.5532893299821312, 0.5532893299821312, 0.5532893299821312, 0.5532893299821312, 0.5842731778568993, 0.5842731778568993, 0.5919358499119494, 0.5959337724299513, 0.5999316782899704, 0.5999316782899704, 0.5999316782899704, 0.6112591198716482, 0.6112591198716482, 0.6112591198716482, 0.6229196944551209, 0.6229196944551209, 0.6309155228331418, 0.6309155228331418, 0.6385781982197886], \"yaxis\": \"y\"}],\n",
       "                        {\"height\": 800, \"legend\": {\"tracegroupgap\": 0}, \"template\": {\"data\": {\"bar\": [{\"error_x\": {\"color\": \"#2a3f5f\"}, \"error_y\": {\"color\": \"#2a3f5f\"}, \"marker\": {\"line\": {\"color\": \"#E5ECF6\", \"width\": 0.5}}, \"type\": \"bar\"}], \"barpolar\": [{\"marker\": {\"line\": {\"color\": \"#E5ECF6\", \"width\": 0.5}}, \"type\": \"barpolar\"}], \"carpet\": [{\"aaxis\": {\"endlinecolor\": \"#2a3f5f\", \"gridcolor\": \"white\", \"linecolor\": \"white\", \"minorgridcolor\": \"white\", \"startlinecolor\": \"#2a3f5f\"}, \"baxis\": {\"endlinecolor\": \"#2a3f5f\", \"gridcolor\": \"white\", \"linecolor\": \"white\", \"minorgridcolor\": \"white\", \"startlinecolor\": \"#2a3f5f\"}, \"type\": \"carpet\"}], \"choropleth\": [{\"colorbar\": {\"outlinewidth\": 0, \"ticks\": \"\"}, \"type\": \"choropleth\"}], \"contour\": [{\"colorbar\": {\"outlinewidth\": 0, \"ticks\": \"\"}, \"colorscale\": [[0.0, \"#0d0887\"], [0.1111111111111111, \"#46039f\"], [0.2222222222222222, \"#7201a8\"], [0.3333333333333333, \"#9c179e\"], [0.4444444444444444, \"#bd3786\"], [0.5555555555555556, \"#d8576b\"], [0.6666666666666666, \"#ed7953\"], [0.7777777777777778, \"#fb9f3a\"], [0.8888888888888888, \"#fdca26\"], [1.0, \"#f0f921\"]], \"type\": \"contour\"}], \"contourcarpet\": [{\"colorbar\": {\"outlinewidth\": 0, \"ticks\": \"\"}, \"type\": \"contourcarpet\"}], \"heatmap\": [{\"colorbar\": {\"outlinewidth\": 0, \"ticks\": \"\"}, \"colorscale\": [[0.0, \"#0d0887\"], [0.1111111111111111, \"#46039f\"], [0.2222222222222222, \"#7201a8\"], [0.3333333333333333, \"#9c179e\"], [0.4444444444444444, \"#bd3786\"], [0.5555555555555556, \"#d8576b\"], [0.6666666666666666, \"#ed7953\"], [0.7777777777777778, \"#fb9f3a\"], [0.8888888888888888, \"#fdca26\"], [1.0, \"#f0f921\"]], \"type\": \"heatmap\"}], \"heatmapgl\": [{\"colorbar\": {\"outlinewidth\": 0, \"ticks\": \"\"}, \"colorscale\": [[0.0, \"#0d0887\"], [0.1111111111111111, \"#46039f\"], [0.2222222222222222, \"#7201a8\"], [0.3333333333333333, \"#9c179e\"], [0.4444444444444444, \"#bd3786\"], [0.5555555555555556, \"#d8576b\"], [0.6666666666666666, \"#ed7953\"], [0.7777777777777778, \"#fb9f3a\"], [0.8888888888888888, \"#fdca26\"], [1.0, \"#f0f921\"]], \"type\": \"heatmapgl\"}], \"histogram\": [{\"marker\": {\"colorbar\": {\"outlinewidth\": 0, \"ticks\": \"\"}}, \"type\": \"histogram\"}], \"histogram2d\": [{\"colorbar\": {\"outlinewidth\": 0, \"ticks\": \"\"}, \"colorscale\": [[0.0, \"#0d0887\"], [0.1111111111111111, \"#46039f\"], [0.2222222222222222, \"#7201a8\"], [0.3333333333333333, \"#9c179e\"], [0.4444444444444444, \"#bd3786\"], [0.5555555555555556, \"#d8576b\"], [0.6666666666666666, \"#ed7953\"], [0.7777777777777778, \"#fb9f3a\"], [0.8888888888888888, \"#fdca26\"], [1.0, \"#f0f921\"]], \"type\": \"histogram2d\"}], \"histogram2dcontour\": [{\"colorbar\": {\"outlinewidth\": 0, \"ticks\": \"\"}, \"colorscale\": [[0.0, \"#0d0887\"], [0.1111111111111111, \"#46039f\"], [0.2222222222222222, \"#7201a8\"], [0.3333333333333333, \"#9c179e\"], [0.4444444444444444, \"#bd3786\"], [0.5555555555555556, \"#d8576b\"], [0.6666666666666666, \"#ed7953\"], [0.7777777777777778, \"#fb9f3a\"], [0.8888888888888888, \"#fdca26\"], [1.0, \"#f0f921\"]], \"type\": \"histogram2dcontour\"}], \"mesh3d\": [{\"colorbar\": {\"outlinewidth\": 0, \"ticks\": \"\"}, \"type\": \"mesh3d\"}], \"parcoords\": [{\"line\": {\"colorbar\": {\"outlinewidth\": 0, \"ticks\": \"\"}}, \"type\": \"parcoords\"}], \"scatter\": [{\"marker\": {\"colorbar\": {\"outlinewidth\": 0, \"ticks\": \"\"}}, \"type\": \"scatter\"}], \"scatter3d\": [{\"line\": {\"colorbar\": {\"outlinewidth\": 0, \"ticks\": \"\"}}, \"marker\": {\"colorbar\": {\"outlinewidth\": 0, \"ticks\": \"\"}}, \"type\": \"scatter3d\"}], \"scattercarpet\": [{\"marker\": {\"colorbar\": {\"outlinewidth\": 0, \"ticks\": \"\"}}, \"type\": \"scattercarpet\"}], \"scattergeo\": [{\"marker\": {\"colorbar\": {\"outlinewidth\": 0, \"ticks\": \"\"}}, \"type\": \"scattergeo\"}], \"scattergl\": [{\"marker\": {\"colorbar\": {\"outlinewidth\": 0, \"ticks\": \"\"}}, \"type\": \"scattergl\"}], \"scattermapbox\": [{\"marker\": {\"colorbar\": {\"outlinewidth\": 0, \"ticks\": \"\"}}, \"type\": \"scattermapbox\"}], \"scatterpolar\": [{\"marker\": {\"colorbar\": {\"outlinewidth\": 0, \"ticks\": \"\"}}, \"type\": \"scatterpolar\"}], \"scatterpolargl\": [{\"marker\": {\"colorbar\": {\"outlinewidth\": 0, \"ticks\": \"\"}}, \"type\": \"scatterpolargl\"}], \"scatterternary\": [{\"marker\": {\"colorbar\": {\"outlinewidth\": 0, \"ticks\": \"\"}}, \"type\": \"scatterternary\"}], \"surface\": [{\"colorbar\": {\"outlinewidth\": 0, \"ticks\": \"\"}, \"colorscale\": [[0.0, \"#0d0887\"], [0.1111111111111111, \"#46039f\"], [0.2222222222222222, \"#7201a8\"], [0.3333333333333333, \"#9c179e\"], [0.4444444444444444, \"#bd3786\"], [0.5555555555555556, \"#d8576b\"], [0.6666666666666666, \"#ed7953\"], [0.7777777777777778, \"#fb9f3a\"], [0.8888888888888888, \"#fdca26\"], [1.0, \"#f0f921\"]], \"type\": \"surface\"}], \"table\": [{\"cells\": {\"fill\": {\"color\": \"#EBF0F8\"}, \"line\": {\"color\": \"white\"}}, \"header\": {\"fill\": {\"color\": \"#C8D4E3\"}, \"line\": {\"color\": \"white\"}}, \"type\": \"table\"}]}, \"layout\": {\"annotationdefaults\": {\"arrowcolor\": \"#2a3f5f\", \"arrowhead\": 0, \"arrowwidth\": 1}, \"colorscale\": {\"diverging\": [[0, \"#8e0152\"], [0.1, \"#c51b7d\"], [0.2, \"#de77ae\"], [0.3, \"#f1b6da\"], [0.4, \"#fde0ef\"], [0.5, \"#f7f7f7\"], [0.6, \"#e6f5d0\"], [0.7, \"#b8e186\"], [0.8, \"#7fbc41\"], [0.9, \"#4d9221\"], [1, \"#276419\"]], \"sequential\": [[0.0, \"#0d0887\"], [0.1111111111111111, \"#46039f\"], [0.2222222222222222, \"#7201a8\"], [0.3333333333333333, \"#9c179e\"], [0.4444444444444444, \"#bd3786\"], [0.5555555555555556, \"#d8576b\"], [0.6666666666666666, \"#ed7953\"], [0.7777777777777778, \"#fb9f3a\"], [0.8888888888888888, \"#fdca26\"], [1.0, \"#f0f921\"]], \"sequentialminus\": [[0.0, \"#0d0887\"], [0.1111111111111111, \"#46039f\"], [0.2222222222222222, \"#7201a8\"], [0.3333333333333333, \"#9c179e\"], [0.4444444444444444, \"#bd3786\"], [0.5555555555555556, \"#d8576b\"], [0.6666666666666666, \"#ed7953\"], [0.7777777777777778, \"#fb9f3a\"], [0.8888888888888888, \"#fdca26\"], [1.0, \"#f0f921\"]]}, \"colorway\": [\"#636efa\", \"#EF553B\", \"#00cc96\", \"#ab63fa\", \"#FFA15A\", \"#19d3f3\", \"#FF6692\", \"#B6E880\", \"#FF97FF\", \"#FECB52\"], \"font\": {\"color\": \"#2a3f5f\"}, \"geo\": {\"bgcolor\": \"white\", \"lakecolor\": \"white\", \"landcolor\": \"#E5ECF6\", \"showlakes\": true, \"showland\": true, \"subunitcolor\": \"white\"}, \"hoverlabel\": {\"align\": \"left\"}, \"hovermode\": \"closest\", \"mapbox\": {\"style\": \"light\"}, \"paper_bgcolor\": \"white\", \"plot_bgcolor\": \"#E5ECF6\", \"polar\": {\"angularaxis\": {\"gridcolor\": \"white\", \"linecolor\": \"white\", \"ticks\": \"\"}, \"bgcolor\": \"#E5ECF6\", \"radialaxis\": {\"gridcolor\": \"white\", \"linecolor\": \"white\", \"ticks\": \"\"}}, \"scene\": {\"xaxis\": {\"backgroundcolor\": \"#E5ECF6\", \"gridcolor\": \"white\", \"gridwidth\": 2, \"linecolor\": \"white\", \"showbackground\": true, \"ticks\": \"\", \"zerolinecolor\": \"white\"}, \"yaxis\": {\"backgroundcolor\": \"#E5ECF6\", \"gridcolor\": \"white\", \"gridwidth\": 2, \"linecolor\": \"white\", \"showbackground\": true, \"ticks\": \"\", \"zerolinecolor\": \"white\"}, \"zaxis\": {\"backgroundcolor\": \"#E5ECF6\", \"gridcolor\": \"white\", \"gridwidth\": 2, \"linecolor\": \"white\", \"showbackground\": true, \"ticks\": \"\", \"zerolinecolor\": \"white\"}}, \"shapedefaults\": {\"line\": {\"color\": \"#2a3f5f\"}}, \"ternary\": {\"aaxis\": {\"gridcolor\": \"white\", \"linecolor\": \"white\", \"ticks\": \"\"}, \"baxis\": {\"gridcolor\": \"white\", \"linecolor\": \"white\", \"ticks\": \"\"}, \"bgcolor\": \"#E5ECF6\", \"caxis\": {\"gridcolor\": \"white\", \"linecolor\": \"white\", \"ticks\": \"\"}}, \"title\": {\"x\": 0.05}, \"xaxis\": {\"automargin\": true, \"gridcolor\": \"white\", \"linecolor\": \"white\", \"ticks\": \"\", \"zerolinecolor\": \"white\", \"zerolinewidth\": 2}, \"yaxis\": {\"automargin\": true, \"gridcolor\": \"white\", \"linecolor\": \"white\", \"ticks\": \"\", \"zerolinecolor\": \"white\", \"zerolinewidth\": 2}}}, \"title\": {\"text\": \"More sugary candies are more expensive\"}, \"width\": 1137, \"xaxis\": {\"anchor\": \"y\", \"domain\": [0.0, 0.819], \"title\": {\"text\": \"Sugar content (percentile)\"}}, \"xaxis2\": {\"anchor\": \"y2\", \"domain\": [0.824, 0.98], \"matches\": \"x2\", \"showgrid\": false, \"showticklabels\": false}, \"xaxis3\": {\"anchor\": \"y3\", \"domain\": [0.0, 0.819], \"matches\": \"x\", \"showgrid\": true, \"showticklabels\": false}, \"xaxis4\": {\"anchor\": \"y4\", \"domain\": [0.824, 0.98], \"matches\": \"x2\", \"showgrid\": false, \"showticklabels\": false}, \"yaxis\": {\"anchor\": \"x\", \"domain\": [0.0, 0.8316], \"title\": {\"text\": \"Price (percentile)\"}}, \"yaxis2\": {\"anchor\": \"x2\", \"domain\": [0.0, 0.8316], \"matches\": \"y\", \"showgrid\": true, \"showticklabels\": false}, \"yaxis3\": {\"anchor\": \"x3\", \"domain\": [0.8416, 1.0], \"matches\": \"y3\", \"showgrid\": false, \"showticklabels\": false}, \"yaxis4\": {\"anchor\": \"x4\", \"domain\": [0.8416, 1.0], \"matches\": \"y3\", \"showgrid\": true, \"showticklabels\": false}},\n",
       "                        {\"responsive\": true}\n",
       "                    ).then(function(){\n",
       "                            \n",
       "var gd = document.getElementById('c89d4049-370e-4eae-b905-c6a873fa915d');\n",
       "var x = new MutationObserver(function (mutations, observer) {{\n",
       "        var display = window.getComputedStyle(gd).display;\n",
       "        if (!display || display === 'none') {{\n",
       "            console.log([gd, 'removed!']);\n",
       "            Plotly.purge(gd);\n",
       "            observer.disconnect();\n",
       "        }}\n",
       "}});\n",
       "\n",
       "// Listen for the removal of the full notebook cells\n",
       "var notebookContainer = gd.closest('#notebook-container');\n",
       "if (notebookContainer) {{\n",
       "    x.observe(notebookContainer, {childList: true});\n",
       "}}\n",
       "\n",
       "// Listen for the clearing of the current output cell\n",
       "var outputEl = gd.closest('.output');\n",
       "if (outputEl) {{\n",
       "    x.observe(outputEl, {childList: true});\n",
       "}}\n",
       "\n",
       "                        })\n",
       "                };\n",
       "                });\n",
       "            </script>\n",
       "        </div>"
      ]
     },
     "metadata": {},
     "output_type": "display_data"
    }
   ],
   "source": [
    "{\n",
    "    \"tags\": [\n",
    "        \"remove_cell\",\n",
    "    ]\n",
    "}\n",
    "import plotly.express as px\n",
    "\n",
    "df = pd.read_csv(url)\n",
    "fig = px.scatter(df, x=\"sugarpercent\", y=\"pricepercent\",\n",
    "                 labels={\"sugarpercent\":\"Sugar content (percentile)\", \"pricepercent\":\"Price (percentile)\"},\n",
    "                 marginal_x=\"rug\",marginal_y=\"rug\",\n",
    "                 #color=\"chocolate\",\n",
    "                 #size=\"winpercent\", size_max=30, \n",
    "                 hover_name=\"competitorname\",\n",
    "                 #text=\"competitorname\",\n",
    "                 #facet_row=\"chocolate\", facet_col = \"fruity\",\n",
    "                 #trendline='lowess',\n",
    "                 trendline='ols',\n",
    "                 title=\"More sugary candies are more expensive\",\n",
    "                 height=800,\n",
    "                 width=1137\n",
    "                )\n",
    "\n",
    "fig.show()"
   ]
  },
  {
   "cell_type": "markdown",
   "metadata": {
    "colab_type": "text",
    "id": "EO3SpQk8H31r"
   },
   "source": [
    "# Feature Selection Problem\n",
    "... determining whether input features are relevant to the outcome to be predicted.\n",
    "\n",
    "We can use statistical tests to determine whether the output variable is dependent or independent of the input variables. If independent, then the input variable is a candidate for a feature that may be irrelevant to the problem and removed from the dataset.\n",
    "\n",
    "The Pearson’s chi-squared statistical hypothesis is an example of a test for independence between categorical variables."
   ]
  },
  {
   "cell_type": "markdown",
   "metadata": {
    "colab_type": "text",
    "id": "3_m5c2G6PJxD"
   },
   "source": [
    "Here, we only look at the winpercent, and the sugarpercent"
   ]
  },
  {
   "cell_type": "code",
   "execution_count": 25,
   "metadata": {
    "colab": {},
    "colab_type": "code",
    "id": "S7jStYDQPl7K"
   },
   "outputs": [
    {
     "data": {
      "text/plain": [
       "Text(0,0.5,'% sugar')"
      ]
     },
     "execution_count": 25,
     "metadata": {},
     "output_type": "execute_result"
    },
    {
     "data": {
      "image/png": "[encoded data removed]",
      "text/plain": [
       "<Figure size 432x288 with 1 Axes>"
      ]
     },
     "metadata": {
      "needs_background": "light"
     },
     "output_type": "display_data"
    }
   ],
   "source": [
    "import matplotlib.pyplot as plt\n",
    "fig, ax = plt.subplots(1, 1)\n",
    "ax.plot(df['winpercent']/100, df['sugarpercent'], '.')\n",
    "ax.set_xlabel('% win')\n",
    "ax.set_ylabel('% sugar')"
   ]
  },
  {
   "cell_type": "markdown",
   "metadata": {
    "colab_type": "text",
    "id": "4YRwld_QSfo7"
   },
   "source": [
    "If the two variables were independent, we would not see any trend in the cloud of points. On this plot, it is a bit hard to tell. Let's use pandas to compute a coefficient correlation.\n",
    "\n",
    "Let's compute the Pearson's correlation coefficient between the relative number of sugar, and the number of wins"
   ]
  },
  {
   "cell_type": "code",
   "execution_count": 26,
   "metadata": {
    "colab": {},
    "colab_type": "code",
    "id": "3HDW92wFShCY"
   },
   "outputs": [
    {
     "data": {
      "text/html": [
       "<div>\n",
       "<style scoped>\n",
       "    .dataframe tbody tr th:only-of-type {\n",
       "        vertical-align: middle;\n",
       "    }\n",
       "\n",
       "    .dataframe tbody tr th {\n",
       "        vertical-align: top;\n",
       "    }\n",
       "\n",
       "    .dataframe thead th {\n",
       "        text-align: right;\n",
       "    }\n",
       "</style>\n",
       "<table border=\"1\" class=\"dataframe\">\n",
       "  <thead>\n",
       "    <tr style=\"text-align: right;\">\n",
       "      <th></th>\n",
       "      <th>win</th>\n",
       "      <th>sugar</th>\n",
       "    </tr>\n",
       "  </thead>\n",
       "  <tbody>\n",
       "    <tr>\n",
       "      <th>win</th>\n",
       "      <td>1.000000</td>\n",
       "      <td>0.229151</td>\n",
       "    </tr>\n",
       "    <tr>\n",
       "      <th>sugar</th>\n",
       "      <td>0.229151</td>\n",
       "      <td>1.000000</td>\n",
       "    </tr>\n",
       "  </tbody>\n",
       "</table>\n",
       "</div>"
      ],
      "text/plain": [
       "            win     sugar\n",
       "win    1.000000  0.229151\n",
       "sugar  0.229151  1.000000"
      ]
     },
     "execution_count": 26,
     "metadata": {},
     "output_type": "execute_result"
    }
   ],
   "source": [
    "df_bis = pd.DataFrame({'win': df['winpercent']/100,'sugar': df['sugarpercent']}).dropna()\n",
    "df_bis.corr()"
   ]
  },
  {
   "cell_type": "markdown",
   "metadata": {},
   "source": [
    "A correlation of ~0.22 seems to indicate a positive correlation between our two variables. In other words, the more sugar, the more wins (which is not very surprising!)."
   ]
  },
  {
   "cell_type": "markdown",
   "metadata": {
    "colab_type": "text",
    "id": "sKM1eSm8Uc--"
   },
   "source": [
    "## Contingency Table\n",
    "\n",
    "A categorical variable is a variable that may take on one of a set of labels. \n",
    "\n",
    "\n",
    "Now, to determine if there is a statistically significant correlation between the variables, we use a chi-squared test of the independence of categorical variables in a contingency table.\n",
    "\n",
    "First, we binarize our variables. Here, the value corresponding to the sugar is True if there is more sugar than usual in a product, and False otherwise:"
   ]
  },
  {
   "cell_type": "code",
   "execution_count": 27,
   "metadata": {
    "colab": {},
    "colab_type": "code",
    "id": "6O1F5WzdVVW9"
   },
   "outputs": [
    {
     "data": {
      "text/html": [
       "<div>\n",
       "<style scoped>\n",
       "    .dataframe tbody tr th:only-of-type {\n",
       "        vertical-align: middle;\n",
       "    }\n",
       "\n",
       "    .dataframe tbody tr th {\n",
       "        vertical-align: top;\n",
       "    }\n",
       "\n",
       "    .dataframe thead th {\n",
       "        text-align: right;\n",
       "    }\n",
       "</style>\n",
       "<table border=\"1\" class=\"dataframe\">\n",
       "  <thead>\n",
       "    <tr style=\"text-align: right;\">\n",
       "      <th></th>\n",
       "      <th>win</th>\n",
       "      <th>sugar</th>\n",
       "      <th>morewin</th>\n",
       "      <th>moresugar</th>\n",
       "    </tr>\n",
       "  </thead>\n",
       "  <tbody>\n",
       "    <tr>\n",
       "      <th>80</th>\n",
       "      <td>0.454663</td>\n",
       "      <td>0.220</td>\n",
       "      <td>False</td>\n",
       "      <td>False</td>\n",
       "    </tr>\n",
       "    <tr>\n",
       "      <th>81</th>\n",
       "      <td>0.390119</td>\n",
       "      <td>0.093</td>\n",
       "      <td>False</td>\n",
       "      <td>False</td>\n",
       "    </tr>\n",
       "    <tr>\n",
       "      <th>82</th>\n",
       "      <td>0.443755</td>\n",
       "      <td>0.313</td>\n",
       "      <td>False</td>\n",
       "      <td>False</td>\n",
       "    </tr>\n",
       "    <tr>\n",
       "      <th>83</th>\n",
       "      <td>0.419043</td>\n",
       "      <td>0.186</td>\n",
       "      <td>False</td>\n",
       "      <td>False</td>\n",
       "    </tr>\n",
       "    <tr>\n",
       "      <th>84</th>\n",
       "      <td>0.495241</td>\n",
       "      <td>0.872</td>\n",
       "      <td>True</td>\n",
       "      <td>True</td>\n",
       "    </tr>\n",
       "  </tbody>\n",
       "</table>\n",
       "</div>"
      ],
      "text/plain": [
       "         win  sugar  morewin  moresugar\n",
       "80  0.454663  0.220    False      False\n",
       "81  0.390119  0.093    False      False\n",
       "82  0.443755  0.313    False      False\n",
       "83  0.419043  0.186    False      False\n",
       "84  0.495241  0.872     True       True"
      ]
     },
     "execution_count": 27,
     "metadata": {},
     "output_type": "execute_result"
    }
   ],
   "source": [
    "df_bis['morewin'] = (df_bis['win'] > df_bis['win'].median())\n",
    "df_bis['moresugar'] = (df_bis['sugar'] > df_bis['sugar'].median())\n",
    "df_bis.tail()"
   ]
  },
  {
   "cell_type": "markdown",
   "metadata": {
    "colab_type": "text",
    "id": "PGUcodQXXAlf"
   },
   "source": [
    "We can summarize the collected observations in a table with one variable corresponding to columns and another variable corresponding to rows. Each cell in the table corresponds to the count or frequency of observations that correspond to the row and column categories.\n",
    "\n",
    "Then, we create a contingency table, with the frequencies of all four possibilities (True and True, True and False, and so on):"
   ]
  },
  {
   "cell_type": "code",
   "execution_count": 28,
   "metadata": {
    "colab": {},
    "colab_type": "code",
    "id": "vY8fHZAhXH2p"
   },
   "outputs": [
    {
     "data": {
      "text/html": [
       "<div>\n",
       "<style scoped>\n",
       "    .dataframe tbody tr th:only-of-type {\n",
       "        vertical-align: middle;\n",
       "    }\n",
       "\n",
       "    .dataframe tbody tr th {\n",
       "        vertical-align: top;\n",
       "    }\n",
       "\n",
       "    .dataframe thead th {\n",
       "        text-align: right;\n",
       "    }\n",
       "</style>\n",
       "<table border=\"1\" class=\"dataframe\">\n",
       "  <thead>\n",
       "    <tr style=\"text-align: right;\">\n",
       "      <th>moresugar</th>\n",
       "      <th>False</th>\n",
       "      <th>True</th>\n",
       "    </tr>\n",
       "    <tr>\n",
       "      <th>morewin</th>\n",
       "      <th></th>\n",
       "      <th></th>\n",
       "    </tr>\n",
       "  </thead>\n",
       "  <tbody>\n",
       "    <tr>\n",
       "      <th>False</th>\n",
       "      <td>27</td>\n",
       "      <td>16</td>\n",
       "    </tr>\n",
       "    <tr>\n",
       "      <th>True</th>\n",
       "      <td>19</td>\n",
       "      <td>23</td>\n",
       "    </tr>\n",
       "  </tbody>\n",
       "</table>\n",
       "</div>"
      ],
      "text/plain": [
       "moresugar  False  True \n",
       "morewin                \n",
       "False         27     16\n",
       "True          19     23"
      ]
     },
     "execution_count": 28,
     "metadata": {},
     "output_type": "execute_result"
    }
   ],
   "source": [
    "ct=pd.crosstab(df_bis['morewin'], df_bis['moresugar'])\n",
    "ct"
   ]
  },
  {
   "cell_type": "markdown",
   "metadata": {
    "colab_type": "text",
    "id": "Q9wJilOGXem2"
   },
   "source": [
    "## Pearson’s Chi-Squared Test\n",
    "\n",
    "The Chi-Squared test is a statistical hypothesis test that assumes (the null hypothesis) that the observed frequencies for a categorical variable match the expected frequencies for the categorical variable. The test calculates a statistic that has a chi-squared distribution.\n",
    "\n",
    "The number of observations for a category (such as more or less then average sugar) may or may not be the same. Nevertheless, we can calculate the expected frequency of observations in each Interest group and see whether the partitioning of interests by Sex results in similar or different frequencies.\n",
    "\n",
    "The Chi-Squared test does this for a contingency table, first calculating the expected frequencies for the groups, then determining whether the division of the groups, called the observed frequencies, matches the expected frequencies.\n",
    "\n",
    "We can interpret the test statistic in the context of the chi-squared distribution with the requisite number of degress of freedom as follows:\n",
    "\n",
    "- If Statistic >= Critical Value: significant result, reject null hypothesis (H0), dependent.\n",
    "- If Statistic < Critical Value: not significant result, fail to reject null hypothesis (H0), independent.\n",
    "\n",
    "In terms of a p-value and a chosen significance level (alpha), the test can be interpreted as follows:\n",
    "\n",
    "- If p-value <= alpha: significant result, reject null hypothesis (H0), dependent.\n",
    "- If p-value > alpha: not significant result, fail to reject null hypothesis (H0), independent.\n",
    "\n",
    "For the test to be effective, at least five observations are required in each cell of the contingency table.\n",
    "\n",
    "Finally, we compute the chi-squared test statistic and the associated p-value. The null hypothesis is the independence between the variables. SciPy implements this test in scipy.stats.chi2_contingency():"
   ]
  },
  {
   "cell_type": "code",
   "execution_count": 29,
   "metadata": {
    "colab": {},
    "colab_type": "code",
    "id": "WzX3R1B3XgAT"
   },
   "outputs": [
    {
     "name": "stdout",
     "output_type": "stream",
     "text": [
      "2.636314786213675 0.10444556540994673 1 [[23.27058824 19.72941176]\n",
      " [22.72941176 19.27058824]]\n"
     ]
    }
   ],
   "source": [
    "import scipy.stats as st\n",
    "stat, p, dof, expected = st.chi2_contingency(ct, correction=False)\n",
    "print(stat, p, dof, expected)"
   ]
  },
  {
   "cell_type": "markdown",
   "metadata": {
    "colab_type": "text",
    "id": "L88F8quRXvFA"
   },
   "source": [
    "The function takes an array as input representing the contingency table for the two categorical variables. It returns the calculated statistic and p-value for interpretation as well as the calculated degrees of freedom and table of expected frequencies.\n",
    "\n",
    "We're interested in the second result, which is the p-value. The p-value is much lower than 0.05, so we reject the null hypothesis and conclude that there is a statistically significant correlation between the proportion of sugar and the proportion of wins in this dataset.\n",
    "\n",
    "We can interpret the statistic by retrieving the critical value from the chi-squared distribution for the probability and number of degrees of freedom.\n",
    "\n",
    "For example, a probability of 90% can be used, suggesting that the finding of the test is quite likely given the assumption of the test that the variable is independent. If the statistic is less than or equal to the critical value, we can fail to reject this assumption, otherwise it can be rejected."
   ]
  },
  {
   "cell_type": "code",
   "execution_count": 30,
   "metadata": {
    "colab": {},
    "colab_type": "code",
    "id": "4w6-q2rwkG8N"
   },
   "outputs": [
    {
     "name": "stdout",
     "output_type": "stream",
     "text": [
      "Independent (fail to reject H0)\n"
     ]
    }
   ],
   "source": [
    "prob = 0.95\n",
    "critical = st.chi2.ppf(prob, dof)\n",
    "if abs(stat) >= critical:\n",
    "\tprint('Dependent (reject H0)')\n",
    "else:\n",
    "\tprint('Independent (fail to reject H0)')"
   ]
  },
  {
   "cell_type": "markdown",
   "metadata": {
    "colab_type": "text",
    "id": "zDSeF-6qk_yB"
   },
   "source": [
    "We can also interpret the p-value by comparing it to a chosen significance level, which would be 10%, calculated by inverting the 90% probability used in the critical value interpretation."
   ]
  },
  {
   "cell_type": "code",
   "execution_count": 31,
   "metadata": {
    "colab": {},
    "colab_type": "code",
    "id": "ZAJITUQhlQP1"
   },
   "outputs": [
    {
     "name": "stdout",
     "output_type": "stream",
     "text": [
      "Independent (fail to reject H0)\n"
     ]
    }
   ],
   "source": [
    "# interpret p-value\n",
    "alpha = 1.0 - prob\n",
    "if p <= alpha:\n",
    "\tprint('Dependent (reject H0)')\n",
    "else:\n",
    "\tprint('Independent (fail to reject H0)')"
   ]
  },
  {
   "cell_type": "code",
   "execution_count": 32,
   "metadata": {
    "colab": {},
    "colab_type": "code",
    "id": "iIRnbSphyneY"
   },
   "outputs": [
    {
     "data": {
      "text/plain": [
       "[{'chocolate': 'Dependent (reject H0)'},\n",
       " {'fruity': 'Dependent (reject H0)'},\n",
       " {'caramel': 'Independent (fail to reject H0)'},\n",
       " {'peanutyalmondy': 'Dependent (reject H0)'},\n",
       " {'nougat': 'Independent (fail to reject H0)'},\n",
       " {'crispedricewafer': 'Dependent (reject H0)'},\n",
       " {'hard': 'Dependent (reject H0)'},\n",
       " {'bar': 'Dependent (reject H0)'},\n",
       " {'pluribus': 'Independent (fail to reject H0)'},\n",
       " {'sugarpercent': 'Independent (fail to reject H0)'},\n",
       " {'pricepercent': 'Dependent (reject H0)'},\n",
       " {'winpercent': 'Dependent (reject H0)'}]"
      ]
     },
     "execution_count": 32,
     "metadata": {},
     "output_type": "execute_result"
    }
   ],
   "source": [
    "def get_reject(column_name,df,prob):\n",
    "  win = \"winpercent\"\n",
    "  df_bis = pd.DataFrame({'win': df[win]/100,'column': df[column_name]}).dropna()\n",
    "  df_bis['morewin'] = (df_bis['win'] > df_bis['win'].median())\n",
    "  df_bis['moreX'] = (df_bis['column'] > df_bis['column'].median())\n",
    "  _,p,_,_=st.chi2_contingency(pd.crosstab(df_bis['morewin'], df_bis['moreX']))\n",
    "  # interpret p-value\n",
    "  alpha = 1.0 - prob\n",
    "  if p <= alpha:\n",
    "    return('Dependent (reject H0)')\n",
    "  else:\n",
    "    return('Independent (fail to reject H0)')\n",
    "  \n",
    "url = 'https://raw.githubusercontent.com/fivethirtyeight/data/master/candy-power-ranking/candy-data.csv'\n",
    "df = pd.read_csv(url, index_col=0)\n",
    "\n",
    "[{i : get_reject(i,df,prob)} for i in df.columns]"
   ]
  },
  {
   "cell_type": "code",
   "execution_count": null,
   "metadata": {
    "colab": {},
    "colab_type": "code",
    "id": "AZZ12KLOcHBf"
   },
   "outputs": [],
   "source": []
  }
 ],
 "metadata": {
  "colab": {
   "include_colab_link": true,
   "name": "Exploring and visualizing.ipynb",
   "provenance": [],
   "toc_visible": true,
   "version": "0.3.2"
  },
  "kernelspec": {
   "display_name": "Python 3",
   "language": "python",
   "name": "python3"
  },
  "language_info": {
   "codemirror_mode": {
    "name": "ipython",
    "version": 3
   },
   "file_extension": ".py",
   "mimetype": "text/x-python",
   "name": "python",
   "nbconvert_exporter": "python",
   "pygments_lexer": "ipython3",
   "version": "3.6.7"
  },
  "nbTranslate": {
   "displayLangs": [
    "de",
    "en"
   ],
   "hotkey": "alt-t",
   "langInMainMenu": true,
   "sourceLang": "en",
   "targetLang": "de",
   "useGoogleTranslate": true
  }
 },
 "nbformat": 4,
 "nbformat_minor": 1
}
